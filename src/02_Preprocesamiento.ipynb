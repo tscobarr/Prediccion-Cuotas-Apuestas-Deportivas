{
 "cells": [
  {
   "cell_type": "markdown",
   "id": "065c78c0",
   "metadata": {},
   "source": [
    "# Preprocesamiento"
   ]
  },
  {
   "cell_type": "code",
   "execution_count": 1,
   "id": "ea916a89",
   "metadata": {},
   "outputs": [],
   "source": [
    "import pandas as pd\n",
    "import numpy as np\n",
    "from sklearn.preprocessing import StandardScaler, LabelEncoder\n",
    "from sklearn.model_selection import train_test_split"
   ]
  },
  {
   "cell_type": "code",
   "execution_count": null,
   "id": "8979754d",
   "metadata": {},
   "outputs": [
    {
     "name": "stdout",
     "output_type": "stream",
     "text": [
      "Shape X: (5600, 36)\n",
      "Shape train: (4480, 36) Shape test: (1120, 36)\n",
      "Target distribution in train:\n",
      " FTR\n",
      "NH    0.535268\n",
      "H     0.464732\n",
      "Name: proportion, dtype: float64\n"
     ]
    }
   ],
   "source": [
    "data = pd.read_csv('final_dataset.csv')\n",
    "\n",
    "# Convertir fechas\n",
    "data['Date'] = pd.to_datetime(data['Date'], format='%Y-%m-%d')\n",
    "\n",
    "# Eliminar primeras 3 jornadas\n",
    "data = data[data['MW'] > 3]\n",
    "\n",
    "# Selección de variables\n",
    "X = data.drop(['FTR', 'Date', 'MW', 'FTHG', 'FTAG', 'HTFormPtsStr', 'ATFormPtsStr'], axis=1, errors='ignore')\n",
    "y = data['FTR']\n",
    "\n",
    "#  Codificación de equipos\n",
    "le_home = LabelEncoder()\n",
    "le_away = LabelEncoder()\n",
    "\n",
    "if 'HomeTeam' in X.columns:\n",
    "    X['HomeTeam'] = le_home.fit_transform(X['HomeTeam'])\n",
    "\n",
    "if 'AwayTeam' in X.columns:\n",
    "    X['AwayTeam'] = le_away.fit_transform(X['AwayTeam'])\n",
    "\n",
    "# Escalado de numéricas\n",
    "scaler = StandardScaler()\n",
    "\n",
    "columns_to_scale = ['HTGD', 'ATGD', 'HTP', 'ATP',\n",
    "                    'DiffPts', 'DiffFormPts', 'DiffLP']\n",
    "\n",
    "X[columns_to_scale] = scaler.fit_transform(X[columns_to_scale])\n",
    "\n",
    "# División train-test\n",
    "X_train, X_test, y_train, y_test = train_test_split(\n",
    "    X, y, test_size=0.2, random_state=42, stratify=y)\n",
    "\n",
    "# Check final\n",
    "print('Shape X:', X.shape)\n",
    "print('Shape train:', X_train.shape, 'Shape test:', X_test.shape)\n",
    "print('Target distribution in train:\\n', y_train.value_counts(normalize=True))\n"
   ]
  }
 ],
 "metadata": {
  "kernelspec": {
   "display_name": ".venv",
   "language": "python",
   "name": "python3"
  },
  "language_info": {
   "codemirror_mode": {
    "name": "ipython",
    "version": 3
   },
   "file_extension": ".py",
   "mimetype": "text/x-python",
   "name": "python",
   "nbconvert_exporter": "python",
   "pygments_lexer": "ipython3",
   "version": "3.11.9"
  }
 },
 "nbformat": 4,
 "nbformat_minor": 5
}
