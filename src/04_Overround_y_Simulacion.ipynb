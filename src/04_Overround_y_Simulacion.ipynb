{
 "cells": [
  {
   "cell_type": "markdown",
   "id": "f02a6c49",
   "metadata": {},
   "source": [
    "# Cálculo de Overround y Simulación de Cuotas\n",
    "\n",
    "## Descripción del Proyecto\n",
    "Este notebook implementa el cálculo de **overround** (margen de ganancia) para convertir las predicciones de machine learning en cuotas de apuestas realistas y coherentes.\n",
    "\n",
    "## Objetivos\n",
    "1. **Convertir predicciones a probabilidades implícitas**\n",
    "2. **Aplicar márgenes de ganancia (overround)**\n",
    "3. **Validar coherencia de las cuotas generadas**\n",
    "4. **Simular escenarios de apuestas**\n",
    "5. **Comparar con cuotas reales del mercado**\n",
    "\n",
    "## Conceptos Clave\n",
    "- **Overround**: Margen de ganancia que asegura beneficio a la casa de apuestas\n",
    "- **Probabilidades implícitas**: Probabilidades que se derivan de las cuotas\n",
    "- **Coherencia**: Las probabilidades deben sumar > 100% para generar ganancia\n",
    "- **Arbitraje**: Situaciones donde las cuotas permiten ganancia garantizada"
   ]
  },
  {
   "cell_type": "code",
   "execution_count": 2,
   "id": "aa46d51e",
   "metadata": {},
   "outputs": [
    {
     "name": "stdout",
     "output_type": "stream",
     "text": [
      "Librerías importadas correctamente\n",
      "Listo para análisis de overround y simulación de cuotas\n"
     ]
    }
   ],
   "source": [
    "# Librerías para manipulación de datos\n",
    "import pandas as pd\n",
    "import numpy as np\n",
    "import warnings\n",
    "warnings.filterwarnings('ignore')\n",
    "\n",
    "# Librerías para visualización\n",
    "import matplotlib.pyplot as plt\n",
    "import seaborn as sns\n",
    "import plotly.express as px\n",
    "import plotly.graph_objects as go\n",
    "from plotly.subplots import make_subplots\n",
    "\n",
    "# Librerías de machine learning (para cargar modelos)\n",
    "import joblib\n",
    "import pickle\n",
    "from sklearn.ensemble import RandomForestRegressor, GradientBoostingRegressor\n",
    "import xgboost as xgb\n",
    "\n",
    "# Librerías para análisis financiero\n",
    "from scipy import stats\n",
    "from scipy.optimize import minimize\n",
    "\n",
    "# Configuración de visualización\n",
    "plt.style.use('seaborn-v0_8')\n",
    "sns.set_palette(\"husl\")\n",
    "pd.set_option('display.max_columns', None)\n",
    "pd.set_option('display.max_rows', 100)\n",
    "\n",
    "print(\"Librerías importadas correctamente\")\n",
    "print(\"Listo para análisis de overround y simulación de cuotas\")"
   ]
  },
  {
   "cell_type": "markdown",
   "id": "731632b4",
   "metadata": {},
   "source": [
    "## 1. Carga de Datos y Predicciones\n",
    "\n",
    "Cargamos los datos de prueba y las predicciones de los mejores modelos del notebook anterior."
   ]
  },
  {
   "cell_type": "code",
   "execution_count": 3,
   "id": "f5396986",
   "metadata": {},
   "outputs": [
    {
     "name": "stdout",
     "output_type": "stream",
     "text": [
      "INFORMACIÓN DE LOS DATOS CARGADOS\n",
      "==================================================\n",
      "Conjunto de prueba: 1200 partidos\n",
      "Características: 69\n",
      "Variables objetivo: ['B365H', 'B365D', 'B365A']\n",
      "\n",
      "Estadísticas de las cuotas reales:\n",
      "          B365H     B365D     B365A\n",
      "count  1200.000  1200.000  1200.000\n",
      "mean      2.980     4.257     5.196\n",
      "std       2.243     1.474     4.813\n",
      "min       1.080     3.000     1.160\n",
      "25%       1.670     3.400     2.400\n",
      "50%       2.250     3.700     3.500\n",
      "75%       3.200     4.500     5.750\n",
      "max      23.000    13.000    34.000\n",
      "\n",
      "Rango de cuotas:\n",
      "B365H: 1.080 - 23.000\n",
      "B365D: 3.000 - 13.000\n",
      "B365A: 1.160 - 34.000\n"
     ]
    }
   ],
   "source": [
    "# Cargar datos de prueba\n",
    "X_test = pd.read_csv('test_features.csv')\n",
    "y_test = pd.read_csv('test_targets.csv')\n",
    "\n",
    "# Eliminar columnas de índice si existen\n",
    "if 'Unnamed: 0' in y_test.columns:\n",
    "    y_test = y_test.drop('Unnamed: 0', axis=1)\n",
    "if 'Unnamed: 0' in X_test.columns:\n",
    "    X_test = X_test.drop('Unnamed: 0', axis=1)\n",
    "\n",
    "# Seleccionar solo las cuotas de Bet365\n",
    "target_columns = ['B365H', 'B365D', 'B365A']\n",
    "y_test_b365 = y_test[target_columns].copy()\n",
    "\n",
    "print(\"INFORMACIÓN DE LOS DATOS CARGADOS\")\n",
    "print(\"=\"*50)\n",
    "print(f\"Conjunto de prueba: {X_test.shape[0]} partidos\")\n",
    "print(f\"Características: {X_test.shape[1]}\")\n",
    "print(f\"Variables objetivo: {list(y_test_b365.columns)}\")\n",
    "\n",
    "print(f\"\\nEstadísticas de las cuotas reales:\")\n",
    "print(y_test_b365.describe().round(3))\n",
    "\n",
    "# Verificar rango de cuotas\n",
    "print(f\"\\nRango de cuotas:\")\n",
    "for col in target_columns:\n",
    "    print(f\"{col}: {y_test_b365[col].min():.3f} - {y_test_b365[col].max():.3f}\")"
   ]
  },
  {
   "cell_type": "markdown",
   "id": "c4067880",
   "metadata": {},
   "source": [
    "Se han cargado correctamente los datos de entrenamiento y se han limpiado para asegurar su calidad.\n",
    "Los modelos XGBoost y Gradient Boosting se han entrenado con parámetros unificados, lo que garantiza consistencia en el proceso de predicción.\n",
    "Cada modelo está especializado en predecir una cuota específica (local, empate, visitante) de Bet365.\n",
    "El proceso permite obtener predicciones robustas y comparables para el análisis posterior de cuotas y márgenes.\n",
    "Los modelos están listos para generar predicciones sobre el conjunto de prueba. "
   ]
  },
  {
   "cell_type": "code",
   "execution_count": 4,
   "id": "8cb7062e",
   "metadata": {},
   "outputs": [
    {
     "name": "stdout",
     "output_type": "stream",
     "text": [
      "RECREANDO LOS MEJORES MODELOS...\n",
      "==================================================\n",
      "Entrenando XGBoost para B365H...\n",
      "Entrenando Gradient Boosting para B365D...\n",
      "Entrenando Gradient Boosting para B365D...\n",
      "Entrenando XGBoost para B365A...\n",
      "Entrenando XGBoost para B365A...\n",
      "Modelos entrenados exitosamente.\n",
      "Modelos entrenados exitosamente.\n"
     ]
    }
   ],
   "source": [
    "# Cargar datos de entrenamiento para recrear los modelos\n",
    "X_train = pd.read_csv('train_features.csv')\n",
    "y_train = pd.read_csv('train_targets.csv')\n",
    "\n",
    "# Limpiar datos de entrenamiento\n",
    "if 'Unnamed: 0' in y_train.columns:\n",
    "    y_train = y_train.drop('Unnamed: 0', axis=1)\n",
    "if 'Unnamed: 0' in X_train.columns:\n",
    "    X_train = X_train.drop('Unnamed: 0', axis=1)\n",
    "\n",
    "y_train_b365 = y_train[target_columns].copy()\n",
    "\n",
    "# Recrear los mejores modelos con parámetros unificados\n",
    "print(\"RECREANDO LOS MEJORES MODELOS...\")\n",
    "print(\"=\"*50)\n",
    "\n",
    "from xgboost import XGBRegressor\n",
    "from sklearn.ensemble import GradientBoostingRegressor\n",
    "\n",
    "# Parámetros unificados para todos los modelos\n",
    "params = {\n",
    "    \"n_estimators\": 100,\n",
    "    \"learning_rate\": 0.1,\n",
    "    \"max_depth\": 6,\n",
    "    \"random_state\": 42\n",
    "}\n",
    "\n",
    "# XGBoost para B365H\n",
    "print(\"Entrenando XGBoost para B365H...\")\n",
    "xgb_h_model = XGBRegressor(**params, subsample=0.8)\n",
    "xgb_h_model.fit(X_train, y_train_b365['B365H'])\n",
    "\n",
    "# Gradient Boosting para B365D  \n",
    "print(\"Entrenando Gradient Boosting para B365D...\")\n",
    "gb_d_model = GradientBoostingRegressor(**params)\n",
    "gb_d_model.fit(X_train, y_train_b365['B365D'])\n",
    "\n",
    "# XGBoost para B365A\n",
    "print(\"Entrenando XGBoost para B365A...\")\n",
    "xgb_a_model = XGBRegressor(**params, subsample=0.8)\n",
    "xgb_a_model.fit(X_train, y_train_b365['B365A'])\n",
    "\n",
    "print(\"Modelos entrenados exitosamente.\")\n"
   ]
  },
  {
   "cell_type": "code",
   "execution_count": 5,
   "id": "bdd9ff70",
   "metadata": {},
   "outputs": [
    {
     "name": "stdout",
     "output_type": "stream",
     "text": [
      "GENERANDO PREDICCIONES...\n",
      "========================================\n",
      "Predicciones generadas para 1200 partidos\n",
      "\n",
      "Estadísticas de las predicciones:\n",
      "       B365H_pred  B365D_pred  B365A_pred\n",
      "count    1200.000    1200.000    1200.000\n",
      "mean        2.808       4.103       4.918\n",
      "std         1.602       0.964       3.641\n",
      "min         1.144       3.219       1.298\n",
      "25%         1.792       3.472       2.609\n",
      "50%         2.304       3.710       3.538\n",
      "75%         3.264       4.326       5.812\n",
      "max        10.990       8.816      20.203\n",
      "\n",
      "Rango de predicciones:\n",
      "B365H: 1.144 - 10.990\n",
      "B365D: 3.219 - 8.816\n",
      "B365A: 1.298 - 20.203\n",
      "\n",
      "Primeras 5 predicciones vs valores reales:\n",
      "   B365H_pred  B365D_pred  B365A_pred  B365H_real  B365D_real  B365A_real\n",
      "0       3.894       3.551       2.075        4.75         3.8        1.80\n",
      "1       4.113       3.740       2.903        3.80         3.6        2.05\n",
      "2       3.057       3.467       2.892        2.45         3.4        3.10\n",
      "3       2.222       3.412       3.089        2.60         3.5        2.80\n",
      "4       1.616       4.020       5.795        1.85         3.8        4.50\n"
     ]
    }
   ],
   "source": [
    "# Generar predicciones con los mejores modelos\n",
    "print(\"GENERANDO PREDICCIONES...\")\n",
    "print(\"=\"*40)\n",
    "\n",
    "# Hacer predicciones\n",
    "pred_b365h = xgb_h_model.predict(X_test)\n",
    "pred_b365d = gb_d_model.predict(X_test)  \n",
    "pred_b365a = xgb_a_model.predict(X_test)\n",
    "\n",
    "# Combinar predicciones en un DataFrame\n",
    "predictions_df = pd.DataFrame({\n",
    "    'B365H_pred': pred_b365h,\n",
    "    'B365D_pred': pred_b365d,\n",
    "    'B365A_pred': pred_b365a,\n",
    "    'B365H_real': y_test_b365['B365H'].values,\n",
    "    'B365D_real': y_test_b365['B365D'].values,\n",
    "    'B365A_real': y_test_b365['B365A'].values\n",
    "})\n",
    "\n",
    "print(f\"Predicciones generadas para {len(predictions_df)} partidos\")\n",
    "print(f\"\\nEstadísticas de las predicciones:\")\n",
    "print(predictions_df[['B365H_pred', 'B365D_pred', 'B365A_pred']].describe().round(3))\n",
    "\n",
    "# Verificar que las predicciones están en un rango razonable\n",
    "print(f\"\\nRango de predicciones:\")\n",
    "print(f\"B365H: {pred_b365h.min():.3f} - {pred_b365h.max():.3f}\")\n",
    "print(f\"B365D: {pred_b365d.min():.3f} - {pred_b365d.max():.3f}\")  \n",
    "print(f\"B365A: {pred_b365a.min():.3f} - {pred_b365a.max():.3f}\")\n",
    "\n",
    "# Mostrar primeras predicciones\n",
    "print(f\"\\nPrimeras 5 predicciones vs valores reales:\")\n",
    "print(predictions_df.head().round(3))"
   ]
  },
  {
   "cell_type": "markdown",
   "id": "4f217ff8",
   "metadata": {},
   "source": [
    "Las predicciones generadas por los modelos muestran una buena correspondencia con los valores reales de las cuotas Bet365.\n",
    "El rango y la distribución de las cuotas predichas son coherentes y cubren adecuadamente la variedad de escenarios presentes en el conjunto de datos.\n",
    "Las diferencias observadas entre las predicciones y los valores reales permiten identificar oportunidades de ajuste y mejora en los modelos, así como validar la robustez del sistema para su aplicación en escenarios de pricing deportivo.\n",
    "En resumen, el sistema de predicción está listo para avanzar a las siguientes etapas de ajuste de márgenes y validación de coherencia."
   ]
  },
  {
   "cell_type": "code",
   "execution_count": 6,
   "id": "90003c34",
   "metadata": {},
   "outputs": [
    {
     "name": "stdout",
     "output_type": "stream",
     "text": [
      "VALIDANDO RANGOS DE PREDICCIONES...\n",
      "=============================================\n",
      "- B365H - Todas las predicciones en rango válido\n",
      "- B365D - Todas las predicciones en rango válido\n",
      "- B365A - Todas las predicciones en rango válido\n",
      "\n",
      "Rangos finales después de validación:\n",
      "B365H: 1.144 - 10.990\n",
      "B365D: 3.219 - 8.816\n",
      "B365A: 1.298 - 20.203\n"
     ]
    }
   ],
   "source": [
    "# Validar y corregir predicciones fuera de rango\n",
    "print(\"VALIDANDO RANGOS DE PREDICCIONES...\")\n",
    "print(\"=\"*45)\n",
    "\n",
    "def validate_and_clip_odds(odds_array, min_odds=1.01, max_odds=100.0):\n",
    "    \"\"\"\n",
    "    Valida y corrige cuotas que están fuera de rangos realistas.\n",
    "    \"\"\"\n",
    "    original_count = len(odds_array)\n",
    "    clipped_odds = np.clip(odds_array, min_odds, max_odds)\n",
    "    \n",
    "    out_of_range_low = np.sum(odds_array < min_odds)\n",
    "    out_of_range_high = np.sum(odds_array > max_odds)\n",
    "    \n",
    "    return clipped_odds, out_of_range_low, out_of_range_high\n",
    "\n",
    "# Validar cada conjunto de predicciones\n",
    "for col, predictions in [('B365H', pred_b365h), ('B365D', pred_b365d), ('B365A', pred_b365a)]:\n",
    "    clipped, low, high = validate_and_clip_odds(predictions)\n",
    "    \n",
    "    if low > 0 or high > 0:\n",
    "        print(f\"ADVERTENCIA {col} - Predicciones corregidas:\")\n",
    "        print(f\"  - Demasiado bajas (< 1.01): {low}\")\n",
    "        print(f\"  - Demasiado altas (> 100): {high}\")\n",
    "        \n",
    "        # Actualizar predicciones\n",
    "        if col == 'B365H':\n",
    "            pred_b365h = clipped\n",
    "            predictions_df['B365H_pred'] = clipped\n",
    "        elif col == 'B365D':\n",
    "            pred_b365d = clipped\n",
    "            predictions_df['B365D_pred'] = clipped\n",
    "        else:\n",
    "            pred_b365a = clipped\n",
    "            predictions_df['B365A_pred'] = clipped\n",
    "    else:\n",
    "        print(f\"- {col} - Todas las predicciones en rango válido\")\n",
    "\n",
    "print(f\"\\nRangos finales después de validación:\")\n",
    "print(f\"B365H: {pred_b365h.min():.3f} - {pred_b365h.max():.3f}\")\n",
    "print(f\"B365D: {pred_b365d.min():.3f} - {pred_b365d.max():.3f}\")\n",
    "print(f\"B365A: {pred_b365a.min():.3f} - {pred_b365a.max():.3f}\")"
   ]
  },
  {
   "cell_type": "markdown",
   "id": "23220c1a",
   "metadata": {},
   "source": [
    "Todas las predicciones generadas por los modelos se encuentran dentro de rangos realistas y válidos para cuotas deportivas.\n",
    "No fue necesario realizar correcciones significativas, lo que indica una buena calibración y robustez de los modelos.\n",
    "Los rangos finales de las cuotas predichas cubren adecuadamente la variedad de escenarios presentes en los datos de Bet365.\n",
    "Esto permite avanzar con confianza a las siguientes etapas de ajuste de márgenes y validación de coherencia, asegurando que el sistema de predicción es fiable para aplicaciones de pricing y análisis de apuestas.\n"
   ]
  },
  {
   "cell_type": "markdown",
   "id": "01f2d708",
   "metadata": {},
   "source": [
    "## 2. Conversión a Probabilidades Implícitas\n",
    "\n",
    "Convertimos las cuotas predichas y reales a probabilidades implícitas para análisis."
   ]
  },
  {
   "cell_type": "code",
   "execution_count": 7,
   "id": "3421c824",
   "metadata": {},
   "outputs": [
    {
     "name": "stdout",
     "output_type": "stream",
     "text": [
      "FUNCIONES DE CONVERSIÓN\n",
      "==============================\n",
      "Cuota 2.5 = 0.400 probabilidad (40.0%)\n",
      "Probabilidad 0.40 (40%) = cuota 2.50\n",
      "\n",
      "Ejemplo overround:\n",
      "Cuotas: H=2.1, D=3.4, A=3.5\n",
      "Overround: 0.0560 (5.60%)\n"
     ]
    }
   ],
   "source": [
    "def odds_to_probability(odds):\n",
    "    \"\"\"\n",
    "    Convierte cuotas decimales a probabilidades implícitas.\n",
    "    \n",
    "    Fórmula: probabilidad = 1 / cuota\n",
    "    \n",
    "    Args:\n",
    "        odds: Cuota decimal (ej: 2.50)\n",
    "    \n",
    "    Returns:\n",
    "        Probabilidad implícita (ej: 0.40 = 40%)\n",
    "    \"\"\"\n",
    "    return 1 / odds\n",
    "\n",
    "def probability_to_odds(probability):\n",
    "    \"\"\"\n",
    "    Convierte probabilidades a cuotas decimales.\n",
    "    \n",
    "    Fórmula: cuota = 1 / probabilidad\n",
    "    \n",
    "    Args:\n",
    "        probability: Probabilidad (ej: 0.40 = 40%)\n",
    "    \n",
    "    Returns:\n",
    "        Cuota decimal (ej: 2.50)\n",
    "    \"\"\"\n",
    "    return 1 / probability\n",
    "\n",
    "def calculate_overround(odds_h, odds_d, odds_a):\n",
    "    \"\"\"\n",
    "    Calcula el overround (margen de ganancia) de un conjunto de cuotas.\n",
    "    \n",
    "    Fórmula: overround = (1/cuota_h + 1/cuota_d + 1/cuota_a) - 1\n",
    "    \n",
    "    Args:\n",
    "        odds_h, odds_d, odds_a: Cuotas para local, empate, visitante\n",
    "    \n",
    "    Returns:\n",
    "        Overround como decimal (ej: 0.05 = 5% margen)\n",
    "    \"\"\"\n",
    "    prob_h = odds_to_probability(odds_h)\n",
    "    prob_d = odds_to_probability(odds_d)\n",
    "    prob_a = odds_to_probability(odds_a)\n",
    "    \n",
    "    total_probability = prob_h + prob_d + prob_a\n",
    "    overround = total_probability - 1\n",
    "    \n",
    "    return overround\n",
    "\n",
    "# Probar las funciones con ejemplos\n",
    "print(\"FUNCIONES DE CONVERSIÓN\")\n",
    "print(\"=\"*30)\n",
    "\n",
    "# Ejemplo: cuota 2.50 = 40% de probabilidad\n",
    "ejemplo_cuota = 2.50\n",
    "ejemplo_prob = odds_to_probability(ejemplo_cuota)\n",
    "print(f\"Cuota {ejemplo_cuota} = {ejemplo_prob:.3f} probabilidad ({ejemplo_prob*100:.1f}%)\")\n",
    "\n",
    "# Ejemplo: 40% probabilidad = cuota 2.50\n",
    "ejemplo_prob_2 = 0.40\n",
    "ejemplo_cuota_2 = probability_to_odds(ejemplo_prob_2)\n",
    "print(f\"Probabilidad {ejemplo_prob_2:.2f} ({ejemplo_prob_2*100:.0f}%) = cuota {ejemplo_cuota_2:.2f}\")\n",
    "\n",
    "# Ejemplo de overround\n",
    "ejemplo_h, ejemplo_d, ejemplo_a = 2.10, 3.40, 3.50\n",
    "ejemplo_overround = calculate_overround(ejemplo_h, ejemplo_d, ejemplo_a)\n",
    "print(f\"\\nEjemplo overround:\")\n",
    "print(f\"Cuotas: H={ejemplo_h}, D={ejemplo_d}, A={ejemplo_a}\")\n",
    "print(f\"Overround: {ejemplo_overround:.4f} ({ejemplo_overround*100:.2f}%)\")"
   ]
  },
  {
   "cell_type": "markdown",
   "id": "e3fdb169",
   "metadata": {},
   "source": [
    "Asi, se definen funciones clave para convertir entre cuotas decimales y probabilidades implícitas,\n",
    "así como para calcular el overround (margen de ganancia) de un conjunto de cuotas. \n",
    "Estas funciones permiten transformar las predicciones de los modelos en probabilidades y cuotas ajustadas,\n",
    "facilitando el análisis de coherencia y rentabilidad en escenarios de apuestas deportivas.\n",
    "Los ejemplos muestran cómo una cuota de 2.5 equivale a una probabilidad del 40%, y cómo el overround se calcula\n",
    "sumando las probabilidades implícitas y restando 1, obteniendo un margen del 5.6% en el ejemplo dado."
   ]
  },
  {
   "cell_type": "code",
   "execution_count": 8,
   "id": "e328eac2",
   "metadata": {},
   "outputs": [
    {
     "name": "stdout",
     "output_type": "stream",
     "text": [
      "CONVERSIÓN A PROBABILIDADES IMPLÍCITAS\n",
      "==================================================\n",
      "Estadísticas de probabilidades implícitas (predicciones):\n",
      "       prob_H_pred  prob_D_pred  prob_A_pred\n",
      "count    1200.0000    1200.0000    1200.0000\n",
      "mean        0.4483       0.2538       0.2999\n",
      "std         0.1888       0.0441       0.1648\n",
      "min         0.0910       0.1134       0.0495\n",
      "25%         0.3064       0.2312       0.1720\n",
      "50%         0.4340       0.2695       0.2826\n",
      "75%         0.5580       0.2880       0.3832\n",
      "max         0.8744       0.3106       0.7701\n",
      "\n",
      "Estadísticas de probabilidades implícitas (reales):\n",
      "       prob_H_real  prob_D_real  prob_A_real\n",
      "count    1200.0000    1200.0000    1200.0000\n",
      "mean        0.4593       0.2531       0.3171\n",
      "std         0.2100       0.0561       0.1883\n",
      "min         0.0435       0.0769       0.0294\n",
      "25%         0.3125       0.2222       0.1739\n",
      "50%         0.4444       0.2703       0.2857\n",
      "75%         0.5988       0.2941       0.4167\n",
      "max         0.9259       0.3333       0.8621\n",
      "\n",
      "Estadísticas de overround:\n",
      "Overround predicciones: count    1200.0000\n",
      "mean        0.0020\n",
      "std         0.0526\n",
      "min        -0.3546\n",
      "25%        -0.0206\n",
      "50%         0.0114\n",
      "75%         0.0344\n",
      "max         0.1414\n",
      "Name: overround_pred, dtype: float64\n",
      "Overround real: count    1200.0000\n",
      "mean        0.0295\n",
      "std         0.0110\n",
      "min         0.0169\n",
      "25%         0.0242\n",
      "50%         0.0264\n",
      "75%         0.0292\n",
      "max         0.0721\n",
      "Name: overround_real, dtype: float64\n",
      "\n",
      "Suma de probabilidades:\n",
      "Predicciones - Media: 1.0020, Min: 0.6454, Max: 1.1414\n",
      "Reales - Media: 1.0295, Min: 1.0169, Max: 1.0721\n",
      "Estadísticas de probabilidades implícitas (predicciones):\n",
      "       prob_H_pred  prob_D_pred  prob_A_pred\n",
      "count    1200.0000    1200.0000    1200.0000\n",
      "mean        0.4483       0.2538       0.2999\n",
      "std         0.1888       0.0441       0.1648\n",
      "min         0.0910       0.1134       0.0495\n",
      "25%         0.3064       0.2312       0.1720\n",
      "50%         0.4340       0.2695       0.2826\n",
      "75%         0.5580       0.2880       0.3832\n",
      "max         0.8744       0.3106       0.7701\n",
      "\n",
      "Estadísticas de probabilidades implícitas (reales):\n",
      "       prob_H_real  prob_D_real  prob_A_real\n",
      "count    1200.0000    1200.0000    1200.0000\n",
      "mean        0.4593       0.2531       0.3171\n",
      "std         0.2100       0.0561       0.1883\n",
      "min         0.0435       0.0769       0.0294\n",
      "25%         0.3125       0.2222       0.1739\n",
      "50%         0.4444       0.2703       0.2857\n",
      "75%         0.5988       0.2941       0.4167\n",
      "max         0.9259       0.3333       0.8621\n",
      "\n",
      "Estadísticas de overround:\n",
      "Overround predicciones: count    1200.0000\n",
      "mean        0.0020\n",
      "std         0.0526\n",
      "min        -0.3546\n",
      "25%        -0.0206\n",
      "50%         0.0114\n",
      "75%         0.0344\n",
      "max         0.1414\n",
      "Name: overround_pred, dtype: float64\n",
      "Overround real: count    1200.0000\n",
      "mean        0.0295\n",
      "std         0.0110\n",
      "min         0.0169\n",
      "25%         0.0242\n",
      "50%         0.0264\n",
      "75%         0.0292\n",
      "max         0.0721\n",
      "Name: overround_real, dtype: float64\n",
      "\n",
      "Suma de probabilidades:\n",
      "Predicciones - Media: 1.0020, Min: 0.6454, Max: 1.1414\n",
      "Reales - Media: 1.0295, Min: 1.0169, Max: 1.0721\n"
     ]
    }
   ],
   "source": [
    "# Convertir todas las cuotas a probabilidades implícitas\n",
    "print(\"CONVERSIÓN A PROBABILIDADES IMPLÍCITAS\")\n",
    "print(\"=\"*50)\n",
    "\n",
    "# Probabilidades de las predicciones\n",
    "predictions_df['prob_H_pred'] = odds_to_probability(predictions_df['B365H_pred'])\n",
    "predictions_df['prob_D_pred'] = odds_to_probability(predictions_df['B365D_pred'])\n",
    "predictions_df['prob_A_pred'] = odds_to_probability(predictions_df['B365A_pred'])\n",
    "\n",
    "# Probabilidades de los valores reales\n",
    "predictions_df['prob_H_real'] = odds_to_probability(predictions_df['B365H_real'])\n",
    "predictions_df['prob_D_real'] = odds_to_probability(predictions_df['B365D_real'])\n",
    "predictions_df['prob_A_real'] = odds_to_probability(predictions_df['B365A_real'])\n",
    "\n",
    "# Calcular overround para predicciones y valores reales\n",
    "predictions_df['overround_pred'] = predictions_df.apply(\n",
    "    lambda row: calculate_overround(row['B365H_pred'], row['B365D_pred'], row['B365A_pred']), \n",
    "    axis=1\n",
    ")\n",
    "\n",
    "predictions_df['overround_real'] = predictions_df.apply(\n",
    "    lambda row: calculate_overround(row['B365H_real'], row['B365D_real'], row['B365A_real']), \n",
    "    axis=1\n",
    ")\n",
    "\n",
    "print(\"Estadísticas de probabilidades implícitas (predicciones):\")\n",
    "prob_cols_pred = ['prob_H_pred', 'prob_D_pred', 'prob_A_pred']\n",
    "print(predictions_df[prob_cols_pred].describe().round(4))\n",
    "\n",
    "print(\"\\nEstadísticas de probabilidades implícitas (reales):\")\n",
    "prob_cols_real = ['prob_H_real', 'prob_D_real', 'prob_A_real'] \n",
    "print(predictions_df[prob_cols_real].describe().round(4))\n",
    "\n",
    "print(f\"\\nEstadísticas de overround:\")\n",
    "print(f\"Overround predicciones: {predictions_df['overround_pred'].describe().round(4)}\")\n",
    "print(f\"Overround real: {predictions_df['overround_real'].describe().round(4)}\")\n",
    "\n",
    "# Verificar que las probabilidades suman más de 1 (indicando overround positivo)\n",
    "sum_prob_pred = predictions_df[prob_cols_pred].sum(axis=1)\n",
    "sum_prob_real = predictions_df[prob_cols_real].sum(axis=1)\n",
    "\n",
    "print(f\"\\nSuma de probabilidades:\")\n",
    "print(f\"Predicciones - Media: {sum_prob_pred.mean():.4f}, Min: {sum_prob_pred.min():.4f}, Max: {sum_prob_pred.max():.4f}\")\n",
    "print(f\"Reales - Media: {sum_prob_real.mean():.4f}, Min: {sum_prob_real.min():.4f}, Max: {sum_prob_real.max():.4f}\")"
   ]
  },
  {
   "cell_type": "markdown",
   "id": "4da071af",
   "metadata": {},
   "source": [
    "Los modelos que se entrenaron lograron predecir adecuadamente las probabilidades implícitas, especialmente en el caso del empate, donde las estadísticas predichas y reales son prácticamente iguales. Para las victorias locales y visitantes, las predicciones también son bastante cercanas a los valores reales. No obstante, el overround predicho muestra una alta variabilidad e incluso valores negativos en algunos casos, lo que indica que las probabilidades no siempre suman 1 o podrían generar pérdidas. Aunque en promedio las predicciones suman 1.002, es necesario aplicar un ajuste de overround para asegurar un margen consistente, como el real (alrededor del 3%), y garantizar la viabilidad del modelo como sistema generador de cuotas.\n"
   ]
  },
  {
   "cell_type": "markdown",
   "id": "f6533614",
   "metadata": {},
   "source": [
    "## 3. Aplicación de Márgenes de Ganancia (Overround)\n",
    "\n",
    "Aplicamos diferentes estrategias para ajustar las probabilidades e incluir márgenes de ganancia realistas."
   ]
  },
  {
   "cell_type": "code",
   "execution_count": 9,
   "id": "9289a2f7",
   "metadata": {},
   "outputs": [
    {
     "name": "stdout",
     "output_type": "stream",
     "text": [
      "MÉTODOS DE APLICACIÓN DE MÁRGENES\n",
      "========================================\n",
      "Probabilidades originales:\n",
      "Local: 0.450 (45.0%)\n",
      "Empate: 0.250 (25.0%)\n",
      "Visitante: 0.300 (30.0%)\n",
      "Total: 1.000\n",
      "\n",
      "1. MARGEN PROPORCIONAL (5%):\n",
      "Cuotas: H=2.12, D=3.81, A=3.17\n",
      "Overround: 5.00%\n",
      "\n",
      "2. MARGEN UNIFORME (5%):\n",
      "Cuotas: H=2.14, D=3.75, A=3.16\n",
      "Overround: 5.00%\n",
      "\n",
      "3. MARGEN INVERSO-PROPORCIONAL (5%):\n",
      "Cuotas: H=2.17, D=3.69, A=3.15\n",
      "Overround: 5.00%\n"
     ]
    }
   ],
   "source": [
    "def apply_proportional_margin(prob_h, prob_d, prob_a, target_margin=0.05):\n",
    "    \"\"\"\n",
    "    Aplica un margen de ganancia proporcional a las probabilidades.\n",
    "    \n",
    "    El margen se distribuye proporcionalmente entre todos los resultados.\n",
    "    \n",
    "    Args:\n",
    "        prob_h, prob_d, prob_a: Probabilidades originales\n",
    "        target_margin: Margen objetivo (ej: 0.05 = 5%)\n",
    "    \n",
    "    Returns:\n",
    "        Tupla con (prob_h_adj, prob_d_adj, prob_a_adj, cuotas_adj)\n",
    "    \"\"\"\n",
    "    # Normalizar probabilidades para que sumen 1\n",
    "    total_prob = prob_h + prob_d + prob_a\n",
    "    prob_h_norm = prob_h / total_prob\n",
    "    prob_d_norm = prob_d / total_prob  \n",
    "    prob_a_norm = prob_a / total_prob\n",
    "    \n",
    "    # Aplicar margen proporcionalmente\n",
    "    margin_factor = 1 + target_margin\n",
    "    prob_h_adj = prob_h_norm * margin_factor\n",
    "    prob_d_adj = prob_d_norm * margin_factor\n",
    "    prob_a_adj = prob_a_norm * margin_factor\n",
    "    \n",
    "    # Convertir a cuotas\n",
    "    odds_h_adj = probability_to_odds(prob_h_adj)\n",
    "    odds_d_adj = probability_to_odds(prob_d_adj)\n",
    "    odds_a_adj = probability_to_odds(prob_a_adj)\n",
    "    \n",
    "    return prob_h_adj, prob_d_adj, prob_a_adj, odds_h_adj, odds_d_adj, odds_a_adj\n",
    "\n",
    "def apply_uniform_margin(prob_h, prob_d, prob_a, target_margin=0.05):\n",
    "    \"\"\"\n",
    "    Aplica un margen uniforme a todas las probabilidades.\n",
    "    \n",
    "    Cada probabilidad se incrementa por la misma cantidad.\n",
    "    \n",
    "    Args:\n",
    "        prob_h, prob_d, prob_a: Probabilidades originales\n",
    "        target_margin: Margen objetivo total\n",
    "    \n",
    "    Returns:\n",
    "        Tupla con probabilidades y cuotas ajustadas\n",
    "    \"\"\"\n",
    "    # Normalizar probabilidades\n",
    "    total_prob = prob_h + prob_d + prob_a\n",
    "    prob_h_norm = prob_h / total_prob\n",
    "    prob_d_norm = prob_d / total_prob\n",
    "    prob_a_norm = prob_a / total_prob\n",
    "    \n",
    "    # Aplicar margen uniforme\n",
    "    margin_per_outcome = target_margin / 3\n",
    "    prob_h_adj = prob_h_norm + margin_per_outcome\n",
    "    prob_d_adj = prob_d_norm + margin_per_outcome\n",
    "    prob_a_adj = prob_a_norm + margin_per_outcome\n",
    "    \n",
    "    # Convertir a cuotas\n",
    "    odds_h_adj = probability_to_odds(prob_h_adj)\n",
    "    odds_d_adj = probability_to_odds(prob_d_adj)\n",
    "    odds_a_adj = probability_to_odds(prob_a_adj)\n",
    "    \n",
    "    return prob_h_adj, prob_d_adj, prob_a_adj, odds_h_adj, odds_d_adj, odds_a_adj\n",
    "\n",
    "def apply_inverse_proportional_margin(prob_h, prob_d, prob_a, target_margin=0.05):\n",
    "    \"\"\"\n",
    "    Aplica mayor margen a probabilidades menores (resultados menos probables).\n",
    "    \n",
    "    Esta estrategia protege más a la casa de apuestas en eventos improbables.\n",
    "    \n",
    "    Args:\n",
    "        prob_h, prob_d, prob_a: Probabilidades originales\n",
    "        target_margin: Margen objetivo total\n",
    "    \n",
    "    Returns:\n",
    "        Tupla con probabilidades y cuotas ajustadas\n",
    "    \"\"\"\n",
    "    # Normalizar probabilidades\n",
    "    total_prob = prob_h + prob_d + prob_a\n",
    "    prob_h_norm = prob_h / total_prob\n",
    "    prob_d_norm = prob_d / total_prob\n",
    "    prob_a_norm = prob_a / total_prob\n",
    "    \n",
    "    # Calcular factores de ajuste inversamente proporcionales\n",
    "    probs = np.array([prob_h_norm, prob_d_norm, prob_a_norm])\n",
    "    inverse_weights = 1 / probs\n",
    "    inverse_weights = inverse_weights / inverse_weights.sum()\n",
    "    \n",
    "    # Distribuir el margen según los pesos inversos\n",
    "    margin_distribution = target_margin * inverse_weights\n",
    "    \n",
    "    prob_h_adj = prob_h_norm + margin_distribution[0]\n",
    "    prob_d_adj = prob_d_norm + margin_distribution[1]\n",
    "    prob_a_adj = prob_a_norm + margin_distribution[2]\n",
    "    \n",
    "    # Convertir a cuotas\n",
    "    odds_h_adj = probability_to_odds(prob_h_adj)\n",
    "    odds_d_adj = probability_to_odds(prob_d_adj)\n",
    "    odds_a_adj = probability_to_odds(prob_a_adj)\n",
    "    \n",
    "    return prob_h_adj, prob_d_adj, prob_a_adj, odds_h_adj, odds_d_adj, odds_a_adj\n",
    "\n",
    "# Probar las funciones con un ejemplo\n",
    "print(\"MÉTODOS DE APLICACIÓN DE MÁRGENES\")\n",
    "print(\"=\"*40)\n",
    "\n",
    "# Ejemplo: probabilidades \"justas\" que suman 1\n",
    "ejemplo_prob_h = 0.45  # 45% local\n",
    "ejemplo_prob_d = 0.25  # 25% empate\n",
    "ejemplo_prob_a = 0.30  # 30% visitante\n",
    "\n",
    "print(f\"Probabilidades originales:\")\n",
    "print(f\"Local: {ejemplo_prob_h:.3f} ({ejemplo_prob_h*100:.1f}%)\")\n",
    "print(f\"Empate: {ejemplo_prob_d:.3f} ({ejemplo_prob_d*100:.1f}%)\")\n",
    "print(f\"Visitante: {ejemplo_prob_a:.3f} ({ejemplo_prob_a*100:.1f}%)\")\n",
    "print(f\"Total: {ejemplo_prob_h + ejemplo_prob_d + ejemplo_prob_a:.3f}\")\n",
    "\n",
    "target_margin = 0.05  # 5% margen\n",
    "\n",
    "print(f\"\\n1. MARGEN PROPORCIONAL ({target_margin*100:.0f}%):\")\n",
    "result_prop = apply_proportional_margin(ejemplo_prob_h, ejemplo_prob_d, ejemplo_prob_a, target_margin)\n",
    "prob_h_prop, prob_d_prop, prob_a_prop, odds_h_prop, odds_d_prop, odds_a_prop = result_prop\n",
    "print(f\"Cuotas: H={odds_h_prop:.2f}, D={odds_d_prop:.2f}, A={odds_a_prop:.2f}\")\n",
    "print(f\"Overround: {calculate_overround(odds_h_prop, odds_d_prop, odds_a_prop)*100:.2f}%\")\n",
    "\n",
    "print(f\"\\n2. MARGEN UNIFORME ({target_margin*100:.0f}%):\")\n",
    "result_unif = apply_uniform_margin(ejemplo_prob_h, ejemplo_prob_d, ejemplo_prob_a, target_margin)\n",
    "prob_h_unif, prob_d_unif, prob_a_unif, odds_h_unif, odds_d_unif, odds_a_unif = result_unif\n",
    "print(f\"Cuotas: H={odds_h_unif:.2f}, D={odds_d_unif:.2f}, A={odds_a_unif:.2f}\")\n",
    "print(f\"Overround: {calculate_overround(odds_h_unif, odds_d_unif, odds_a_unif)*100:.2f}%\")\n",
    "\n",
    "print(f\"\\n3. MARGEN INVERSO-PROPORCIONAL ({target_margin*100:.0f}%):\")\n",
    "result_inv = apply_inverse_proportional_margin(ejemplo_prob_h, ejemplo_prob_d, ejemplo_prob_a, target_margin)\n",
    "prob_h_inv, prob_d_inv, prob_a_inv, odds_h_inv, odds_d_inv, odds_a_inv = result_inv\n",
    "print(f\"Cuotas: H={odds_h_inv:.2f}, D={odds_d_inv:.2f}, A={odds_a_inv:.2f}\")\n",
    "print(f\"Overround: {calculate_overround(odds_h_inv, odds_d_inv, odds_a_inv)*100:.2f}%\")"
   ]
  },
  {
   "cell_type": "markdown",
   "id": "300777f3",
   "metadata": {},
   "source": [
    "Los modelos generaron probabilidades justas, por lo que se aplicó un margen del 5% usando tres métodos. El **margen proporcional** distribuye el margen según las probabilidades originales; el **uniforme** lo reparte por igual; y el **inverso-proporcional** carga más margen a los resultados menos probables. En todos los casos, el overround resultó en 5%, asegurando cuotas viables para una casa de apuestas.\n"
   ]
  },
  {
   "cell_type": "code",
   "execution_count": 10,
   "id": "b7796c9a",
   "metadata": {},
   "outputs": [
    {
     "name": "stdout",
     "output_type": "stream",
     "text": [
      "\n",
      "4. MARGEN ADAPTATIVO:\n",
      "Cuotas: H=2.06, D=3.71, A=3.09\n",
      "Margen adaptativo: 7.91%\n",
      "Overround: 7.91%\n",
      "\n",
      "5. MARGEN KELLY-OPTIMIZADO:\n",
      "Cuotas: H=2.14, D=3.86, A=3.22\n",
      "Margen Kelly: 3.60%\n",
      "Overround: 3.60%\n"
     ]
    }
   ],
   "source": [
    "def apply_adaptive_margin(prob_h, prob_d, prob_a, base_margin=0.05, confidence_factor=1.0):\n",
    "    \"\"\"\n",
    "    Aplica un margen adaptativo basado en la confianza de las predicciones.\n",
    "    \n",
    "    Cuanta mayor incertidumbre (probabilidades más equilibradas), mayor margen.\n",
    "    \n",
    "    Args:\n",
    "        prob_h, prob_d, prob_a: Probabilidades originales\n",
    "        base_margin: Margen base mínimo\n",
    "        confidence_factor: Factor de ajuste por confianza\n",
    "    \n",
    "    Returns:\n",
    "        Tupla con probabilidades y cuotas ajustadas\n",
    "    \"\"\"\n",
    "    # Normalizar probabilidades\n",
    "    total_prob = prob_h + prob_d + prob_a\n",
    "    prob_h_norm = prob_h / total_prob\n",
    "    prob_d_norm = prob_d / total_prob\n",
    "    prob_a_norm = prob_a / total_prob\n",
    "    \n",
    "    # Calcular entropía como medida de incertidumbre\n",
    "    probs = np.array([prob_h_norm, prob_d_norm, prob_a_norm])\n",
    "    probs = np.clip(probs, 1e-10, 1)  # Evitar log(0)\n",
    "    entropy = -np.sum(probs * np.log(probs))\n",
    "    max_entropy = np.log(3)  # Máxima entropía para 3 resultados\n",
    "    uncertainty = entropy / max_entropy\n",
    "    \n",
    "    # Ajustar margen basado en incertidumbre\n",
    "    adaptive_margin = base_margin + (uncertainty * confidence_factor * 0.03)  # Max 3% adicional\n",
    "    \n",
    "    # Aplicar margen proporcionalmente\n",
    "    margin_factor = 1 + adaptive_margin\n",
    "    prob_h_adj = prob_h_norm * margin_factor\n",
    "    prob_d_adj = prob_d_norm * margin_factor\n",
    "    prob_a_adj = prob_a_norm * margin_factor\n",
    "    \n",
    "    # Convertir a cuotas\n",
    "    odds_h_adj = probability_to_odds(prob_h_adj)\n",
    "    odds_d_adj = probability_to_odds(prob_d_adj)\n",
    "    odds_a_adj = probability_to_odds(prob_a_adj)\n",
    "    \n",
    "    return prob_h_adj, prob_d_adj, prob_a_adj, odds_h_adj, odds_d_adj, odds_a_adj, adaptive_margin\n",
    "\n",
    "def apply_kelly_optimal_margin(prob_h, prob_d, prob_a, risk_tolerance=0.1):\n",
    "    \"\"\"\n",
    "    Aplica márgenes optimizados usando principios del criterio de Kelly.\n",
    "    \n",
    "    Ajusta márgenes basado en el riesgo y la ventaja esperada.\n",
    "    \"\"\"\n",
    "    # Normalizar probabilidades\n",
    "    total_prob = prob_h + prob_d + prob_a\n",
    "    prob_h_norm = prob_h / total_prob\n",
    "    prob_d_norm = prob_d / total_prob\n",
    "    prob_a_norm = prob_a / total_prob\n",
    "    \n",
    "    # Calcular varianza como medida de riesgo\n",
    "    probs = np.array([prob_h_norm, prob_d_norm, prob_a_norm])\n",
    "    variance = np.var(probs)\n",
    "    \n",
    "    # Margen base inversamente proporcional a la confianza\n",
    "    base_margin = 0.02 + (variance * risk_tolerance)\n",
    "    \n",
    "    # Aplicar margen con ajuste por resultado menos probable (mayor protección)\n",
    "    min_prob = np.min(probs)\n",
    "    protection_factor = 1 + (1 - min_prob) * 0.02  # Hasta 2% adicional\n",
    "    \n",
    "    margin_factor = (1 + base_margin) * protection_factor\n",
    "    prob_h_adj = prob_h_norm * margin_factor\n",
    "    prob_d_adj = prob_d_norm * margin_factor\n",
    "    prob_a_adj = prob_a_norm * margin_factor\n",
    "    \n",
    "    # Convertir a cuotas\n",
    "    odds_h_adj = probability_to_odds(prob_h_adj)\n",
    "    odds_d_adj = probability_to_odds(prob_d_adj)\n",
    "    odds_a_adj = probability_to_odds(prob_a_adj)\n",
    "    \n",
    "    final_margin = (prob_h_adj + prob_d_adj + prob_a_adj) - 1\n",
    "    \n",
    "    return prob_h_adj, prob_d_adj, prob_a_adj, odds_h_adj, odds_d_adj, odds_a_adj, final_margin\n",
    "\n",
    "# Probar los nuevos métodos\n",
    "print(f\"\\n4. MARGEN ADAPTATIVO:\")\n",
    "result_adapt = apply_adaptive_margin(ejemplo_prob_h, ejemplo_prob_d, ejemplo_prob_a)\n",
    "prob_h_adapt, prob_d_adapt, prob_a_adapt, odds_h_adapt, odds_d_adapt, odds_a_adapt, margin_adapt = result_adapt\n",
    "print(f\"Cuotas: H={odds_h_adapt:.2f}, D={odds_d_adapt:.2f}, A={odds_a_adapt:.2f}\")\n",
    "print(f\"Margen adaptativo: {margin_adapt*100:.2f}%\")\n",
    "print(f\"Overround: {calculate_overround(odds_h_adapt, odds_d_adapt, odds_a_adapt)*100:.2f}%\")\n",
    "\n",
    "print(f\"\\n5. MARGEN KELLY-OPTIMIZADO:\")\n",
    "result_kelly = apply_kelly_optimal_margin(ejemplo_prob_h, ejemplo_prob_d, ejemplo_prob_a)\n",
    "prob_h_kelly, prob_d_kelly, prob_a_kelly, odds_h_kelly, odds_d_kelly, odds_a_kelly, margin_kelly = result_kelly\n",
    "print(f\"Cuotas: H={odds_h_kelly:.2f}, D={odds_d_kelly:.2f}, A={odds_a_kelly:.2f}\")\n",
    "print(f\"Margen Kelly: {margin_kelly*100:.2f}%\")\n",
    "print(f\"Overround: {calculate_overround(odds_h_kelly, odds_d_kelly, odds_a_kelly)*100:.2f}%\")"
   ]
  },
  {
   "cell_type": "markdown",
   "id": "f562ad9d",
   "metadata": {},
   "source": [
    "También se aplicaron dos métodos dinámicos. El **margen adaptativo** ajusta el overround según la distribución de probabilidades, resultando en un margen del 7.91%, más alto que los métodos anteriores. Por otro lado, el **margen Kelly-optimizado** calcula el margen óptimo para maximizar ganancias ajustadas al riesgo, logrando un overround más conservador del 3.60%. Ambos métodos permiten adaptar las cuotas de forma más estratégica según el contexto del partido."
   ]
  },
  {
   "cell_type": "code",
   "execution_count": 11,
   "id": "873761b8",
   "metadata": {},
   "outputs": [
    {
     "name": "stdout",
     "output_type": "stream",
     "text": [
      "APLICANDO MÁRGENES A TODAS LAS PREDICCIONES\n",
      "==================================================\n",
      "Overround promedio de cuotas reales: 2.95%\n",
      "\n",
      "Aplicando margen proporcional (2.95%)...\n",
      "Overround promedio después de ajuste proporcional: 2.95%\n",
      "\n",
      "Aplicando margen uniforme (2.95%)...\n",
      "Overround promedio después de ajuste uniforme: 2.95%\n",
      "\n",
      "Estadísticas de cuotas ajustadas (método proporcional):\n",
      "       prop_odds_H_adj  prop_odds_D_adj  prop_odds_A_adj\n",
      "count         1200.000         1200.000         1200.000\n",
      "mean             2.728            3.992            4.788\n",
      "std              1.570            0.964            3.595\n",
      "min              1.170            2.835            1.371\n",
      "25%              1.693            3.399            2.471\n",
      "50%              2.255            3.589            3.442\n",
      "75%              3.073            4.167            5.547\n",
      "max             10.164            8.464           20.718\n",
      "\n",
      "Comparación primeras 5 predicciones:\n",
      "   B365H_pred  B365D_pred  B365A_pred  prop_odds_H_adj  prop_odds_D_adj  \\\n",
      "0       3.894       3.551       2.075            3.859            3.519   \n",
      "1       4.113       3.740       2.903            3.416            3.106   \n",
      "2       3.057       3.467       2.892            2.854            3.238   \n",
      "3       2.222       3.412       3.089            2.303            3.536   \n",
      "4       1.616       4.020       5.795            1.633            4.061   \n",
      "\n",
      "   prop_odds_A_adj  B365H_real  B365D_real  B365A_real  \n",
      "0            2.057        4.75         3.8        1.80  \n",
      "1            2.411        3.80         3.6        2.05  \n",
      "2            2.701        2.45         3.4        3.10  \n",
      "3            3.201        2.60         3.5        2.80  \n",
      "4            5.854        1.85         3.8        4.50  \n",
      "Overround promedio después de ajuste uniforme: 2.95%\n",
      "\n",
      "Estadísticas de cuotas ajustadas (método proporcional):\n",
      "       prop_odds_H_adj  prop_odds_D_adj  prop_odds_A_adj\n",
      "count         1200.000         1200.000         1200.000\n",
      "mean             2.728            3.992            4.788\n",
      "std              1.570            0.964            3.595\n",
      "min              1.170            2.835            1.371\n",
      "25%              1.693            3.399            2.471\n",
      "50%              2.255            3.589            3.442\n",
      "75%              3.073            4.167            5.547\n",
      "max             10.164            8.464           20.718\n",
      "\n",
      "Comparación primeras 5 predicciones:\n",
      "   B365H_pred  B365D_pred  B365A_pred  prop_odds_H_adj  prop_odds_D_adj  \\\n",
      "0       3.894       3.551       2.075            3.859            3.519   \n",
      "1       4.113       3.740       2.903            3.416            3.106   \n",
      "2       3.057       3.467       2.892            2.854            3.238   \n",
      "3       2.222       3.412       3.089            2.303            3.536   \n",
      "4       1.616       4.020       5.795            1.633            4.061   \n",
      "\n",
      "   prop_odds_A_adj  B365H_real  B365D_real  B365A_real  \n",
      "0            2.057        4.75         3.8        1.80  \n",
      "1            2.411        3.80         3.6        2.05  \n",
      "2            2.701        2.45         3.4        3.10  \n",
      "3            3.201        2.60         3.5        2.80  \n",
      "4            5.854        1.85         3.8        4.50  \n"
     ]
    }
   ],
   "source": [
    "# Aplicar diferentes márgenes a todas las predicciones\n",
    "print(\"APLICANDO MÁRGENES A TODAS LAS PREDICCIONES\")\n",
    "print(\"=\"*50)\n",
    "\n",
    "# Analizar el overround promedio de las cuotas reales para usar como referencia\n",
    "overround_real_promedio = predictions_df['overround_real'].mean()\n",
    "print(f\"Overround promedio de cuotas reales: {overround_real_promedio*100:.2f}%\")\n",
    "\n",
    "# Usaremos este valor como target para nuestros márgenes\n",
    "target_margin = overround_real_promedio\n",
    "\n",
    "# Aplicar margen proporcional a todas las predicciones\n",
    "print(f\"\\nAplicando margen proporcional ({target_margin*100:.2f}%)...\")\n",
    "\n",
    "results_proportional = []\n",
    "for idx, row in predictions_df.iterrows():\n",
    "    result = apply_proportional_margin(\n",
    "        row['prob_H_pred'], \n",
    "        row['prob_D_pred'], \n",
    "        row['prob_A_pred'], \n",
    "        target_margin\n",
    "    )\n",
    "    prob_h_adj, prob_d_adj, prob_a_adj, odds_h_adj, odds_d_adj, odds_a_adj = result\n",
    "    \n",
    "    results_proportional.append({\n",
    "        'prob_H_adj': prob_h_adj,\n",
    "        'prob_D_adj': prob_d_adj,\n",
    "        'prob_A_adj': prob_a_adj,\n",
    "        'odds_H_adj': odds_h_adj,\n",
    "        'odds_D_adj': odds_d_adj,\n",
    "        'odds_A_adj': odds_a_adj\n",
    "    })\n",
    "\n",
    "# Convertir a DataFrame y agregar a predictions_df\n",
    "results_prop_df = pd.DataFrame(results_proportional)\n",
    "for col in results_prop_df.columns:\n",
    "    predictions_df[f'prop_{col}'] = results_prop_df[col]\n",
    "\n",
    "# Calcular overround de las cuotas ajustadas\n",
    "predictions_df['overround_prop_adj'] = predictions_df.apply(\n",
    "    lambda row: calculate_overround(row['prop_odds_H_adj'], row['prop_odds_D_adj'], row['prop_odds_A_adj']), \n",
    "    axis=1\n",
    ")\n",
    "\n",
    "print(f\"Overround promedio después de ajuste proporcional: {predictions_df['overround_prop_adj'].mean()*100:.2f}%\")\n",
    "\n",
    "# Aplicar margen uniforme\n",
    "print(f\"\\nAplicando margen uniforme ({target_margin*100:.2f}%)...\")\n",
    "\n",
    "results_uniform = []\n",
    "for idx, row in predictions_df.iterrows():\n",
    "    result = apply_uniform_margin(\n",
    "        row['prob_H_pred'], \n",
    "        row['prob_D_pred'], \n",
    "        row['prob_A_pred'], \n",
    "        target_margin\n",
    "    )\n",
    "    prob_h_adj, prob_d_adj, prob_a_adj, odds_h_adj, odds_d_adj, odds_a_adj = result\n",
    "    \n",
    "    results_uniform.append({\n",
    "        'prob_H_adj': prob_h_adj,\n",
    "        'prob_D_adj': prob_d_adj,\n",
    "        'prob_A_adj': prob_a_adj,\n",
    "        'odds_H_adj': odds_h_adj,\n",
    "        'odds_D_adj': odds_d_adj,\n",
    "        'odds_A_adj': odds_a_adj\n",
    "    })\n",
    "\n",
    "# Convertir a DataFrame y agregar a predictions_df\n",
    "results_unif_df = pd.DataFrame(results_uniform)\n",
    "for col in results_unif_df.columns:\n",
    "    predictions_df[f'unif_{col}'] = results_unif_df[col]\n",
    "\n",
    "# Calcular overround de las cuotas ajustadas uniformemente\n",
    "predictions_df['overround_unif_adj'] = predictions_df.apply(\n",
    "    lambda row: calculate_overround(row['unif_odds_H_adj'], row['unif_odds_D_adj'], row['unif_odds_A_adj']), \n",
    "    axis=1\n",
    ")\n",
    "\n",
    "print(f\"Overround promedio después de ajuste uniforme: {predictions_df['overround_unif_adj'].mean()*100:.2f}%\")\n",
    "\n",
    "# Mostrar estadísticas de las cuotas ajustadas\n",
    "print(f\"\\nEstadísticas de cuotas ajustadas (método proporcional):\")\n",
    "odds_cols_prop = ['prop_odds_H_adj', 'prop_odds_D_adj', 'prop_odds_A_adj']\n",
    "print(predictions_df[odds_cols_prop].describe().round(3))\n",
    "\n",
    "print(f\"\\nComparación primeras 5 predicciones:\")\n",
    "comparison_cols = ['B365H_pred', 'B365D_pred', 'B365A_pred', \n",
    "                  'prop_odds_H_adj', 'prop_odds_D_adj', 'prop_odds_A_adj',\n",
    "                  'B365H_real', 'B365D_real', 'B365A_real']\n",
    "print(predictions_df[comparison_cols].head().round(3))"
   ]
  },
  {
   "cell_type": "markdown",
   "id": "c0c13e0c",
   "metadata": {},
   "source": [
    "Al aplicar un margen comercial del 2.95% a todas las predicciones, se utilizaron los métodos proporcional y uniforme para ajustar las cuotas. En ambos casos, el overround promedio ajustado coincide con el margen real observado, manteniendo la coherencia del sistema. Las nuevas cuotas ajustadas se acercan considerablemente a las reales de Bet365, manteniendo el orden de favoritismo y proporcionando valores viables para la toma de decisiones. Las estadísticas de las cuotas ajustadas muestran una distribución lógica y sin valores atípicos extremos. Esto confirma que el ajuste fue exitoso y que el modelo puede generar cuotas competitivas con un margen comercial controlado.\n"
   ]
  },
  {
   "cell_type": "markdown",
   "id": "cba2d054",
   "metadata": {},
   "source": [
    "## 4. Validación de Coherencia de Cuotas\n",
    "\n",
    "Verificamos que las cuotas generadas sean coherentes y no permitan arbitraje."
   ]
  },
  {
   "cell_type": "code",
   "execution_count": 28,
   "id": "5f2ecd92",
   "metadata": {},
   "outputs": [
    {
     "name": "stdout",
     "output_type": "stream",
     "text": [
      "FUNCIONES DE VALIDACIÓN DE COHERENCIA\n",
      "=============================================\n",
      "Ejemplo 1 - Cuotas válidas:\n",
      "Cuotas: (2.1, 3.4, 3.5)\n",
      "Resultado: {'valid': True, 'reason': 'Cuotas válidas y coherentes', 'overround': 0.056022408963585235, 'arbitrage_opportunity': False}\n",
      "\n",
      "Ejemplo 2 - Cuotas con arbitraje:\n",
      "Cuotas: (2.5, 4.0, 2.8)\n",
      "Resultado: {'valid': False, 'reason': 'Overround demasiado bajo (0.71% < 1.00%)', 'overround': 0.0071428571428571175, 'arbitrage_opportunity': False}\n",
      "\n",
      "Ejemplo 3 - Overround alto:\n",
      "Cuotas: (1.5, 2.0, 2.5)\n",
      "Resultado: {'valid': False, 'reason': 'Overround demasiado alto (56.67% > 15.00%)', 'overround': 0.5666666666666664, 'arbitrage_opportunity': False}\n"
     ]
    }
   ],
   "source": [
    "def validate_odds_coherence(odds_h, odds_d, odds_a, min_overround=0.01, max_overround=0.15):\n",
    "    \"\"\"\n",
    "    Valida que las cuotas sean coherentes para una casa de apuestas.\n",
    "    \n",
    "    Criterios de validación:\n",
    "    1. Todas las cuotas deben ser >= 1.01 (probabilidad <= 99%)\n",
    "    2. El overround debe estar entre min_overround y max_overround\n",
    "    3. No debe existir oportunidad de arbitraje\n",
    "    \n",
    "    Args:\n",
    "        odds_h, odds_d, odds_a: Cuotas para local, empate, visitante\n",
    "        min_overround: Margen mínimo aceptable\n",
    "        max_overround: Margen máximo aceptable\n",
    "    \n",
    "    Returns:\n",
    "        Dict con resultado de validación y métricas\n",
    "    \"\"\"\n",
    "    # Verificar que las cuotas son válidas\n",
    "    min_odds = 1.01\n",
    "    if odds_h < min_odds or odds_d < min_odds or odds_a < min_odds:\n",
    "        return {\n",
    "            'valid': False,\n",
    "            'reason': 'Cuotas demasiado bajas (probabilidad > 99%)',\n",
    "            'overround': None,\n",
    "            'arbitrage_opportunity': None\n",
    "        }\n",
    "    \n",
    "    # Calcular overround\n",
    "    overround = calculate_overround(odds_h, odds_d, odds_a)\n",
    "    \n",
    "    # Verificar rango de overround\n",
    "    if overround < min_overround:\n",
    "        return {\n",
    "            'valid': False,\n",
    "            'reason': f'Overround demasiado bajo ({overround*100:.2f}% < {min_overround*100:.2f}%)',\n",
    "            'overround': overround,\n",
    "            'arbitrage_opportunity': overround < 0\n",
    "        }\n",
    "    \n",
    "    if overround > max_overround:\n",
    "        return {\n",
    "            'valid': False,\n",
    "            'reason': f'Overround demasiado alto ({overround*100:.2f}% > {max_overround*100:.2f}%)',\n",
    "            'overround': overround,\n",
    "            'arbitrage_opportunity': False\n",
    "        }\n",
    "    \n",
    "    # Verificar oportunidad de arbitraje (suma de probabilidades < 1)\n",
    "    arbitrage_opportunity = overround < 0\n",
    "    \n",
    "    return {\n",
    "        'valid': True,\n",
    "        'reason': 'Cuotas válidas y coherentes',\n",
    "        'overround': overround,\n",
    "        'arbitrage_opportunity': arbitrage_opportunity\n",
    "    }\n",
    "\n",
    "def detect_arbitrage_opportunities(odds_sets):\n",
    "    \"\"\"\n",
    "    Detecta oportunidades de arbitraje en un conjunto de cuotas.\n",
    "    \n",
    "    Args:\n",
    "        odds_sets: Lista de tuplas (odds_h, odds_d, odds_a)\n",
    "    \n",
    "    Returns:\n",
    "        Lista de oportunidades de arbitraje con rentabilidad esperada\n",
    "    \"\"\"\n",
    "    arbitrage_opportunities = []\n",
    "    \n",
    "    for i, (odds_h, odds_d, odds_a) in enumerate(odds_sets):\n",
    "        overround = calculate_overround(odds_h, odds_d, odds_a)\n",
    "        \n",
    "        if overround < 0:  # Suma de probabilidades < 1 = arbitraje\n",
    "            profit_margin = abs(overround)\n",
    "            arbitrage_opportunities.append({\n",
    "                'index': i,\n",
    "                'odds': (odds_h, odds_d, odds_a),\n",
    "                'overround': overround,\n",
    "                'profit_margin': profit_margin,\n",
    "                'profit_percentage': profit_margin * 100\n",
    "            })\n",
    "    \n",
    "    return arbitrage_opportunities\n",
    "\n",
    "def calculate_optimal_stake_distribution(odds_h, odds_d, odds_a, total_stake=100):\n",
    "    \"\"\"\n",
    "    Calcula la distribución óptima de apuestas para arbitraje.\n",
    "    \n",
    "    Args:\n",
    "        odds_h, odds_d, odds_a: Cuotas para cada resultado\n",
    "        total_stake: Cantidad total a apostar\n",
    "    \n",
    "    Returns:\n",
    "        Dict con distribución óptima de apuestas\n",
    "    \"\"\"\n",
    "    # Probabilidades implícitas\n",
    "    prob_h = odds_to_probability(odds_h)\n",
    "    prob_d = odds_to_probability(odds_d)\n",
    "    prob_a = odds_to_probability(odds_a)\n",
    "    \n",
    "    total_prob = prob_h + prob_d + prob_a\n",
    "    \n",
    "    if total_prob >= 1:\n",
    "        return {\n",
    "            'no_arbitrage': True,\n",
    "            'reason': 'No hay oportunidad de arbitraje'\n",
    "        }\n",
    "    \n",
    "    # Distribución proporcional a las probabilidades implícitas\n",
    "    stake_h = (prob_h / total_prob) * total_stake\n",
    "    stake_d = (prob_d / total_prob) * total_stake\n",
    "    stake_a = (prob_a / total_prob) * total_stake\n",
    "    \n",
    "    # Calcular ganancias esperadas para cada resultado\n",
    "    payout_h = stake_h * odds_h\n",
    "    payout_d = stake_d * odds_d\n",
    "    payout_a = stake_a * odds_a\n",
    "    \n",
    "    profit = min(payout_h, payout_d, payout_a) - total_stake\n",
    "    \n",
    "    return {\n",
    "        'no_arbitrage': False,\n",
    "        'stakes': {'local': stake_h, 'empate': stake_d, 'visitante': stake_a},\n",
    "        'payouts': {'local': payout_h, 'empate': payout_d, 'visitante': payout_a},\n",
    "        'guaranteed_profit': profit,\n",
    "        'profit_percentage': (profit / total_stake) * 100\n",
    "    }\n",
    "\n",
    "# Probar las funciones de validación\n",
    "print(\"FUNCIONES DE VALIDACIÓN DE COHERENCIA\")\n",
    "print(\"=\"*45)\n",
    "\n",
    "# Ejemplo 1: Cuotas válidas\n",
    "print(\"Ejemplo 1 - Cuotas válidas:\")\n",
    "odds_validas = (2.10, 3.40, 3.50)\n",
    "validacion = validate_odds_coherence(*odds_validas)\n",
    "print(f\"Cuotas: {odds_validas}\")\n",
    "print(f\"Resultado: {validacion}\")\n",
    "\n",
    "# Ejemplo 2: Cuotas con arbitraje\n",
    "print(f\"\\nEjemplo 2 - Cuotas con arbitraje:\")\n",
    "odds_arbitraje = (2.50, 4.00, 2.80)\n",
    "validacion_arb = validate_odds_coherence(*odds_arbitraje)\n",
    "print(f\"Cuotas: {odds_arbitraje}\")\n",
    "print(f\"Resultado: {validacion_arb}\")\n",
    "\n",
    "if validacion_arb['arbitrage_opportunity']:\n",
    "    distribucion = calculate_optimal_stake_distribution(*odds_arbitraje)\n",
    "    print(f\"Distribución óptima: {distribucion}\")\n",
    "\n",
    "# Ejemplo 3: Overround demasiado alto\n",
    "print(f\"\\nEjemplo 3 - Overround alto:\")\n",
    "odds_alto = (1.50, 2.00, 2.50)\n",
    "validacion_alto = validate_odds_coherence(*odds_alto)\n",
    "print(f\"Cuotas: {odds_alto}\")\n",
    "print(f\"Resultado: {validacion_alto}\")"
   ]
  },
  {
   "cell_type": "markdown",
   "id": "e7b5263a",
   "metadata": {},
   "source": [
    "Se implementaron funciones para validar la coherencia de las cuotas generadas. Estas funciones evalúan si las cuotas tienen un overround dentro de un rango aceptable (entre 1% y 15%) y detectan posibles oportunidades de arbitraje.\n",
    "\n",
    "* **Ejemplo 1** muestra un caso válido, con cuotas coherentes y un overround del 5.6%, adecuado para una casa de apuestas.\n",
    "* **Ejemplo 2** tiene un overround demasiado bajo (0.71%), lo que sugiere riesgo de pérdidas o error de cálculo.\n",
    "* **Ejemplo 3** presenta un overround excesivo (56.67%), indicando cuotas poco realistas o mal ajustadas.\n",
    "\n",
    "Estas validaciones son esenciales para asegurar que el sistema de cuotas sea rentable y confiable.\n"
   ]
  },
  {
   "cell_type": "code",
   "execution_count": 29,
   "id": "cb83dd28",
   "metadata": {},
   "outputs": [
    {
     "name": "stdout",
     "output_type": "stream",
     "text": [
      "MÉTRICAS AVANZADAS DE EVALUACIÓN\n",
      "========================================\n",
      "Calidad de las cuotas ajustadas:\n",
      "• Log Loss promedio: 0.9720 (±0.1592)\n",
      "• Sharpe Ratio promedio: -0.0705 (±0.5096)\n",
      "• Distancia Hellinger promedio: 0.0493 (±0.0367)\n",
      "• Error de calibración: 0.0083\n",
      "\n",
      "Interpretación:\n",
      "• Log Loss < 1.0 = Bueno, < 0.5 = Excelente\n",
      "• Sharpe Ratio > 0 = Predicciones consistentemente mejores\n",
      "• Distancia Hellinger < 0.3 = Distribuciones similares\n",
      "• Error calibración < 0.1 = Bien calibrado\n"
     ]
    }
   ],
   "source": [
    "def calculate_advanced_metrics(predictions_df):\n",
    "    \"\"\"\n",
    "    Calcula métricas avanzadas para evaluar la calidad de las cuotas.\n",
    "    \"\"\"\n",
    "    metrics = {}\n",
    "    \n",
    "    # 1. Log Loss (Brier Score adaptado para cuotas)\n",
    "    def calculate_log_loss_odds(real_odds, pred_odds):\n",
    "        real_probs = 1 / real_odds\n",
    "        pred_probs = 1 / pred_odds\n",
    "        \n",
    "        # Normalizar probabilidades\n",
    "        real_probs_norm = real_probs / real_probs.sum()\n",
    "        pred_probs_norm = pred_probs / pred_probs.sum()\n",
    "        \n",
    "        # Evitar log(0)\n",
    "        pred_probs_norm = np.clip(pred_probs_norm, 1e-15, 1-1e-15)\n",
    "        \n",
    "        return -np.sum(real_probs_norm * np.log(pred_probs_norm))\n",
    "    \n",
    "    # 2. Sharpe Ratio de las cuotas\n",
    "    def calculate_odds_sharpe_ratio(real_odds, pred_odds):\n",
    "        returns = (pred_odds - real_odds) / real_odds\n",
    "        if np.std(returns) == 0:\n",
    "            return 0\n",
    "        return np.mean(returns) / np.std(returns)\n",
    "    \n",
    "    # 3. Distancia de Hellinger entre distribuciones\n",
    "    def hellinger_distance(p, q):\n",
    "        return np.sqrt(0.5 * np.sum((np.sqrt(p) - np.sqrt(q))**2))\n",
    "    \n",
    "    # Calcular métricas para cada partido\n",
    "    log_losses = []\n",
    "    sharpe_ratios = []\n",
    "    hellinger_distances = []\n",
    "    \n",
    "    for _, row in predictions_df.iterrows():\n",
    "        # Cuotas reales y predichas\n",
    "        real_odds = np.array([row['B365H_real'], row['B365D_real'], row['B365A_real']])\n",
    "        pred_odds = np.array([row['prop_odds_H_adj'], row['prop_odds_D_adj'], row['prop_odds_A_adj']])\n",
    "        \n",
    "        # Log Loss\n",
    "        log_loss = calculate_log_loss_odds(real_odds, pred_odds)\n",
    "        log_losses.append(log_loss)\n",
    "        \n",
    "        # Sharpe Ratio\n",
    "        sharpe = calculate_odds_sharpe_ratio(real_odds, pred_odds)\n",
    "        sharpe_ratios.append(sharpe)\n",
    "        \n",
    "        # Hellinger Distance\n",
    "        real_probs = 1 / real_odds\n",
    "        pred_probs = 1 / pred_odds\n",
    "        real_probs_norm = real_probs / real_probs.sum()\n",
    "        pred_probs_norm = pred_probs / pred_probs.sum()\n",
    "        \n",
    "        hellinger = hellinger_distance(real_probs_norm, pred_probs_norm)\n",
    "        hellinger_distances.append(hellinger)\n",
    "    \n",
    "    metrics['log_loss_mean'] = np.mean(log_losses)\n",
    "    metrics['log_loss_std'] = np.std(log_losses)\n",
    "    metrics['sharpe_ratio_mean'] = np.mean(sharpe_ratios)\n",
    "    metrics['sharpe_ratio_std'] = np.std(sharpe_ratios)\n",
    "    metrics['hellinger_distance_mean'] = np.mean(hellinger_distances)\n",
    "    metrics['hellinger_distance_std'] = np.std(hellinger_distances)\n",
    "    \n",
    "    # 4. Calibración de probabilidades\n",
    "    def calculate_calibration_error(predictions_df):\n",
    "        \"\"\"Calcula el error de calibración de las probabilidades.\"\"\"\n",
    "        calibration_errors = []\n",
    "        \n",
    "        for outcome in ['H', 'D', 'A']:\n",
    "            pred_probs = predictions_df[f'prop_prob_{outcome}_adj'].values\n",
    "            real_probs = predictions_df[f'prob_{outcome}_real'].values\n",
    "            \n",
    "            # Agrupar en bins\n",
    "            n_bins = 10\n",
    "            bin_boundaries = np.linspace(0, 1, n_bins + 1)\n",
    "            bin_lowers = bin_boundaries[:-1]\n",
    "            bin_uppers = bin_boundaries[1:]\n",
    "            \n",
    "            ece = 0  # Expected Calibration Error\n",
    "            for bin_lower, bin_upper in zip(bin_lowers, bin_uppers):\n",
    "                in_bin = (pred_probs > bin_lower) & (pred_probs <= bin_upper)\n",
    "                prop_in_bin = in_bin.mean()\n",
    "                \n",
    "                if prop_in_bin > 0:\n",
    "                    accuracy_in_bin = real_probs[in_bin].mean()\n",
    "                    avg_confidence_in_bin = pred_probs[in_bin].mean()\n",
    "                    ece += np.abs(avg_confidence_in_bin - accuracy_in_bin) * prop_in_bin\n",
    "            \n",
    "            calibration_errors.append(ece)\n",
    "        \n",
    "        return np.mean(calibration_errors)\n",
    "    \n",
    "    metrics['calibration_error'] = calculate_calibration_error(predictions_df)\n",
    "    \n",
    "    return metrics\n",
    "\n",
    "# Calcular métricas avanzadas\n",
    "print(\"MÉTRICAS AVANZADAS DE EVALUACIÓN\")\n",
    "print(\"=\"*40)\n",
    "\n",
    "advanced_metrics = calculate_advanced_metrics(predictions_df)\n",
    "\n",
    "print(\"Calidad de las cuotas ajustadas:\")\n",
    "print(f\"• Log Loss promedio: {advanced_metrics['log_loss_mean']:.4f} (±{advanced_metrics['log_loss_std']:.4f})\")\n",
    "print(f\"• Sharpe Ratio promedio: {advanced_metrics['sharpe_ratio_mean']:.4f} (±{advanced_metrics['sharpe_ratio_std']:.4f})\")\n",
    "print(f\"• Distancia Hellinger promedio: {advanced_metrics['hellinger_distance_mean']:.4f} (±{advanced_metrics['hellinger_distance_std']:.4f})\")\n",
    "print(f\"• Error de calibración: {advanced_metrics['calibration_error']:.4f}\")\n",
    "\n",
    "print(f\"\\nInterpretación:\")\n",
    "print(f\"• Log Loss < 1.0 = Bueno, < 0.5 = Excelente\")\n",
    "print(f\"• Sharpe Ratio > 0 = Predicciones consistentemente mejores\")\n",
    "print(f\"• Distancia Hellinger < 0.3 = Distribuciones similares\")\n",
    "print(f\"• Error calibración < 0.1 = Bien calibrado\")"
   ]
  },
  {
   "cell_type": "markdown",
   "id": "2cf0f58b",
   "metadata": {},
   "source": [
    "Se evaluó la calidad de las cuotas ajustadas mediante métricas avanzadas, obteniendo los siguientes resultados:\n",
    "\n",
    "* **Log Loss promedio**: 0.9720 (±0.1592), lo que refleja un nivel aceptable de precisión en las predicciones probabilísticas.\n",
    "* **Sharpe Ratio promedio**: -0.0705 (±0.5096), indicando que las predicciones no generaron una rentabilidad consistente bajo simulación.\n",
    "* **Distancia de Hellinger promedio**: 0.0493 (±0.0367), lo que evidencia una alta similitud entre las distribuciones predichas y las reales.\n",
    "* **Error de calibración**: 0.0083, lo cual demuestra una excelente calibración de las probabilidades generadas.\n",
    "\n",
    "Estos resultados validan la solidez estadística del modelo en términos de coherencia, calibración y cercanía con la realidad del mercado, aunque evidencian oportunidades de mejora en términos de rentabilidad ajustada al riesgo.\n"
   ]
  },
  {
   "cell_type": "code",
   "execution_count": 32,
   "id": "62001a16",
   "metadata": {},
   "outputs": [
    {
     "name": "stdout",
     "output_type": "stream",
     "text": [
      "VALIDACIÓN DE COHERENCIA - DATASET COMPLETO\n",
      "==================================================\n",
      "Validando cuotas con margen proporcional...\n",
      "Cuotas válidas (proporcional): 1200/1200 (100.0%)\n",
      "Oportunidades de arbitraje (proporcional): 0\n",
      "\n",
      "Validando cuotas con margen uniforme...\n",
      "Cuotas válidas (uniforme): 1200/1200 (100.0%)\n",
      "Oportunidades de arbitraje (uniforme): 0\n",
      "\n",
      "Validando cuotas reales (Bet365) para comparación...\n",
      "Cuotas válidas (reales): 1200/1200 (100.0%)\n",
      "Oportunidades de arbitraje (reales): 0\n",
      "\n",
      "COMPARACIÓN DE DISTRIBUCIONES DE OVERROUND:\n",
      "==================================================\n",
      "       Proporcional   Uniforme  Real (Bet365)\n",
      "count     1200.0000  1200.0000      1200.0000\n",
      "mean         0.0295     0.0295         0.0295\n",
      "std          0.0000     0.0000         0.0110\n",
      "min          0.0295     0.0295         0.0169\n",
      "25%          0.0295     0.0295         0.0242\n",
      "50%          0.0295     0.0295         0.0264\n",
      "75%          0.0295     0.0295         0.0292\n",
      "max          0.0295     0.0295         0.0721\n",
      "\n",
      "CASOS PROBLEMÁTICOS:\n",
      "=========================\n"
     ]
    }
   ],
   "source": [
    "# Validar coherencia de todas las cuotas ajustadas\n",
    "print(\"VALIDACIÓN DE COHERENCIA - DATASET COMPLETO\")\n",
    "print(\"=\"*50)\n",
    "\n",
    "# Validar cuotas con margen proporcional\n",
    "print(\"Validando cuotas con margen proporcional...\")\n",
    "validaciones_prop = []\n",
    "\n",
    "for idx, row in predictions_df.iterrows():\n",
    "    validacion = validate_odds_coherence(\n",
    "        row['prop_odds_H_adj'], \n",
    "        row['prop_odds_D_adj'], \n",
    "        row['prop_odds_A_adj']\n",
    "    )\n",
    "    validaciones_prop.append(validacion)\n",
    "\n",
    "# Agregar resultados de validación al DataFrame\n",
    "predictions_df['prop_valid'] = [v['valid'] for v in validaciones_prop]\n",
    "predictions_df['prop_arbitrage'] = [v['arbitrage_opportunity'] for v in validaciones_prop]\n",
    "\n",
    "# Estadísticas de validación\n",
    "cuotas_validas_prop = sum(predictions_df['prop_valid'])\n",
    "total_cuotas = len(predictions_df)\n",
    "arbitrajes_prop = sum(predictions_df['prop_arbitrage'])\n",
    "\n",
    "print(f\"Cuotas válidas (proporcional): {cuotas_validas_prop}/{total_cuotas} ({cuotas_validas_prop/total_cuotas*100:.1f}%)\")\n",
    "print(f\"Oportunidades de arbitraje (proporcional): {arbitrajes_prop}\")\n",
    "\n",
    "# Validar cuotas con margen uniforme  \n",
    "print(f\"\\nValidando cuotas con margen uniforme...\")\n",
    "validaciones_unif = []\n",
    "\n",
    "for idx, row in predictions_df.iterrows():\n",
    "    validacion = validate_odds_coherence(\n",
    "        row['unif_odds_H_adj'], \n",
    "        row['unif_odds_D_adj'], \n",
    "        row['unif_odds_A_adj']\n",
    "    )\n",
    "    validaciones_unif.append(validacion)\n",
    "\n",
    "# Agregar resultados al DataFrame\n",
    "predictions_df['unif_valid'] = [v['valid'] for v in validaciones_unif]\n",
    "predictions_df['unif_arbitrage'] = [v['arbitrage_opportunity'] for v in validaciones_unif]\n",
    "\n",
    "cuotas_validas_unif = sum(predictions_df['unif_valid'])\n",
    "arbitrajes_unif = sum(predictions_df['unif_arbitrage'])\n",
    "\n",
    "print(f\"Cuotas válidas (uniforme): {cuotas_validas_unif}/{total_cuotas} ({cuotas_validas_unif/total_cuotas*100:.1f}%)\")\n",
    "print(f\"Oportunidades de arbitraje (uniforme): {arbitrajes_unif}\")\n",
    "\n",
    "# Validar cuotas reales para comparación\n",
    "print(f\"\\nValidando cuotas reales (Bet365) para comparación...\")\n",
    "validaciones_real = []\n",
    "\n",
    "for idx, row in predictions_df.iterrows():\n",
    "    validacion = validate_odds_coherence(\n",
    "        row['B365H_real'], \n",
    "        row['B365D_real'], \n",
    "        row['B365A_real']\n",
    "    )\n",
    "    validaciones_real.append(validacion)\n",
    "\n",
    "predictions_df['real_valid'] = [v['valid'] for v in validaciones_real]\n",
    "predictions_df['real_arbitrage'] = [v['arbitrage_opportunity'] for v in validaciones_real]\n",
    "\n",
    "cuotas_validas_real = sum(predictions_df['real_valid'])\n",
    "arbitrajes_real = sum(predictions_df['real_arbitrage'])\n",
    "\n",
    "print(f\"Cuotas válidas (reales): {cuotas_validas_real}/{total_cuotas} ({cuotas_validas_real/total_cuotas*100:.1f}%)\")\n",
    "print(f\"Oportunidades de arbitraje (reales): {arbitrajes_real}\")\n",
    "\n",
    "# Comparar distribuciones de overround\n",
    "print(f\"\\nCOMPARACIÓN DE DISTRIBUCIONES DE OVERROUND:\")\n",
    "print(\"=\"*50)\n",
    "\n",
    "overround_stats = pd.DataFrame({\n",
    "    'Proporcional': predictions_df['overround_prop_adj'].describe(),\n",
    "    'Uniforme': predictions_df['overround_unif_adj'].describe(),\n",
    "    'Real (Bet365)': predictions_df['overround_real'].describe()\n",
    "}).round(4)\n",
    "\n",
    "print(overround_stats)\n",
    "\n",
    "# Identificar casos problemáticos\n",
    "print(f\"\\nCASOS PROBLEMÁTICOS:\")\n",
    "print(\"=\"*25)\n",
    "\n",
    "# Cuotas con overround negativo (arbitraje)\n",
    "arbitraje_prop = predictions_df[predictions_df['prop_arbitrage'] == True]\n",
    "if len(arbitraje_prop) > 0:\n",
    "    print(f\"Encontrados {len(arbitraje_prop)} casos de arbitraje (método proporcional)\")\n",
    "    print(\"Primeros 3 casos:\")\n",
    "    print(arbitraje_prop[['prop_odds_H_adj', 'prop_odds_D_adj', 'prop_odds_A_adj', 'overround_prop_adj']].head(3).round(3))\n",
    "\n",
    "# Cuotas inválidas\n",
    "invalidas_prop = predictions_df[predictions_df['prop_valid'] == False]\n",
    "if len(invalidas_prop) > 0:\n",
    "    print(f\"\\nEncontradas {len(invalidas_prop)} cuotas inválidas (método proporcional)\")\n",
    "    \n",
    "invalidas_unif = predictions_df[predictions_df['unif_valid'] == False]\n",
    "if len(invalidas_unif) > 0:\n",
    "    print(f\"Encontradas {len(invalidas_unif)} cuotas inválidas (método uniforme)\")"
   ]
  },
  {
   "cell_type": "markdown",
   "id": "4cf0cd5e",
   "metadata": {},
   "source": [
    "Se realizó la validación de coherencia sobre las cuotas ajustadas con márgenes proporcional y uniforme, aplicadas a la totalidad del conjunto de datos (1200 eventos). En ambos casos, el 100% de las cuotas resultaron válidas y no se detectaron oportunidades de arbitraje. Asimismo, las cuotas reales de Bet365 también fueron completamente válidas y sin señales de arbitraje. Al comparar las distribuciones de overround, tanto el método proporcional como el uniforme mantuvieron un margen constante del 2.95%, mientras que las cuotas reales presentaron una mayor variabilidad, con un máximo de 7.21%. Estos resultados confirman que los métodos de ajuste propuestos son consistentes, replican adecuadamente el comportamiento del margen de la casa y no introducen incoherencias en las cuotas generadas.\n"
   ]
  },
  {
   "cell_type": "markdown",
   "id": "28fd551c",
   "metadata": {},
   "source": [
    "## 5. Análisis Visual y Comparaciones\n",
    "\n",
    "Creamos visualizaciones para analizar la calidad de las cuotas ajustadas."
   ]
  },
  {
   "cell_type": "code",
   "execution_count": 33,
   "id": "1ab1ea6c",
   "metadata": {},
   "outputs": [
    {
     "name": "stdout",
     "output_type": "stream",
     "text": [
      "VISUALIZACIÓN INDIVIDUAL DE OVERROUND\n",
      "=============================================\n"
     ]
    },
    {
     "data": {
      "image/png": "[encoded data removed]",
      "text/plain": [
       "<Figure size 700x500 with 1 Axes>"
      ]
     },
     "metadata": {},
     "output_type": "display_data"
    },
    {
     "data": {
      "image/png": "[encoded data removed]",
      "text/plain": [
       "<Figure size 700x500 with 1 Axes>"
      ]
     },
     "metadata": {},
     "output_type": "display_data"
    },
    {
     "data": {
      "image/png": "[encoded data removed]",
      "text/plain": [
       "<Figure size 700x500 with 1 Axes>"
      ]
     },
     "metadata": {},
     "output_type": "display_data"
    },
    {
     "data": {
      "image/png": "[encoded data removed]",
      "text/plain": [
       "<Figure size 700x500 with 1 Axes>"
      ]
     },
     "metadata": {},
     "output_type": "display_data"
    },
    {
     "name": "stdout",
     "output_type": "stream",
     "text": [
      "\n",
      "ANÁLISIS DE CORRELACIONES\n",
      "==============================\n",
      "Correlación overround real vs proporcional: 0.0070\n",
      "Correlación overround real vs uniforme: 0.0090\n",
      "\n",
      "Correlaciones cuotas reales vs ajustadas:\n",
      "               B365H   B365D   B365A\n",
      "Proporcional  0.8817  0.8711  0.9061\n",
      "Uniforme      0.8805  0.8701  0.9032\n"
     ]
    }
   ],
   "source": [
    "print(\"VISUALIZACIÓN INDIVIDUAL DE OVERROUND\")\n",
    "print(\"=\"*45)\n",
    "\n",
    "# 1. Histograma de overround\n",
    "plt.figure(figsize=(7, 5))\n",
    "plt.hist(predictions_df['overround_real']*100, bins=30, alpha=0.7, label='Real (Bet365)', color='blue')\n",
    "plt.hist(predictions_df['overround_prop_adj']*100, bins=30, alpha=0.7, label='Proporcional', color='red')\n",
    "plt.hist(predictions_df['overround_unif_adj']*100, bins=30, alpha=0.7, label='Uniforme', color='green')\n",
    "plt.xlabel('Overround (%)')\n",
    "plt.ylabel('Frecuencia')\n",
    "plt.title('Distribución de Overround')\n",
    "plt.legend()\n",
    "plt.grid(True, alpha=0.3)\n",
    "plt.show()\n",
    "\n",
    "# 2. Box plot de overround\n",
    "plt.figure(figsize=(7, 5))\n",
    "plt.boxplot([\n",
    "    predictions_df['overround_real']*100,\n",
    "    predictions_df['overround_prop_adj']*100,\n",
    "    predictions_df['overround_unif_adj']*100\n",
    "], labels=['Real', 'Proporcional', 'Uniforme'])\n",
    "plt.ylabel('Overround (%)')\n",
    "plt.title('Comparación de Overround')\n",
    "plt.grid(True, alpha=0.3)\n",
    "plt.show()\n",
    "\n",
    "# 3. Scatter plot: Overround real vs proporcional\n",
    "plt.figure(figsize=(7, 5))\n",
    "plt.scatter(predictions_df['overround_real']*100, \n",
    "            predictions_df['overround_prop_adj']*100, \n",
    "            alpha=0.6, color='red')\n",
    "plt.plot([0, 15], [0, 15], 'k--', linewidth=2, label='Línea perfecta')\n",
    "plt.xlabel('Overround Real (%)')\n",
    "plt.ylabel('Overround Proporcional (%)')\n",
    "plt.title('Real vs Proporcional')\n",
    "plt.legend()\n",
    "plt.grid(True, alpha=0.3)\n",
    "plt.show()\n",
    "\n",
    "# 4. Scatter cuotas victoria local: real vs ajustadas\n",
    "plt.figure(figsize=(7, 5))\n",
    "sample_size = 1000\n",
    "sample_idx = np.random.choice(len(predictions_df), sample_size, replace=False)\n",
    "sample_data = predictions_df.iloc[sample_idx]\n",
    "plt.scatter(sample_data['B365H_real'], sample_data['prop_odds_H_adj'], \n",
    "            alpha=0.6, color='blue', label='Proporcional')\n",
    "plt.plot([1, 10], [1, 10], 'k--', linewidth=2, label='Línea perfecta')\n",
    "plt.xlabel('Cuotas Reales B365H')\n",
    "plt.ylabel('Cuotas Ajustadas B365H')\n",
    "plt.title('Cuotas Victoria Local: Real vs Ajustadas')\n",
    "plt.legend()\n",
    "plt.grid(True, alpha=0.3)\n",
    "plt.show()\n",
    "\n",
    "# Análisis de correlaciones\n",
    "print(\"\\nANÁLISIS DE CORRELACIONES\")\n",
    "print(\"=\"*30)\n",
    "corr_overround_prop = predictions_df['overround_real'].corr(predictions_df['overround_prop_adj'])\n",
    "corr_overround_unif = predictions_df['overround_real'].corr(predictions_df['overround_unif_adj'])\n",
    "print(f\"Correlación overround real vs proporcional: {corr_overround_prop:.4f}\")\n",
    "print(f\"Correlación overround real vs uniforme: {corr_overround_unif:.4f}\")\n",
    "\n",
    "correlaciones = pd.DataFrame({\n",
    "    'B365H': [\n",
    "        predictions_df['B365H_real'].corr(predictions_df['prop_odds_H_adj']),\n",
    "        predictions_df['B365H_real'].corr(predictions_df['unif_odds_H_adj'])\n",
    "    ],\n",
    "    'B365D': [\n",
    "        predictions_df['B365D_real'].corr(predictions_df['prop_odds_D_adj']),\n",
    "        predictions_df['B365D_real'].corr(predictions_df['unif_odds_D_adj'])\n",
    "    ],\n",
    "    'B365A': [\n",
    "        predictions_df['B365A_real'].corr(predictions_df['prop_odds_A_adj']),\n",
    "        predictions_df['B365A_real'].corr(predictions_df['unif_odds_A_adj'])\n",
    "    ]\n",
    "}, index=['Proporcional', 'Uniforme'])\n",
    "\n",
    "print(\"\\nCorrelaciones cuotas reales vs ajustadas:\")\n",
    "print(correlaciones.round(4))\n"
   ]
  },
  {
   "cell_type": "code",
   "execution_count": 35,
   "id": "2dd36301",
   "metadata": {},
   "outputs": [
    {
     "name": "stdout",
     "output_type": "stream",
     "text": [
      "GENERANDO DASHBOARD DE MONITOREO...\n",
      "========================================\n"
     ]
    },
    {
     "data": {
      "application/vnd.plotly.v1+json": {
       "config": {
        "plotlyServerURL": "https://plot.ly"
       },
       "data": [
        {
         "marker": {
          "color": "blue"
         },
         "name": "Real",
         "nbinsx": 30,
         "opacity": 0.7,
         "type": "histogram",
         "x": {
          "bdata": "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",
          "dtype": "f8"
         },
         "xaxis": "x",
         "yaxis": "y"
        },
        {
         "marker": {
          "color": "red"
         },
         "name": "Ajustado",
         "nbinsx": 30,
         "opacity": 0.7,
         "type": "histogram",
         "x": {
          "bdata": "kJ4T6UKTB0CQnhPpQpMHQJCeE+lCkwdAkJ4T6UKTB0CQnhPpQpMHQJCeE+lCkwdAkJ4T6UKTB0CQnhPpQpMHQJCeE+lCkwdAkJ4T6UKTB0CQnhPpQpMHQJCeE+lCkwdAXp4T6UKTB0CQnhPpQpMHQJCeE+lCkwdAkJ4T6UKTB0CQnhPpQpMHQJCeE+lCkwdAkJ4T6UKTB0CQnhPpQpMHQJCeE+lCkwdAkJ4T6UKTB0CQnhPpQpMHQJCeE+lCkwdAwp4T6UKTB0BenhPpQpMHQJCeE+lCkwdAkJ4T6UKTB0CQnhPpQpMHQJCeE+lCkwdAkJ4T6UKTB0CQnhPpQpMHQJCeE+lCkwdAkJ4T6UKTB0CQnhPpQpMHQJCeE+lCkwdAkJ4T6UKTB0CQnhPpQpMHQJCeE+lCkwdAkJ4T6UKTB0CQnhPpQpMHQJCeE+lCkwdAkJ4T6UKTB0CQnhPpQpMHQJCeE+lCkwdAXp4T6UKTB0CQnhPpQpMHQJCeE+lCkwdAkJ4T6UKTB0CQnhPpQpMHQMKeE+lCkwdAXp4T6UKTB0CQnhPpQpMHQMKeE+lCkwdAkJ4T6UKTB0CQnhPpQpMHQJCeE+lCkwdAkJ4T6UKTB0CQnhPpQpMHQJCeE+lCkwdAkJ4T6UKTB0CQnhPpQpMHQF6eE+lCkwdAkJ4T6UKTB0CQnhPpQpMHQJCeE+lCkwdAkJ4T6UKTB0CQnhPpQpMHQJCeE+lCkwdAkJ4T6UKTB0CQnhPpQpMHQJCeE+lCkwdAkJ4T6UKTB0CQnhPpQpMHQJCeE+lCkwdAkJ4T6UKTB0BenhPpQpMHQMKeE+lCkwdAkJ4T6UKTB0CQnhPpQpMHQJCeE+lCkwdAkJ4T6UKTB0CQnhPpQpMHQJCeE+lCkwdAkJ4T6UKTB0CQnhPpQpMHQJCeE+lCkwdAkJ4T6UKTB0CQnhPpQpMHQJCeE+lCkwdAXp4T6UKTB0CQnhPpQpMHQJCeE+lCkwdAkJ4T6UKTB0CQnhPpQpMHQJCeE+lCkwdAkJ4T6UKTB0CQnhPpQpMHQJCeE+lCkwdAwp4T6UKTB0CQnhPpQpMHQJCeE+lCkwdAkJ4T6UKTB0CQnhPpQpMHQJCeE+lCkwdAkJ4T6UKTB0CQnhPpQpMHQJCeE+lCkwdAkJ4T6UKTB0DCnhPpQpMHQJCeE+lCkwdAkJ4T6UKTB0CQnhPpQpMHQJCeE+lCkwdAkJ4T6UKTB0CQnhPpQpMHQJCeE+lCkwdAkJ4T6UKTB0CQnhPpQpMHQJCeE+lCkwdAkJ4T6UKTB0CQnhPpQpMHQJCeE+lCkwdAkJ4T6UKTB0DCnhPpQpMHQJCeE+lCkwdAkJ4T6UKTB0CQnhPpQpMHQJCeE+lCkwdAkJ4T6UKTB0DCnhPpQpMHQJCeE+lCkwdAXp4T6UKTB0CQnhPpQpMHQJCeE+lCkwdAXp4T6UKTB0CQnhPpQpMHQJCeE+lCkwdAkJ4T6UKTB0CQnhPpQpMHQJCeE+lCkwdAkJ4T6UKTB0CQnhPpQpMHQJCeE+lCkwdAwp4T6UKTB0CQnhPpQpMHQJCeE+lCkwdAkJ4T6UKTB0CQnhPpQpMHQJCeE+lCkwdAkJ4T6UKTB0CQnhPpQpMHQJCeE+lCkwdAkJ4T6UKTB0CQnhPpQpMHQJCeE+lCkwdAkJ4T6UKTB0CQnhPpQpMHQJCeE+lCkwdAkJ4T6UKTB0CQnhPpQpMHQJCeE+lCkwdAkJ4T6UKTB0CQnhPpQpMHQJCeE+lCkwdAXp4T6UKTB0CQnhPpQpMHQJCeE+lCkwdAXp4T6UKTB0CQnhPpQpMHQJCeE+lCkwdAkJ4T6UKTB0BenhPpQpMHQJCeE+lCkwdAkJ4T6UKTB0CQnhPpQpMHQJCeE+lCkwdAkJ4T6UKTB0CQnhPpQpMHQJCeE+lCkwdAkJ4T6UKTB0CQnhPpQpMHQF6eE+lCkwdAkJ4T6UKTB0CQnhPpQpMHQJCeE+lCkwdAkJ4T6UKTB0CQnhPpQpMHQJCeE+lCkwdAkJ4T6UKTB0CQnhPpQpMHQJCeE+lCkwdAkJ4T6UKTB0CQnhPpQpMHQJCeE+lCkwdAXp4T6UKTB0CQnhPpQpMHQJCeE+lCkwdAkJ4T6UKTB0CQnhPpQpMHQJCeE+lCkwdAkJ4T6UKTB0CQnhPpQpMHQF6eE+lCkwdAkJ4T6UKTB0CQnhPpQpMHQJCeE+lCkwdAkJ4T6UKTB0CQnhPpQpMHQJCeE+lCkwdAkJ4T6UKTB0CQnhPpQpMHQJCeE+lCkwdAkJ4T6UKTB0DCnhPpQpMHQJCeE+lCkwdAkJ4T6UKTB0CQnhPpQpMHQJCeE+lCkwdAkJ4T6UKTB0CQnhPpQpMHQJCeE+lCkwdAkJ4T6UKTB0CQnhPpQpMHQJCeE+lCkwdAkJ4T6UKTB0CQnhPpQpMHQJCeE+lCkwdAkJ4T6UKTB0CQnhPpQpMHQJCeE+lCkwdAkJ4T6UKTB0CQnhPpQpMHQJCeE+lCkwdAkJ4T6UKTB0CQnhPpQpMHQJCeE+lCkwdAkJ4T6UKTB0CQnhPpQpMHQJCeE+lCkwdAkJ4T6UKTB0CQnhPpQpMHQMKeE+lCkwdAkJ4T6UKTB0CQnhPpQpMHQJCeE+lCkwdAwp4T6UKTB0CQnhPpQpMHQJCeE+lCkwdAkJ4T6UKTB0CQnhPpQpMHQJCeE+lCkwdAkJ4T6UKTB0CQnhPpQpMHQJCeE+lCkwdAkJ4T6UKTB0DCnhPpQpMHQJCeE+lCkwdAkJ4T6UKTB0CQnhPpQpMHQJCeE+lCkwdAkJ4T6UKTB0CQnhPpQpMHQJCeE+lCkwdAkJ4T6UKTB0CQnhPpQpMHQJCeE+lCkwdAkJ4T6UKTB0CQnhPpQpMHQJCeE+lCkwdAwp4T6UKTB0DCnhPpQpMHQJCeE+lCkwdAkJ4T6UKTB0CQnhPpQpMHQJCeE+lCkwdAkJ4T6UKTB0CQnhPpQpMHQJCeE+lCkwdAkJ4T6UKTB0CQnhPpQpMHQJCeE+lCkwdAkJ4T6UKTB0CQnhPpQpMHQJCeE+lCkwdAkJ4T6UKTB0CQnhPpQpMHQJCeE+lCkwdAkJ4T6UKTB0CQnhPpQpMHQJCeE+lCkwdAkJ4T6UKTB0CQnhPpQpMHQJCeE+lCkwdAwp4T6UKTB0CQnhPpQpMHQJCeE+lCkwdAkJ4T6UKTB0CQnhPpQpMHQJCeE+lCkwdAkJ4T6UKTB0CQnhPpQpMHQJCeE+lCkwdAkJ4T6UKTB0CQnhPpQpMHQJCeE+lCkwdAkJ4T6UKTB0DCnhPpQpMHQMKeE+lCkwdAkJ4T6UKTB0CQnhPpQpMHQJCeE+lCkwdAkJ4T6UKTB0CQnhPpQpMHQJCeE+lCkwdAkJ4T6UKTB0CQnhPpQpMHQJCeE+lCkwdAkJ4T6UKTB0CQnhPpQpMHQJCeE+lCkwdAwp4T6UKTB0CQnhPpQpMHQJCeE+lCkwdAXp4T6UKTB0CQnhPpQpMHQJCeE+lCkwdAkJ4T6UKTB0CQnhPpQpMHQJCeE+lCkwdAkJ4T6UKTB0CQnhPpQpMHQF6eE+lCkwdAkJ4T6UKTB0CQnhPpQpMHQJCeE+lCkwdAkJ4T6UKTB0CQnhPpQpMHQJCeE+lCkwdAkJ4T6UKTB0CQnhPpQpMHQF6eE+lCkwdAkJ4T6UKTB0CQnhPpQpMHQJCeE+lCkwdAwp4T6UKTB0BenhPpQpMHQJCeE+lCkwdAkJ4T6UKTB0CQnhPpQpMHQMKeE+lCkwdAkJ4T6UKTB0CQnhPpQpMHQJCeE+lCkwdAkJ4T6UKTB0CQnhPpQpMHQJCeE+lCkwdAXp4T6UKTB0CQnhPpQpMHQJCeE+lCkwdAkJ4T6UKTB0CQnhPpQpMHQJCeE+lCkwdAkJ4T6UKTB0CQnhPpQpMHQJCeE+lCkwdAkJ4T6UKTB0CQnhPpQpMHQJCeE+lCkwdAkJ4T6UKTB0CQnhPpQpMHQMKeE+lCkwdAkJ4T6UKTB0CQnhPpQpMHQJCeE+lCkwdAkJ4T6UKTB0CQnhPpQpMHQF6eE+lCkwdAkJ4T6UKTB0CQnhPpQpMHQJCeE+lCkwdAkJ4T6UKTB0CQnhPpQpMHQJCeE+lCkwdAkJ4T6UKTB0CQnhPpQpMHQJCeE+lCkwdAkJ4T6UKTB0CQnhPpQpMHQJCeE+lCkwdAkJ4T6UKTB0CQnhPpQpMHQJCeE+lCkwdAkJ4T6UKTB0CQnhPpQpMHQJCeE+lCkwdAkJ4T6UKTB0CQnhPpQpMHQJCeE+lCkwdAkJ4T6UKTB0CQnhPpQpMHQMKeE+lCkwdAkJ4T6UKTB0CQnhPpQpMHQJCeE+lCkwdAkJ4T6UKTB0CQnhPpQpMHQJCeE+lCkwdAkJ4T6UKTB0CQnhPpQpMHQJCeE+lCkwdAkJ4T6UKTB0CQnhPpQpMHQJCeE+lCkwdAkJ4T6UKTB0CQnhPpQpMHQMKeE+lCkwdAkJ4T6UKTB0CQnhPpQpMHQJCeE+lCkwdAkJ4T6UKTB0CQnhPpQpMHQJCeE+lCkwdAkJ4T6UKTB0CQnhPpQpMHQJCeE+lCkwdAkJ4T6UKTB0DCnhPpQpMHQJCeE+lCkwdAkJ4T6UKTB0CQnhPpQpMHQJCeE+lCkwdAkJ4T6UKTB0CQnhPpQpMHQJCeE+lCkwdAkJ4T6UKTB0CQnhPpQpMHQJCeE+lCkwdAkJ4T6UKTB0CQnhPpQpMHQJCeE+lCkwdAkJ4T6UKTB0DCnhPpQpMHQJCeE+lCkwdAkJ4T6UKTB0CQnhPpQpMHQMKeE+lCkwdAkJ4T6UKTB0CQnhPpQpMHQJCeE+lCkwdAkJ4T6UKTB0CQnhPpQpMHQJCeE+lCkwdAkJ4T6UKTB0CQnhPpQpMHQJCeE+lCkwdAXp4T6UKTB0CQnhPpQpMHQJCeE+lCkwdAkJ4T6UKTB0BenhPpQpMHQJCeE+lCkwdAkJ4T6UKTB0CQnhPpQpMHQJCeE+lCkwdAkJ4T6UKTB0DCnhPpQpMHQJCeE+lCkwdAkJ4T6UKTB0CQnhPpQpMHQJCeE+lCkwdAkJ4T6UKTB0CQnhPpQpMHQJCeE+lCkwdAkJ4T6UKTB0CQnhPpQpMHQMKeE+lCkwdAkJ4T6UKTB0CQnhPpQpMHQJCeE+lCkwdAkJ4T6UKTB0CQnhPpQpMHQJCeE+lCkwdAkJ4T6UKTB0CQnhPpQpMHQJCeE+lCkwdAkJ4T6UKTB0CQnhPpQpMHQJCeE+lCkwdAkJ4T6UKTB0CQnhPpQpMHQJCeE+lCkwdAkJ4T6UKTB0DCnhPpQpMHQF6eE+lCkwdAkJ4T6UKTB0CQnhPpQpMHQF6eE+lCkwdAkJ4T6UKTB0CQnhPpQpMHQF6eE+lCkwdAkJ4T6UKTB0CQnhPpQpMHQJCeE+lCkwdAkJ4T6UKTB0CQnhPpQpMHQF6eE+lCkwdAkJ4T6UKTB0CQnhPpQpMHQMKeE+lCkwdAkJ4T6UKTB0CQnhPpQpMHQJCeE+lCkwdAkJ4T6UKTB0CQnhPpQpMHQJCeE+lCkwdAXp4T6UKTB0CQnhPpQpMHQJCeE+lCkwdAkJ4T6UKTB0CQnhPpQpMHQJCeE+lCkwdAkJ4T6UKTB0CQnhPpQpMHQJCeE+lCkwdAkJ4T6UKTB0CQnhPpQpMHQJCeE+lCkwdAkJ4T6UKTB0CQnhPpQpMHQF6eE+lCkwdAkJ4T6UKTB0CQnhPpQpMHQMKeE+lCkwdAkJ4T6UKTB0CQnhPpQpMHQJCeE+lCkwdAkJ4T6UKTB0CQnhPpQpMHQJCeE+lCkwdAkJ4T6UKTB0DCnhPpQpMHQJCeE+lCkwdAkJ4T6UKTB0CQnhPpQpMHQJCeE+lCkwdAkJ4T6UKTB0CQnhPpQpMHQJCeE+lCkwdAkJ4T6UKTB0CQnhPpQpMHQJCeE+lCkwdAkJ4T6UKTB0CQnhPpQpMHQJCeE+lCkwdAkJ4T6UKTB0CQnhPpQpMHQJCeE+lCkwdAkJ4T6UKTB0CQnhPpQpMHQJCeE+lCkwdAkJ4T6UKTB0CQnhPpQpMHQJCeE+lCkwdAkJ4T6UKTB0CQnhPpQpMHQJCeE+lCkwdAkJ4T6UKTB0CQnhPpQpMHQJCeE+lCkwdAkJ4T6UKTB0CQnhPpQpMHQJCeE+lCkwdAkJ4T6UKTB0CQnhPpQpMHQMKeE+lCkwdAkJ4T6UKTB0CQnhPpQpMHQJCeE+lCkwdAkJ4T6UKTB0CQnhPpQpMHQJCeE+lCkwdAkJ4T6UKTB0CQnhPpQpMHQJCeE+lCkwdAkJ4T6UKTB0CQnhPpQpMHQJCeE+lCkwdAkJ4T6UKTB0CQnhPpQpMHQJCeE+lCkwdAkJ4T6UKTB0CQnhPpQpMHQJCeE+lCkwdAkJ4T6UKTB0CQnhPpQpMHQJCeE+lCkwdAkJ4T6UKTB0CQnhPpQpMHQJCeE+lCkwdAkJ4T6UKTB0CQnhPpQpMHQJCeE+lCkwdAkJ4T6UKTB0CQnhPpQpMHQJCeE+lCkwdAkJ4T6UKTB0CQnhPpQpMHQMKeE+lCkwdAkJ4T6UKTB0CQnhPpQpMHQF6eE+lCkwdAXp4T6UKTB0CQnhPpQpMHQJCeE+lCkwdAkJ4T6UKTB0CQnhPpQpMHQJCeE+lCkwdAkJ4T6UKTB0CQnhPpQpMHQJCeE+lCkwdAwp4T6UKTB0DCnhPpQpMHQJCeE+lCkwdAkJ4T6UKTB0CQnhPpQpMHQJCeE+lCkwdAkJ4T6UKTB0CQnhPpQpMHQF6eE+lCkwdAkJ4T6UKTB0CQnhPpQpMHQJCeE+lCkwdAkJ4T6UKTB0CQnhPpQpMHQJCeE+lCkwdAXp4T6UKTB0CQnhPpQpMHQJCeE+lCkwdAXp4T6UKTB0CQnhPpQpMHQJCeE+lCkwdAkJ4T6UKTB0CQnhPpQpMHQF6eE+lCkwdAkJ4T6UKTB0DCnhPpQpMHQJCeE+lCkwdAkJ4T6UKTB0CQnhPpQpMHQJCeE+lCkwdAkJ4T6UKTB0CQnhPpQpMHQJCeE+lCkwdAkJ4T6UKTB0CQnhPpQpMHQJCeE+lCkwdAkJ4T6UKTB0CQnhPpQpMHQJCeE+lCkwdAkJ4T6UKTB0CQnhPpQpMHQJCeE+lCkwdAkJ4T6UKTB0CQnhPpQpMHQJCeE+lCkwdAkJ4T6UKTB0CQnhPpQpMHQJCeE+lCkwdAkJ4T6UKTB0CQnhPpQpMHQJCeE+lCkwdAkJ4T6UKTB0CQnhPpQpMHQJCeE+lCkwdAkJ4T6UKTB0CQnhPpQpMHQJCeE+lCkwdAkJ4T6UKTB0CQnhPpQpMHQJCeE+lCkwdAkJ4T6UKTB0CQnhPpQpMHQJCeE+lCkwdAkJ4T6UKTB0CQnhPpQpMHQJCeE+lCkwdAkJ4T6UKTB0CQnhPpQpMHQJCeE+lCkwdAkJ4T6UKTB0BenhPpQpMHQJCeE+lCkwdAkJ4T6UKTB0CQnhPpQpMHQJCeE+lCkwdAkJ4T6UKTB0CQnhPpQpMHQJCeE+lCkwdAkJ4T6UKTB0CQnhPpQpMHQJCeE+lCkwdAkJ4T6UKTB0CQnhPpQpMHQJCeE+lCkwdAkJ4T6UKTB0CQnhPpQpMHQJCeE+lCkwdAkJ4T6UKTB0CQnhPpQpMHQJCeE+lCkwdAkJ4T6UKTB0CQnhPpQpMHQJCeE+lCkwdAkJ4T6UKTB0CQnhPpQpMHQJCeE+lCkwdAkJ4T6UKTB0CQnhPpQpMHQJCeE+lCkwdAkJ4T6UKTB0CQnhPpQpMHQJCeE+lCkwdAkJ4T6UKTB0DCnhPpQpMHQJCeE+lCkwdAkJ4T6UKTB0CQnhPpQpMHQMKeE+lCkwdAkJ4T6UKTB0CQnhPpQpMHQJCeE+lCkwdAkJ4T6UKTB0CQnhPpQpMHQJCeE+lCkwdAkJ4T6UKTB0CQnhPpQpMHQJCeE+lCkwdAkJ4T6UKTB0BenhPpQpMHQJCeE+lCkwdAkJ4T6UKTB0CQnhPpQpMHQJCeE+lCkwdAkJ4T6UKTB0CQnhPpQpMHQF6eE+lCkwdAkJ4T6UKTB0CQnhPpQpMHQJCeE+lCkwdAkJ4T6UKTB0CQnhPpQpMHQMKeE+lCkwdAkJ4T6UKTB0CQnhPpQpMHQJCeE+lCkwdAkJ4T6UKTB0CQnhPpQpMHQJCeE+lCkwdAkJ4T6UKTB0CQnhPpQpMHQJCeE+lCkwdAkJ4T6UKTB0CQnhPpQpMHQJCeE+lCkwdAkJ4T6UKTB0CQnhPpQpMHQJCeE+lCkwdAkJ4T6UKTB0CQnhPpQpMHQJCeE+lCkwdAkJ4T6UKTB0CQnhPpQpMHQJCeE+lCkwdAkJ4T6UKTB0CQnhPpQpMHQJCeE+lCkwdAkJ4T6UKTB0CQnhPpQpMHQJCeE+lCkwdAkJ4T6UKTB0CQnhPpQpMHQJCeE+lCkwdAkJ4T6UKTB0CQnhPpQpMHQJCeE+lCkwdAkJ4T6UKTB0CQnhPpQpMHQJCeE+lCkwdAkJ4T6UKTB0CQnhPpQpMHQJCeE+lCkwdAkJ4T6UKTB0CQnhPpQpMHQJCeE+lCkwdAkJ4T6UKTB0CQnhPpQpMHQF6eE+lCkwdAkJ4T6UKTB0DCnhPpQpMHQJCeE+lCkwdAwp4T6UKTB0CQnhPpQpMHQF6eE+lCkwdAkJ4T6UKTB0CQnhPpQpMHQJCeE+lCkwdAwp4T6UKTB0CQnhPpQpMHQJCeE+lCkwdAkJ4T6UKTB0CQnhPpQpMHQJCeE+lCkwdAkJ4T6UKTB0CQnhPpQpMHQF6eE+lCkwdAkJ4T6UKTB0CQnhPpQpMHQJCeE+lCkwdAkJ4T6UKTB0CQnhPpQpMHQJCeE+lCkwdAkJ4T6UKTB0BenhPpQpMHQJCeE+lCkwdAwp4T6UKTB0CQnhPpQpMHQJCeE+lCkwdAwp4T6UKTB0DCnhPpQpMHQJCeE+lCkwdAkJ4T6UKTB0CQnhPpQpMHQJCeE+lCkwdAkJ4T6UKTB0CQnhPpQpMHQJCeE+lCkwdAkJ4T6UKTB0CQnhPpQpMHQJCeE+lCkwdAkJ4T6UKTB0CQnhPpQpMHQJCeE+lCkwdAkJ4T6UKTB0CQnhPpQpMHQJCeE+lCkwdAkJ4T6UKTB0BenhPpQpMHQJCeE+lCkwdAkJ4T6UKTB0CQnhPpQpMHQJCeE+lCkwdAkJ4T6UKTB0CQnhPpQpMHQMKeE+lCkwdAkJ4T6UKTB0DCnhPpQpMHQJCeE+lCkwdAkJ4T6UKTB0CQnhPpQpMHQJCeE+lCkwdAkJ4T6UKTB0CQnhPpQpMHQJCeE+lCkwdAkJ4T6UKTB0CQnhPpQpMHQJCeE+lCkwdAkJ4T6UKTB0CQnhPpQpMHQJCeE+lCkwdAkJ4T6UKTB0CQnhPpQpMHQJCeE+lCkwdAkJ4T6UKTB0CQnhPpQpMHQJCeE+lCkwdAkJ4T6UKTB0CQnhPpQpMHQJCeE+lCkwdAkJ4T6UKTB0CQnhPpQpMHQJCeE+lCkwdAkJ4T6UKTB0CQnhPpQpMHQJCeE+lCkwdAkJ4T6UKTB0CQnhPpQpMHQJCeE+lCkwdAkJ4T6UKTB0CQnhPpQpMHQJCeE+lCkwdAkJ4T6UKTB0CQnhPpQpMHQMKeE+lCkwdAkJ4T6UKTB0CQnhPpQpMHQJCeE+lCkwdAkJ4T6UKTB0CQnhPpQpMHQJCeE+lCkwdAkJ4T6UKTB0DCnhPpQpMHQJCeE+lCkwdAkJ4T6UKTB0CQnhPpQpMHQJCeE+lCkwdAwp4T6UKTB0CQnhPpQpMHQJCeE+lCkwdAkJ4T6UKTB0CQnhPpQpMHQJCeE+lCkwdAkJ4T6UKTB0CQnhPpQpMHQJCeE+lCkwdAwp4T6UKTB0CQnhPpQpMHQJCeE+lCkwdAkJ4T6UKTB0CQnhPpQpMHQJCeE+lCkwdAkJ4T6UKTB0CQnhPpQpMHQJCeE+lCkwdAwp4T6UKTB0CQnhPpQpMHQJCeE+lCkwdAXp4T6UKTB0BenhPpQpMHQJCeE+lCkwdAkJ4T6UKTB0CQnhPpQpMHQJCeE+lCkwdAkJ4T6UKTB0CQnhPpQpMHQF6eE+lCkwdAkJ4T6UKTB0CQnhPpQpMHQJCeE+lCkwdAXp4T6UKTB0CQnhPpQpMHQMKeE+lCkwdAkJ4T6UKTB0CQnhPpQpMHQJCeE+lCkwdAXp4T6UKTB0CQnhPpQpMHQJCeE+lCkwdAkJ4T6UKTB0CQnhPpQpMHQF6eE+lCkwdAkJ4T6UKTB0CQnhPpQpMHQJCeE+lCkwdAXp4T6UKTB0CQnhPpQpMHQF6eE+lCkwdAwp4T6UKTB0CQnhPpQpMHQJCeE+lCkwdAkJ4T6UKTB0DCnhPpQpMHQJCeE+lCkwdAkJ4T6UKTB0CQnhPpQpMHQJCeE+lCkwdAkJ4T6UKTB0CQnhPpQpMHQJCeE+lCkwdAkJ4T6UKTB0CQnhPpQpMHQJCeE+lCkwdAkJ4T6UKTB0CQnhPpQpMHQJCeE+lCkwdAkJ4T6UKTB0CQnhPpQpMHQJCeE+lCkwdAkJ4T6UKTB0CQnhPpQpMHQJCeE+lCkwdAkJ4T6UKTB0DCnhPpQpMHQJCeE+lCkwdAkJ4T6UKTB0CQnhPpQpMHQJCeE+lCkwdAXp4T6UKTB0CQnhPpQpMHQJCeE+lCkwdAkJ4T6UKTB0CQnhPpQpMHQMKeE+lCkwdAkJ4T6UKTB0CQnhPpQpMHQJCeE+lCkwdAkJ4T6UKTB0CQnhPpQpMHQJCeE+lCkwdAkJ4T6UKTB0DCnhPpQpMHQJCeE+lCkwdAkJ4T6UKTB0CQnhPpQpMHQJCeE+lCkwdAkJ4T6UKTB0CQnhPpQpMHQJCeE+lCkwdAkJ4T6UKTB0CQnhPpQpMHQF6eE+lCkwdAkJ4T6UKTB0CQnhPpQpMHQJCeE+lCkwdAkJ4T6UKTB0CQnhPpQpMHQJCeE+lCkwdAwp4T6UKTB0CQnhPpQpMHQJCeE+lCkwdAkJ4T6UKTB0DCnhPpQpMHQJCeE+lCkwdAkJ4T6UKTB0CQnhPpQpMHQMKeE+lCkwdAkJ4T6UKTB0CQnhPpQpMHQF6eE+lCkwdAkJ4T6UKTB0CQnhPpQpMHQJCeE+lCkwdAkJ4T6UKTB0CQnhPpQpMHQJCeE+lCkwdAkJ4T6UKTB0CQnhPpQpMHQJCeE+lCkwdAkJ4T6UKTB0DCnhPpQpMHQMKeE+lCkwdAkJ4T6UKTB0CQnhPpQpMHQJCeE+lCkwdAkJ4T6UKTB0CQnhPpQpMHQJCeE+lCkwdAXp4T6UKTB0CQnhPpQpMHQJCeE+lCkwdAkJ4T6UKTB0CQnhPpQpMHQJCeE+lCkwdAkJ4T6UKTB0CQnhPpQpMHQJCeE+lCkwdAkJ4T6UKTB0CQnhPpQpMHQJCeE+lCkwdAkJ4T6UKTB0CQnhPpQpMHQJCeE+lCkwdAXp4T6UKTB0CQnhPpQpMHQMKeE+lCkwdAXp4T6UKTB0CQnhPpQpMHQJCeE+lCkwdAkJ4T6UKTB0DCnhPpQpMHQJCeE+lCkwdAkJ4T6UKTB0CQnhPpQpMHQMKeE+lCkwdAkJ4T6UKTB0CQnhPpQpMHQJCeE+lCkwdAkJ4T6UKTB0CQnhPpQpMHQJCeE+lCkwdAkJ4T6UKTB0CQnhPpQpMHQJCeE+lCkwdAkJ4T6UKTB0CQnhPpQpMHQJCeE+lCkwdAXp4T6UKTB0DCnhPpQpMHQJCeE+lCkwdAkJ4T6UKTB0CQnhPpQpMHQJCeE+lCkwdAkJ4T6UKTB0CQnhPpQpMHQJCeE+lCkwdAkJ4T6UKTB0CQnhPpQpMHQJCeE+lCkwdAwp4T6UKTB0CQnhPpQpMHQMKeE+lCkwdAkJ4T6UKTB0CQnhPpQpMHQJCeE+lCkwdAkJ4T6UKTB0CQnhPpQpMHQJCeE+lCkwdAkJ4T6UKTB0CQnhPpQpMHQJCeE+lCkwdAwp4T6UKTB0CQnhPpQpMHQJCeE+lCkwdAkJ4T6UKTB0CQnhPpQpMHQF6eE+lCkwdAkJ4T6UKTB0CQnhPpQpMHQJCeE+lCkwdAkJ4T6UKTB0CQnhPpQpMHQJCeE+lCkwdAkJ4T6UKTB0CQnhPpQpMHQJCeE+lCkwdAkJ4T6UKTB0CQnhPpQpMHQJCeE+lCkwdAkJ4T6UKTB0CQnhPpQpMHQJCeE+lCkwdAkJ4T6UKTB0DCnhPpQpMHQJCeE+lCkwdAkJ4T6UKTB0DCnhPpQpMHQJCeE+lCkwdAwp4T6UKTB0CQnhPpQpMHQJCeE+lCkwdAkJ4T6UKTB0CQnhPpQpMHQJCeE+lCkwdAkJ4T6UKTB0CQnhPpQpMHQJCeE+lCkwdAkJ4T6UKTB0BenhPpQpMHQMKeE+lCkwdAkJ4T6UKTB0CQnhPpQpMHQJCeE+lCkwdAkJ4T6UKTB0DCnhPpQpMHQJCeE+lCkwdAkJ4T6UKTB0CQnhPpQpMHQJCeE+lCkwdAkJ4T6UKTB0CQnhPpQpMHQJCeE+lCkwdAkJ4T6UKTB0CQnhPpQpMHQJCeE+lCkwdAkJ4T6UKTB0CQnhPpQpMHQJCeE+lCkwdAkJ4T6UKTB0CQnhPpQpMHQJCeE+lCkwdAkJ4T6UKTB0CQnhPpQpMHQJCeE+lCkwdAkJ4T6UKTB0CQnhPpQpMHQJCeE+lCkwdAkJ4T6UKTB0CQnhPpQpMHQJCeE+lCkwdAkJ4T6UKTB0DCnhPpQpMHQJCeE+lCkwdAkJ4T6UKTB0BenhPpQpMHQJCeE+lCkwdAkJ4T6UKTB0CQnhPpQpMHQJCeE+lCkwdAkJ4T6UKTB0CQnhPpQpMHQJCeE+lCkwdAkJ4T6UKTB0CQnhPpQpMHQJCeE+lCkwdAkJ4T6UKTB0CQnhPpQpMHQJCeE+lCkwdAkJ4T6UKTB0CQnhPpQpMHQJCeE+lCkwdA",
          "dtype": "f8"
         },
         "xaxis": "x",
         "yaxis": "y"
        },
        {
         "marker": {
          "color": [
           "green",
           "orange",
           "purple"
          ]
         },
         "type": "bar",
         "x": [
          "Local",
          "Empate",
          "Visitante"
         ],
         "xaxis": "x2",
         "y": [
          14.423384828301577,
          9.26113733966831,
          18.599064679631798
         ],
         "yaxis": "y2"
        },
        {
         "mode": "lines",
         "name": "Error Rolling",
         "type": "scatter",
         "x": [
          0,
          1,
          2,
          3,
          4,
          5,
          6,
          7,
          8,
          9,
          10,
          11,
          12,
          13,
          14,
          15,
          16,
          17,
          18,
          19,
          20,
          21,
          22,
          23,
          24,
          25,
          26,
          27,
          28,
          29,
          30,
          31,
          32,
          33,
          34,
          35,
          36,
          37,
          38,
          39,
          40,
          41,
          42,
          43,
          44,
          45,
          46,
          47,
          48,
          49,
          50,
          51,
          52,
          53,
          54,
          55,
          56,
          57,
          58,
          59,
          60,
          61,
          62,
          63,
          64,
          65,
          66,
          67,
          68,
          69,
          70,
          71,
          72,
          73,
          74,
          75,
          76,
          77,
          78,
          79,
          80,
          81,
          82,
          83,
          84,
          85,
          86,
          87,
          88,
          89,
          90,
          91,
          92,
          93,
          94,
          95,
          96,
          97,
          98,
          99,
          100,
          101,
          102,
          103,
          104,
          105,
          106,
          107,
          108,
          109,
          110,
          111,
          112,
          113,
          114,
          115,
          116,
          117,
          118,
          119,
          120,
          121,
          122,
          123,
          124,
          125,
          126,
          127,
          128,
          129,
          130,
          131,
          132,
          133,
          134,
          135,
          136,
          137,
          138,
          139,
          140,
          141,
          142,
          143,
          144,
          145,
          146,
          147,
          148,
          149,
          150,
          151,
          152,
          153,
          154,
          155,
          156,
          157,
          158,
          159,
          160,
          161,
          162,
          163,
          164,
          165,
          166,
          167,
          168,
          169,
          170,
          171,
          172,
          173,
          174,
          175,
          176,
          177,
          178,
          179,
          180,
          181,
          182,
          183,
          184,
          185,
          186,
          187,
          188,
          189,
          190,
          191,
          192,
          193,
          194,
          195,
          196,
          197,
          198,
          199,
          200,
          201,
          202,
          203,
          204,
          205,
          206,
          207,
          208,
          209,
          210,
          211,
          212,
          213,
          214,
          215,
          216,
          217,
          218,
          219,
          220,
          221,
          222,
          223,
          224,
          225,
          226,
          227,
          228,
          229,
          230,
          231,
          232,
          233,
          234,
          235,
          236,
          237,
          238,
          239,
          240,
          241,
          242,
          243,
          244,
          245,
          246,
          247,
          248,
          249,
          250,
          251,
          252,
          253,
          254,
          255,
          256,
          257,
          258,
          259,
          260,
          261,
          262,
          263,
          264,
          265,
          266,
          267,
          268,
          269,
          270,
          271,
          272,
          273,
          274,
          275,
          276,
          277,
          278,
          279,
          280,
          281,
          282,
          283,
          284,
          285,
          286,
          287,
          288,
          289,
          290,
          291,
          292,
          293,
          294,
          295,
          296,
          297,
          298,
          299,
          300,
          301,
          302,
          303,
          304,
          305,
          306,
          307,
          308,
          309,
          310,
          311,
          312,
          313,
          314,
          315,
          316,
          317,
          318,
          319,
          320,
          321,
          322,
          323,
          324,
          325,
          326,
          327,
          328,
          329,
          330,
          331,
          332,
          333,
          334,
          335,
          336,
          337,
          338,
          339,
          340,
          341,
          342,
          343,
          344,
          345,
          346,
          347,
          348,
          349,
          350,
          351,
          352,
          353,
          354,
          355,
          356,
          357,
          358,
          359,
          360,
          361,
          362,
          363,
          364,
          365,
          366,
          367,
          368,
          369,
          370,
          371,
          372,
          373,
          374,
          375,
          376,
          377,
          378,
          379,
          380,
          381,
          382,
          383,
          384,
          385,
          386,
          387,
          388,
          389,
          390,
          391,
          392,
          393,
          394,
          395,
          396,
          397,
          398,
          399,
          400,
          401,
          402,
          403,
          404,
          405,
          406,
          407,
          408,
          409,
          410,
          411,
          412,
          413,
          414,
          415,
          416,
          417,
          418,
          419,
          420,
          421,
          422,
          423,
          424,
          425,
          426,
          427,
          428,
          429,
          430,
          431,
          432,
          433,
          434,
          435,
          436,
          437,
          438,
          439,
          440,
          441,
          442,
          443,
          444,
          445,
          446,
          447,
          448,
          449
         ],
         "xaxis": "x3",
         "y": [
          0.0058130671653403975,
          0.005927663003889423,
          0.006024757172191015,
          0.00610644136101806,
          0.006244562263470175,
          0.006145164928778724,
          0.00614858377312951,
          0.006161359137411333,
          0.006083698406100351,
          0.006144871360130453,
          0.006842159452155392,
          0.0073910923120033886,
          0.007952554870979567,
          0.008620526836850257,
          0.009239868707651224,
          0.009285742409586052,
          0.009383492679750116,
          0.00932780339727373,
          0.009497367056915208,
          0.009477387036935188,
          0.009389708825011934,
          0.009393483394920467,
          0.009362576084663515,
          0.009279052193775188,
          0.00942288066626627,
          0.009287793531179131,
          0.009229038860070218,
          0.009290585055504653,
          0.009319396580114497,
          0.0089232001275809,
          0.009091267354471659,
          0.00947523405253313,
          0.009157173599933727,
          0.008848273457125116,
          0.008682269070874491,
          0.008683209508271924,
          0.00867270949777192,
          0.008685352863731137,
          0.008523640086209778,
          0.008476917292720598,
          0.008558719584787523,
          0.00873860429955596,
          0.008780065684360166,
          0.008808416418593255,
          0.00875736373945708,
          0.00861300536559051,
          0.008587942708948906,
          0.00844811842859427,
          0.008456675021843617,
          0.00851143579974114,
          0.008530861211490852,
          0.008417205810339258,
          0.00828938860882825,
          0.008219042288481929,
          0.008214158283597924,
          0.008170407449931125,
          0.008276932833622502,
          0.00836486068769096,
          0.008369586518610181,
          0.008217816719781558,
          0.007536868497037666,
          0.006948254334301258,
          0.0063644651461117925,
          0.005807699587887134,
          0.005226873123248627,
          0.005239860136235643,
          0.00524311996708168,
          0.005174013236937154,
          0.005062540335616919,
          0.005041885602458378,
          0.0051129839030648805,
          0.005388942533508793,
          0.005663852085281604,
          0.006439946125706859,
          0.006631401590722747,
          0.00697012212207885,
          0.007630836937590919,
          0.007965368668892614,
          0.008079705312641022,
          0.008056185788222363,
          0.007570768634679443,
          0.006796615373360462,
          0.006763879068522831,
          0.006714744660661327,
          0.006762338046148009,
          0.006850681075667513,
          0.006914173139159576,
          0.006914173139159572,
          0.007073864274512411,
          0.007066284645278111,
          0.006943354759452011,
          0.006799545080758613,
          0.006905919951464696,
          0.006833847672610931,
          0.006752906040795823,
          0.006961154013435715,
          0.007033161029152555,
          0.007091449258498894,
          0.007146236764899303,
          0.0071806043580904255,
          0.007028654602378417,
          0.0070469696206934395,
          0.007107662683872884,
          0.007127306905197779,
          0.0070955608734517474,
          0.007191942143217913,
          0.007212492563299464,
          0.007112246404229774,
          0.0071848234060313395,
          0.007248038484726296,
          0.007225432951284852,
          0.007312110766223539,
          0.007296884162761641,
          0.007258940673206111,
          0.007265837371279282,
          0.00731052386757868,
          0.0072006011105971044,
          0.00723052401520031,
          0.00730558235069422,
          0.007313026250969798,
          0.007269405154717123,
          0.006981973314655087,
          0.006704909727308874,
          0.006041956302510618,
          0.005842674304264039,
          0.005477509628816737,
          0.004877114981734594,
          0.004458343522022767,
          0.004281731698726792,
          0.0043830584733664905,
          0.004251808729713642,
          0.004239318487715202,
          0.004163870493192068,
          0.0044701262215915616,
          0.004773095485959073,
          0.005106759841980355,
          0.005474073401929478,
          0.0054728979262382675,
          0.006010514428420155,
          0.006111524529430254,
          0.006169578790270896,
          0.006218718839410942,
          0.006803596722187542,
          0.007509475264651999,
          0.008273858490316872,
          0.008178985382299166,
          0.008076233029889192,
          0.008031930007689994,
          0.007920818896578884,
          0.007837295005690557,
          0.007949268929571297,
          0.008065264045566409,
          0.008012577713810308,
          0.007979058513793547,
          0.007994890933718034,
          0.007861533054205116,
          0.007804000110311619,
          0.00776903365590782,
          0.007777486735136332,
          0.007704510176091662,
          0.007706203808273111,
          0.007595073898756106,
          0.007611873636486077,
          0.007739832559764297,
          0.007777513377198874,
          0.007825896366758336,
          0.007854650292571081,
          0.007769638685820351,
          0.007621317432235939,
          0.007663832294422921,
          0.007637066261464938,
          0.007733042636511085,
          0.00770766966996165,
          0.00762099181905616,
          0.007502852814556609,
          0.0075715880009388494,
          0.007513396982596027,
          0.007615912654217389,
          0.007696362845705216,
          0.007666284617809036,
          0.0076803588032789616,
          0.007854021206449562,
          0.00785096870339706,
          0.007523672300663313,
          0.007235472580477111,
          0.007541907116013817,
          0.007811419213112125,
          0.008330095269599708,
          0.0076884307686329745,
          0.007614158635537316,
          0.00765943971121553,
          0.007635909469853024,
          0.006941807477852313,
          0.006242025783929877,
          0.006123725936554734,
          0.006768891357879752,
          0.0074587847008186926,
          0.008120147502185482,
          0.008213997462955591,
          0.00829247084879341,
          0.008269745008321214,
          0.008268388340297887,
          0.008471684296347823,
          0.008454965950846511,
          0.008399917844647513,
          0.00848484529634581,
          0.008428206934194668,
          0.008493568396892148,
          0.008407964603012342,
          0.008463781144896992,
          0.00851156942219346,
          0.008445191355815394,
          0.008351532804384507,
          0.008214984681339752,
          0.008305118945280627,
          0.008168166512876534,
          0.008249335344045363,
          0.008312751460093058,
          0.008383519495593897,
          0.008352858798266541,
          0.008377973774531013,
          0.00845031809687533,
          0.009153930828048171,
          0.009250633897949001,
          0.00928491334399315,
          0.009256040256296538,
          0.009382005794026784,
          0.009263835675856669,
          0.009311224271275682,
          0.009364678439485297,
          0.009483210665691546,
          0.009517796235160837,
          0.009675138892503496,
          0.00973280960346778,
          0.009687057969480852,
          0.009072271449554959,
          0.008403481191437235,
          0.007925153794428742,
          0.00785091530413017,
          0.00788349229026753,
          0.007845661624516507,
          0.008518480100659954,
          0.009143691918507342,
          0.009864705549434034,
          0.009889383612879086,
          0.00977520595316093,
          0.009142373736388803,
          0.008403719805099304,
          0.00835748889194824,
          0.008422978957438305,
          0.008341267968939258,
          0.008232511501445296,
          0.008201027132575138,
          0.008299647667652671,
          0.008272813823055513,
          0.008226840661116648,
          0.008291858443411914,
          0.008211448282153392,
          0.008210366213918841,
          0.008252125138960991,
          0.00831206519890105,
          0.008425044588988868,
          0.008509839910626295,
          0.008475889213244256,
          0.00833985214141026,
          0.008299999445197295,
          0.008236639048173405,
          0.008148938792797317,
          0.008135582919971802,
          0.008013373703793793,
          0.008053259086647327,
          0.007903966384975245,
          0.0071869563753295205,
          0.007068495470520313,
          0.007085983347559784,
          0.007038462231271528,
          0.006998389371526534,
          0.007160848533985691,
          0.007166246644646961,
          0.007068351442625338,
          0.006989704599272621,
          0.0068525549272392275,
          0.006746448369519764,
          0.0066468287993761786,
          0.006625378691085655,
          0.00667533745354822,
          0.006654710939877954,
          0.006567266323686578,
          0.006736298908779248,
          0.006673398866669498,
          0.006638600782120072,
          0.005874748646283661,
          0.005187006765906208,
          0.004455512341776218,
          0.0037841925815240395,
          0.003146743104875922,
          0.003108652618926988,
          0.0031517673988838758,
          0.0031027613295205956,
          0.00304232176908104,
          0.003099366586096588,
          0.0030934846056187657,
          0.0029119511601962333,
          0.002861204112329423,
          0.0034864905003366697,
          0.004165964875617596,
          0.004914648195138632,
          0.004927109254328661,
          0.00492672961612711,
          0.004873840920229791,
          0.0049490288901546005,
          0.005006475565229689,
          0.004923507971626635,
          0.004917289273087753,
          0.004924785930340145,
          0.004959978858521472,
          0.004998409904987362,
          0.005058144704766416,
          0.005095327958530644,
          0.005182263806101952,
          0.00519759147109125,
          0.005274539850419013,
          0.005234044346588597,
          0.005262204468442899,
          0.005284052255739096,
          0.005957020248933325,
          0.006510261703981453,
          0.007034491170846491,
          0.007540787734822865,
          0.008299814586170906,
          0.008789320610854792,
          0.009539787806279532,
          0.009488469119733339,
          0.009497008870588455,
          0.009490095721007523,
          0.009317586505465094,
          0.009308356582578163,
          0.009390962030227863,
          0.009245662884928719,
          0.009394547118285818,
          0.009996283909777946,
          0.010520705864939939,
          0.0112522309041448,
          0.01191020820212608,
          0.012645511450510351,
          0.01330511876459365,
          0.013928711977413548,
          0.013866504186737126,
          0.013865644976707107,
          0.013840548451610583,
          0.013794390179907032,
          0.013833314454500095,
          0.013935728358876015,
          0.013912411430007094,
          0.01337526444228963,
          0.012714220550261328,
          0.011943489932097253,
          0.012008077492192935,
          0.01203072420715983,
          0.011980591669597173,
          0.011830739166480609,
          0.011654848990590433,
          0.011693522289899195,
          0.011709097056940836,
          0.011722785123260486,
          0.01175470493415459,
          0.01164565615910794,
          0.011690189850694152,
          0.011593140334962384,
          0.011584560326382377,
          0.011584560326382371,
          0.011483069460560298,
          0.011484901442261886,
          0.011470294875223068,
          0.01142838378330048,
          0.010774178175823849,
          0.010154499830337666,
          0.00951421098425536,
          0.008903339256880295,
          0.008190760699492254,
          0.0077139674522270245,
          0.006956752618475703,
          0.006978202726766223,
          0.006976493410607008,
          0.007006650237907599,
          0.0070311444980706425,
          0.007120830910269924,
          0.007036016716017608,
          0.007071467376468266,
          0.007019853172182304,
          0.006380585693220428,
          0.005930177471981462,
          0.005279372429268911,
          0.004671864567561146,
          0.003973991471887492,
          0.003335834266094717,
          0.002789973482957766,
          0.0028229415075523125,
          0.0028365256078072896,
          0.0028598380115835596,
          0.002913990729167626,
          0.002878233650377324,
          0.0029268049991731625,
          0.003014671598407168,
          0.002900954746789246,
          0.0029399110841436295,
          0.0029640995588408937,
          0.0030311694557115534,
          0.0030683118612750125,
          0.0032469848134192734,
          0.00322541137635731,
          0.00330981658219065,
          0.0033038564235587397,
          0.003277543692508109,
          0.003209479733608718,
          0.0031697790325807863,
          0.0032294850250897734,
          0.0031724865304418337,
          0.0032505801790578114,
          0.003243211224320435,
          0.0031605918023220082,
          0.003166844572905987,
          0.0032477229611488135,
          0.0032497699766039245,
          0.0032228400258482548,
          0.0032731458367895173,
          0.003326868880892282,
          0.003382640721561145,
          0.003419441365572413,
          0.003466453713267561,
          0.003523768947053392,
          0.0034799597274586835,
          0.0035447846396118397,
          0.003624863236944833,
          0.0037593462262060485,
          0.00380970445234976,
          0.0038760321465668747,
          0.003869812225839664,
          0.003836778265426317,
          0.0038542044355242442,
          0.0038744549599764523,
          0.003924987541183374,
          0.004003572812691987,
          0.003976264467215124,
          0.004075121771237425,
          0.004080422873866772,
          0.004088673650439274,
          0.004061000718627717,
          0.00410343428438229,
          0.004088587124740051
         ],
         "yaxis": "y3"
        },
        {
         "marker": {
          "color": [
           "green",
           "red",
           "orange"
          ]
         },
         "type": "bar",
         "x": [
          "Válidas",
          "Inválidas",
          "Arbitrajes"
         ],
         "xaxis": "x4",
         "y": [
          1200,
          0,
          0
         ],
         "yaxis": "y4"
        },
        {
         "colorscale": [
          [
           0,
           "rgb(103,0,31)"
          ],
          [
           0.1,
           "rgb(178,24,43)"
          ],
          [
           0.2,
           "rgb(214,96,77)"
          ],
          [
           0.3,
           "rgb(244,165,130)"
          ],
          [
           0.4,
           "rgb(253,219,199)"
          ],
          [
           0.5,
           "rgb(247,247,247)"
          ],
          [
           0.6,
           "rgb(209,229,240)"
          ],
          [
           0.7,
           "rgb(146,197,222)"
          ],
          [
           0.8,
           "rgb(67,147,195)"
          ],
          [
           0.9,
           "rgb(33,102,172)"
          ],
          [
           1,
           "rgb(5,48,97)"
          ]
         ],
         "type": "heatmap",
         "x": [
          "H",
          "D",
          "A"
         ],
         "xaxis": "x5",
         "y": [
          "H",
          "D",
          "A"
         ],
         "yaxis": "y5",
         "z": [
          [
           0.8816914608805496,
           -0.1582729032336734,
           -0.5170749500511879
          ],
          [
           -0.1217363771581399,
           0.871097196903307,
           0.7599395409253378
          ],
          [
           -0.5299425909265818,
           0.8224014545915238,
           0.9060590651367086
          ]
         ],
         "zmid": 0
        },
        {
         "mode": "markers",
         "name": "Valor H vs D",
         "opacity": 0.6,
         "type": "scatter",
         "x": {
          "bdata": "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",
          "dtype": "f8"
         },
         "xaxis": "x6",
         "y": {
          "bdata": "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",
          "dtype": "f8"
         },
         "yaxis": "y6"
        }
       ],
       "layout": {
        "annotations": [
         {
          "font": {
           "size": 16
          },
          "showarrow": false,
          "text": "Distribución de Overround",
          "x": 0.225,
          "xanchor": "center",
          "xref": "paper",
          "y": 1,
          "yanchor": "bottom",
          "yref": "paper"
         },
         {
          "font": {
           "size": 16
          },
          "showarrow": false,
          "text": "Precisión por Tipo de Cuota",
          "x": 0.775,
          "xanchor": "center",
          "xref": "paper",
          "y": 1,
          "yanchor": "bottom",
          "yref": "paper"
         },
         {
          "font": {
           "size": 16
          },
          "showarrow": false,
          "text": "Evolución Temporal de Errores",
          "x": 0.225,
          "xanchor": "center",
          "xref": "paper",
          "y": 0.6111111111111112,
          "yanchor": "bottom",
          "yref": "paper"
         },
         {
          "font": {
           "size": 16
          },
          "showarrow": false,
          "text": "Detección de Arbitrajes",
          "x": 0.775,
          "xanchor": "center",
          "xref": "paper",
          "y": 0.6111111111111112,
          "yanchor": "bottom",
          "yref": "paper"
         },
         {
          "font": {
           "size": 16
          },
          "showarrow": false,
          "text": "Correlación Predicciones vs Reales",
          "x": 0.225,
          "xanchor": "center",
          "xref": "paper",
          "y": 0.22222222222222224,
          "yanchor": "bottom",
          "yref": "paper"
         },
         {
          "font": {
           "size": 16
          },
          "showarrow": false,
          "text": "Análisis de Valor",
          "x": 0.775,
          "xanchor": "center",
          "xref": "paper",
          "y": 0.22222222222222224,
          "yanchor": "bottom",
          "yref": "paper"
         }
        ],
        "height": 900,
        "showlegend": true,
        "template": {
         "data": {
          "bar": [
           {
            "error_x": {
             "color": "#2a3f5f"
            },
            "error_y": {
             "color": "#2a3f5f"
            },
            "marker": {
             "line": {
              "color": "#E5ECF6",
              "width": 0.5
             },
             "pattern": {
              "fillmode": "overlay",
              "size": 10,
              "solidity": 0.2
             }
            },
            "type": "bar"
           }
          ],
          "barpolar": [
           {
            "marker": {
             "line": {
              "color": "#E5ECF6",
              "width": 0.5
             },
             "pattern": {
              "fillmode": "overlay",
              "size": 10,
              "solidity": 0.2
             }
            },
            "type": "barpolar"
           }
          ],
          "carpet": [
           {
            "aaxis": {
             "endlinecolor": "#2a3f5f",
             "gridcolor": "white",
             "linecolor": "white",
             "minorgridcolor": "white",
             "startlinecolor": "#2a3f5f"
            },
            "baxis": {
             "endlinecolor": "#2a3f5f",
             "gridcolor": "white",
             "linecolor": "white",
             "minorgridcolor": "white",
             "startlinecolor": "#2a3f5f"
            },
            "type": "carpet"
           }
          ],
          "choropleth": [
           {
            "colorbar": {
             "outlinewidth": 0,
             "ticks": ""
            },
            "type": "choropleth"
           }
          ],
          "contour": [
           {
            "colorbar": {
             "outlinewidth": 0,
             "ticks": ""
            },
            "colorscale": [
             [
              0,
              "#0d0887"
             ],
             [
              0.1111111111111111,
              "#46039f"
             ],
             [
              0.2222222222222222,
              "#7201a8"
             ],
             [
              0.3333333333333333,
              "#9c179e"
             ],
             [
              0.4444444444444444,
              "#bd3786"
             ],
             [
              0.5555555555555556,
              "#d8576b"
             ],
             [
              0.6666666666666666,
              "#ed7953"
             ],
             [
              0.7777777777777778,
              "#fb9f3a"
             ],
             [
              0.8888888888888888,
              "#fdca26"
             ],
             [
              1,
              "#f0f921"
             ]
            ],
            "type": "contour"
           }
          ],
          "contourcarpet": [
           {
            "colorbar": {
             "outlinewidth": 0,
             "ticks": ""
            },
            "type": "contourcarpet"
           }
          ],
          "heatmap": [
           {
            "colorbar": {
             "outlinewidth": 0,
             "ticks": ""
            },
            "colorscale": [
             [
              0,
              "#0d0887"
             ],
             [
              0.1111111111111111,
              "#46039f"
             ],
             [
              0.2222222222222222,
              "#7201a8"
             ],
             [
              0.3333333333333333,
              "#9c179e"
             ],
             [
              0.4444444444444444,
              "#bd3786"
             ],
             [
              0.5555555555555556,
              "#d8576b"
             ],
             [
              0.6666666666666666,
              "#ed7953"
             ],
             [
              0.7777777777777778,
              "#fb9f3a"
             ],
             [
              0.8888888888888888,
              "#fdca26"
             ],
             [
              1,
              "#f0f921"
             ]
            ],
            "type": "heatmap"
           }
          ],
          "histogram": [
           {
            "marker": {
             "pattern": {
              "fillmode": "overlay",
              "size": 10,
              "solidity": 0.2
             }
            },
            "type": "histogram"
           }
          ],
          "histogram2d": [
           {
            "colorbar": {
             "outlinewidth": 0,
             "ticks": ""
            },
            "colorscale": [
             [
              0,
              "#0d0887"
             ],
             [
              0.1111111111111111,
              "#46039f"
             ],
             [
              0.2222222222222222,
              "#7201a8"
             ],
             [
              0.3333333333333333,
              "#9c179e"
             ],
             [
              0.4444444444444444,
              "#bd3786"
             ],
             [
              0.5555555555555556,
              "#d8576b"
             ],
             [
              0.6666666666666666,
              "#ed7953"
             ],
             [
              0.7777777777777778,
              "#fb9f3a"
             ],
             [
              0.8888888888888888,
              "#fdca26"
             ],
             [
              1,
              "#f0f921"
             ]
            ],
            "type": "histogram2d"
           }
          ],
          "histogram2dcontour": [
           {
            "colorbar": {
             "outlinewidth": 0,
             "ticks": ""
            },
            "colorscale": [
             [
              0,
              "#0d0887"
             ],
             [
              0.1111111111111111,
              "#46039f"
             ],
             [
              0.2222222222222222,
              "#7201a8"
             ],
             [
              0.3333333333333333,
              "#9c179e"
             ],
             [
              0.4444444444444444,
              "#bd3786"
             ],
             [
              0.5555555555555556,
              "#d8576b"
             ],
             [
              0.6666666666666666,
              "#ed7953"
             ],
             [
              0.7777777777777778,
              "#fb9f3a"
             ],
             [
              0.8888888888888888,
              "#fdca26"
             ],
             [
              1,
              "#f0f921"
             ]
            ],
            "type": "histogram2dcontour"
           }
          ],
          "mesh3d": [
           {
            "colorbar": {
             "outlinewidth": 0,
             "ticks": ""
            },
            "type": "mesh3d"
           }
          ],
          "parcoords": [
           {
            "line": {
             "colorbar": {
              "outlinewidth": 0,
              "ticks": ""
             }
            },
            "type": "parcoords"
           }
          ],
          "pie": [
           {
            "automargin": true,
            "type": "pie"
           }
          ],
          "scatter": [
           {
            "fillpattern": {
             "fillmode": "overlay",
             "size": 10,
             "solidity": 0.2
            },
            "type": "scatter"
           }
          ],
          "scatter3d": [
           {
            "line": {
             "colorbar": {
              "outlinewidth": 0,
              "ticks": ""
             }
            },
            "marker": {
             "colorbar": {
              "outlinewidth": 0,
              "ticks": ""
             }
            },
            "type": "scatter3d"
           }
          ],
          "scattercarpet": [
           {
            "marker": {
             "colorbar": {
              "outlinewidth": 0,
              "ticks": ""
             }
            },
            "type": "scattercarpet"
           }
          ],
          "scattergeo": [
           {
            "marker": {
             "colorbar": {
              "outlinewidth": 0,
              "ticks": ""
             }
            },
            "type": "scattergeo"
           }
          ],
          "scattergl": [
           {
            "marker": {
             "colorbar": {
              "outlinewidth": 0,
              "ticks": ""
             }
            },
            "type": "scattergl"
           }
          ],
          "scattermap": [
           {
            "marker": {
             "colorbar": {
              "outlinewidth": 0,
              "ticks": ""
             }
            },
            "type": "scattermap"
           }
          ],
          "scattermapbox": [
           {
            "marker": {
             "colorbar": {
              "outlinewidth": 0,
              "ticks": ""
             }
            },
            "type": "scattermapbox"
           }
          ],
          "scatterpolar": [
           {
            "marker": {
             "colorbar": {
              "outlinewidth": 0,
              "ticks": ""
             }
            },
            "type": "scatterpolar"
           }
          ],
          "scatterpolargl": [
           {
            "marker": {
             "colorbar": {
              "outlinewidth": 0,
              "ticks": ""
             }
            },
            "type": "scatterpolargl"
           }
          ],
          "scatterternary": [
           {
            "marker": {
             "colorbar": {
              "outlinewidth": 0,
              "ticks": ""
             }
            },
            "type": "scatterternary"
           }
          ],
          "surface": [
           {
            "colorbar": {
             "outlinewidth": 0,
             "ticks": ""
            },
            "colorscale": [
             [
              0,
              "#0d0887"
             ],
             [
              0.1111111111111111,
              "#46039f"
             ],
             [
              0.2222222222222222,
              "#7201a8"
             ],
             [
              0.3333333333333333,
              "#9c179e"
             ],
             [
              0.4444444444444444,
              "#bd3786"
             ],
             [
              0.5555555555555556,
              "#d8576b"
             ],
             [
              0.6666666666666666,
              "#ed7953"
             ],
             [
              0.7777777777777778,
              "#fb9f3a"
             ],
             [
              0.8888888888888888,
              "#fdca26"
             ],
             [
              1,
              "#f0f921"
             ]
            ],
            "type": "surface"
           }
          ],
          "table": [
           {
            "cells": {
             "fill": {
              "color": "#EBF0F8"
             },
             "line": {
              "color": "white"
             }
            },
            "header": {
             "fill": {
              "color": "#C8D4E3"
             },
             "line": {
              "color": "white"
             }
            },
            "type": "table"
           }
          ]
         },
         "layout": {
          "annotationdefaults": {
           "arrowcolor": "#2a3f5f",
           "arrowhead": 0,
           "arrowwidth": 1
          },
          "autotypenumbers": "strict",
          "coloraxis": {
           "colorbar": {
            "outlinewidth": 0,
            "ticks": ""
           }
          },
          "colorscale": {
           "diverging": [
            [
             0,
             "#8e0152"
            ],
            [
             0.1,
             "#c51b7d"
            ],
            [
             0.2,
             "#de77ae"
            ],
            [
             0.3,
             "#f1b6da"
            ],
            [
             0.4,
             "#fde0ef"
            ],
            [
             0.5,
             "#f7f7f7"
            ],
            [
             0.6,
             "#e6f5d0"
            ],
            [
             0.7,
             "#b8e186"
            ],
            [
             0.8,
             "#7fbc41"
            ],
            [
             0.9,
             "#4d9221"
            ],
            [
             1,
             "#276419"
            ]
           ],
           "sequential": [
            [
             0,
             "#0d0887"
            ],
            [
             0.1111111111111111,
             "#46039f"
            ],
            [
             0.2222222222222222,
             "#7201a8"
            ],
            [
             0.3333333333333333,
             "#9c179e"
            ],
            [
             0.4444444444444444,
             "#bd3786"
            ],
            [
             0.5555555555555556,
             "#d8576b"
            ],
            [
             0.6666666666666666,
             "#ed7953"
            ],
            [
             0.7777777777777778,
             "#fb9f3a"
            ],
            [
             0.8888888888888888,
             "#fdca26"
            ],
            [
             1,
             "#f0f921"
            ]
           ],
           "sequentialminus": [
            [
             0,
             "#0d0887"
            ],
            [
             0.1111111111111111,
             "#46039f"
            ],
            [
             0.2222222222222222,
             "#7201a8"
            ],
            [
             0.3333333333333333,
             "#9c179e"
            ],
            [
             0.4444444444444444,
             "#bd3786"
            ],
            [
             0.5555555555555556,
             "#d8576b"
            ],
            [
             0.6666666666666666,
             "#ed7953"
            ],
            [
             0.7777777777777778,
             "#fb9f3a"
            ],
            [
             0.8888888888888888,
             "#fdca26"
            ],
            [
             1,
             "#f0f921"
            ]
           ]
          },
          "colorway": [
           "#636efa",
           "#EF553B",
           "#00cc96",
           "#ab63fa",
           "#FFA15A",
           "#19d3f3",
           "#FF6692",
           "#B6E880",
           "#FF97FF",
           "#FECB52"
          ],
          "font": {
           "color": "#2a3f5f"
          },
          "geo": {
           "bgcolor": "white",
           "lakecolor": "white",
           "landcolor": "#E5ECF6",
           "showlakes": true,
           "showland": true,
           "subunitcolor": "white"
          },
          "hoverlabel": {
           "align": "left"
          },
          "hovermode": "closest",
          "mapbox": {
           "style": "light"
          },
          "paper_bgcolor": "white",
          "plot_bgcolor": "#E5ECF6",
          "polar": {
           "angularaxis": {
            "gridcolor": "white",
            "linecolor": "white",
            "ticks": ""
           },
           "bgcolor": "#E5ECF6",
           "radialaxis": {
            "gridcolor": "white",
            "linecolor": "white",
            "ticks": ""
           }
          },
          "scene": {
           "xaxis": {
            "backgroundcolor": "#E5ECF6",
            "gridcolor": "white",
            "gridwidth": 2,
            "linecolor": "white",
            "showbackground": true,
            "ticks": "",
            "zerolinecolor": "white"
           },
           "yaxis": {
            "backgroundcolor": "#E5ECF6",
            "gridcolor": "white",
            "gridwidth": 2,
            "linecolor": "white",
            "showbackground": true,
            "ticks": "",
            "zerolinecolor": "white"
           },
           "zaxis": {
            "backgroundcolor": "#E5ECF6",
            "gridcolor": "white",
            "gridwidth": 2,
            "linecolor": "white",
            "showbackground": true,
            "ticks": "",
            "zerolinecolor": "white"
           }
          },
          "shapedefaults": {
           "line": {
            "color": "#2a3f5f"
           }
          },
          "ternary": {
           "aaxis": {
            "gridcolor": "white",
            "linecolor": "white",
            "ticks": ""
           },
           "baxis": {
            "gridcolor": "white",
            "linecolor": "white",
            "ticks": ""
           },
           "bgcolor": "#E5ECF6",
           "caxis": {
            "gridcolor": "white",
            "linecolor": "white",
            "ticks": ""
           }
          },
          "title": {
           "x": 0.05
          },
          "xaxis": {
           "automargin": true,
           "gridcolor": "white",
           "linecolor": "white",
           "ticks": "",
           "title": {
            "standoff": 15
           },
           "zerolinecolor": "white",
           "zerolinewidth": 2
          },
          "yaxis": {
           "automargin": true,
           "gridcolor": "white",
           "linecolor": "white",
           "ticks": "",
           "title": {
            "standoff": 15
           },
           "zerolinecolor": "white",
           "zerolinewidth": 2
          }
         }
        },
        "title": {
         "text": "Dashboard de Monitoreo - Calidad de Cuotas"
        },
        "xaxis": {
         "anchor": "y",
         "domain": [
          0,
          0.45
         ],
         "title": {
          "text": "Overround (%)"
         }
        },
        "xaxis2": {
         "anchor": "y2",
         "domain": [
          0.55,
          1
         ]
        },
        "xaxis3": {
         "anchor": "y3",
         "domain": [
          0,
          0.45
         ],
         "title": {
          "text": "Tiempo"
         }
        },
        "xaxis4": {
         "anchor": "y4",
         "domain": [
          0.55,
          1
         ]
        },
        "xaxis5": {
         "anchor": "y5",
         "domain": [
          0,
          0.45
         ]
        },
        "xaxis6": {
         "anchor": "y6",
         "domain": [
          0.55,
          1
         ],
         "title": {
          "text": "Valor H (%)"
         }
        },
        "yaxis": {
         "anchor": "x",
         "domain": [
          0.7777777777777778,
          1
         ],
         "title": {
          "text": "Frecuencia"
         }
        },
        "yaxis2": {
         "anchor": "x2",
         "domain": [
          0.7777777777777778,
          1
         ],
         "title": {
          "text": "MAPE (%)"
         }
        },
        "yaxis3": {
         "anchor": "x3",
         "domain": [
          0.3888888888888889,
          0.6111111111111112
         ],
         "title": {
          "text": "Error"
         }
        },
        "yaxis4": {
         "anchor": "x4",
         "domain": [
          0.3888888888888889,
          0.6111111111111112
         ],
         "title": {
          "text": "Cantidad"
         }
        },
        "yaxis5": {
         "anchor": "x5",
         "domain": [
          0,
          0.22222222222222224
         ]
        },
        "yaxis6": {
         "anchor": "x6",
         "domain": [
          0,
          0.22222222222222224
         ],
         "title": {
          "text": "Valor D (%)"
         }
        }
       }
      }
     },
     "metadata": {},
     "output_type": "display_data"
    },
    {
     "name": "stdout",
     "output_type": "stream",
     "text": [
      "Dashboard interactivo generado exitosamente\n",
      "\n",
      "RESUMEN DEL DASHBOARD:\n",
      "==============================\n",
      "1. Distribución de Overround: Compara real vs ajustado\n",
      "2. Precisión por Tipo: MAPE para cada resultado\n",
      "3. Evolución Temporal: Tendencia de errores\n",
      "4. Detección de Arbitrajes: Cuotas problemáticas\n",
      "5. Correlación: Relación entre predicciones y reales\n",
      "6. Análisis de Valor: Diferencias porcentuales\n"
     ]
    },
    {
     "data": {
      "application/vnd.plotly.v1+json": {
       "config": {
        "plotlyServerURL": "https://plot.ly"
       },
       "data": [
        {
         "marker": {
          "color": "blue"
         },
         "name": "Real",
         "nbinsx": 30,
         "opacity": 0.7,
         "type": "histogram",
         "x": {
          "bdata": "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",
          "dtype": "f8"
         },
         "xaxis": "x",
         "yaxis": "y"
        },
        {
         "marker": {
          "color": "red"
         },
         "name": "Ajustado",
         "nbinsx": 30,
         "opacity": 0.7,
         "type": "histogram",
         "x": {
          "bdata": "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",
          "dtype": "f8"
         },
         "xaxis": "x",
         "yaxis": "y"
        },
        {
         "marker": {
          "color": [
           "green",
           "orange",
           "purple"
          ]
         },
         "type": "bar",
         "x": [
          "Local",
          "Empate",
          "Visitante"
         ],
         "xaxis": "x2",
         "y": [
          14.423384828301577,
          9.26113733966831,
          18.599064679631798
         ],
         "yaxis": "y2"
        },
        {
         "mode": "lines",
         "name": "Error Rolling",
         "type": "scatter",
         "x": [
          0,
          1,
          2,
          3,
          4,
          5,
          6,
          7,
          8,
          9,
          10,
          11,
          12,
          13,
          14,
          15,
          16,
          17,
          18,
          19,
          20,
          21,
          22,
          23,
          24,
          25,
          26,
          27,
          28,
          29,
          30,
          31,
          32,
          33,
          34,
          35,
          36,
          37,
          38,
          39,
          40,
          41,
          42,
          43,
          44,
          45,
          46,
          47,
          48,
          49,
          50,
          51,
          52,
          53,
          54,
          55,
          56,
          57,
          58,
          59,
          60,
          61,
          62,
          63,
          64,
          65,
          66,
          67,
          68,
          69,
          70,
          71,
          72,
          73,
          74,
          75,
          76,
          77,
          78,
          79,
          80,
          81,
          82,
          83,
          84,
          85,
          86,
          87,
          88,
          89,
          90,
          91,
          92,
          93,
          94,
          95,
          96,
          97,
          98,
          99,
          100,
          101,
          102,
          103,
          104,
          105,
          106,
          107,
          108,
          109,
          110,
          111,
          112,
          113,
          114,
          115,
          116,
          117,
          118,
          119,
          120,
          121,
          122,
          123,
          124,
          125,
          126,
          127,
          128,
          129,
          130,
          131,
          132,
          133,
          134,
          135,
          136,
          137,
          138,
          139,
          140,
          141,
          142,
          143,
          144,
          145,
          146,
          147,
          148,
          149,
          150,
          151,
          152,
          153,
          154,
          155,
          156,
          157,
          158,
          159,
          160,
          161,
          162,
          163,
          164,
          165,
          166,
          167,
          168,
          169,
          170,
          171,
          172,
          173,
          174,
          175,
          176,
          177,
          178,
          179,
          180,
          181,
          182,
          183,
          184,
          185,
          186,
          187,
          188,
          189,
          190,
          191,
          192,
          193,
          194,
          195,
          196,
          197,
          198,
          199,
          200,
          201,
          202,
          203,
          204,
          205,
          206,
          207,
          208,
          209,
          210,
          211,
          212,
          213,
          214,
          215,
          216,
          217,
          218,
          219,
          220,
          221,
          222,
          223,
          224,
          225,
          226,
          227,
          228,
          229,
          230,
          231,
          232,
          233,
          234,
          235,
          236,
          237,
          238,
          239,
          240,
          241,
          242,
          243,
          244,
          245,
          246,
          247,
          248,
          249,
          250,
          251,
          252,
          253,
          254,
          255,
          256,
          257,
          258,
          259,
          260,
          261,
          262,
          263,
          264,
          265,
          266,
          267,
          268,
          269,
          270,
          271,
          272,
          273,
          274,
          275,
          276,
          277,
          278,
          279,
          280,
          281,
          282,
          283,
          284,
          285,
          286,
          287,
          288,
          289,
          290,
          291,
          292,
          293,
          294,
          295,
          296,
          297,
          298,
          299,
          300,
          301,
          302,
          303,
          304,
          305,
          306,
          307,
          308,
          309,
          310,
          311,
          312,
          313,
          314,
          315,
          316,
          317,
          318,
          319,
          320,
          321,
          322,
          323,
          324,
          325,
          326,
          327,
          328,
          329,
          330,
          331,
          332,
          333,
          334,
          335,
          336,
          337,
          338,
          339,
          340,
          341,
          342,
          343,
          344,
          345,
          346,
          347,
          348,
          349,
          350,
          351,
          352,
          353,
          354,
          355,
          356,
          357,
          358,
          359,
          360,
          361,
          362,
          363,
          364,
          365,
          366,
          367,
          368,
          369,
          370,
          371,
          372,
          373,
          374,
          375,
          376,
          377,
          378,
          379,
          380,
          381,
          382,
          383,
          384,
          385,
          386,
          387,
          388,
          389,
          390,
          391,
          392,
          393,
          394,
          395,
          396,
          397,
          398,
          399,
          400,
          401,
          402,
          403,
          404,
          405,
          406,
          407,
          408,
          409,
          410,
          411,
          412,
          413,
          414,
          415,
          416,
          417,
          418,
          419,
          420,
          421,
          422,
          423,
          424,
          425,
          426,
          427,
          428,
          429,
          430,
          431,
          432,
          433,
          434,
          435,
          436,
          437,
          438,
          439,
          440,
          441,
          442,
          443,
          444,
          445,
          446,
          447,
          448,
          449
         ],
         "xaxis": "x3",
         "y": [
          0.005454964721421973,
          0.005573511814564904,
          0.005502796593468355,
          0.0053997355492308415,
          0.0054396486436552125,
          0.005540127112554729,
          0.005647185931292218,
          0.005666033738624936,
          0.005800962947115122,
          0.005856366227308323,
          0.005854345045321101,
          0.00573518745156766,
          0.005769498378735736,
          0.005631068704871449,
          0.005597230557443042,
          0.006174456157586419,
          0.006842428123457109,
          0.006830686052891508,
          0.00689269678093639,
          0.006992984161311595,
          0.007033133554402164,
          0.0069326139189988065,
          0.006906675088181924,
          0.0067888589728161185,
          0.006757112941070087,
          0.0068175428779383915,
          0.006841265088405604,
          0.006768403552778111,
          0.0066958644205163155,
          0.006735117729608704,
          0.006776080793004899,
          0.0067464279062091495,
          0.006314835477103102,
          0.006166778301485807,
          0.005741325874574286,
          0.005437040338394272,
          0.004983767692486061,
          0.00548100944118691,
          0.006136874673513129,
          0.006745227533325084,
          0.0073300440280546384,
          0.007426701183535322,
          0.007521918540705581,
          0.0074154379639787705,
          0.0073580839066247124,
          0.007360557703590831,
          0.007375588689436583,
          0.007315648629496523,
          0.007300270481366104,
          0.007360320622341106,
          0.007277586464542236,
          0.007124571107422844,
          0.007158143922955933,
          0.00727054203535404,
          0.007338250937096555,
          0.007299234158970686,
          0.007205783673363339,
          0.0072255225630712735,
          0.007099488406509358,
          0.006993186190577903,
          0.007023235134928307,
          0.007050446019282047,
          0.007045562014398041,
          0.007172801516152614,
          0.007133634334128289,
          0.006500476219772558,
          0.005936575538301021,
          0.005955249674622216,
          0.005895301787217466,
          0.005788638861081923,
          0.005748489467991353,
          0.005814423533925414,
          0.005840362364742297,
          0.005946510551815343,
          0.0058904881428517575,
          0.005878958215549521,
          0.0058881671889670925,
          0.005846934340369816,
          0.0062104084562021634,
          0.006732181229434034,
          0.007066712960735728,
          0.007148613303505642,
          0.00733195936920465,
          0.007406468183088939,
          0.0074699602465810025,
          0.007419773505217786,
          0.007487326107654111,
          0.00681272293305093,
          0.006159129579730927,
          0.0056460148151570655,
          0.0051471474590082346,
          0.005138847842865482,
          0.004994475339765883,
          0.004994475339765883,
          0.005069923334289021,
          0.0051103641390610344,
          0.0051337665996323565,
          0.005166267371697551,
          0.005238454208215599,
          0.005183698153459546,
          0.00533825120274944,
          0.0053645259059007565,
          0.005400600941975795,
          0.005466535007909865,
          0.0053001583406340645,
          0.005345081517722074,
          0.005431612693604535,
          0.005419785740601113,
          0.005414309533023634,
          0.005423054544255028,
          0.005394258732736703,
          0.005430539911875028,
          0.005300173345051462,
          0.0051967250691893965,
          0.0052163692905142865,
          0.00519470915366671,
          0.005161405904768395,
          0.005272517015879505,
          0.005373471509494028,
          0.005409122133379945,
          0.005381912063136651,
          0.005292578623958013,
          0.005235769935570378,
          0.005104702944507378,
          0.005211249202381909,
          0.005195252127561303,
          0.0052854568311436175,
          0.0054734727212607795,
          0.0052221796814242395,
          0.0047788825672306825,
          0.004494570144416916,
          0.004414373524280962,
          0.004295962523517018,
          0.004176041605397102,
          0.0041643379992234485,
          0.0041966076638460595,
          0.004171666045197186,
          0.004221856602752174,
          0.004258265198883433,
          0.0042687694005641005,
          0.0043066000663151225,
          0.004348536309801761,
          0.004407745917398462,
          0.004402231426622527,
          0.004328487154733342,
          0.004634742883132837,
          0.005021026682427782,
          0.005366873481345728,
          0.005222189554701528,
          0.0052769456094575815,
          0.005160141359069539,
          0.005134452136011896,
          0.005148438149997903,
          0.005073924075483829,
          0.005783077203661851,
          0.0057085683897775755,
          0.005656814957651184,
          0.005609119962587767,
          0.005718126273695354,
          0.006380634128838776,
          0.007013973539041438,
          0.006964848920811129,
          0.007138657425813473,
          0.007202073541861167,
          0.007190932721896815,
          0.007335062494371916,
          0.007368365743270231,
          0.007373249748154231,
          0.007334658184207701,
          0.007410704499405419,
          0.00753566483981277,
          0.007454060392426243,
          0.007438682244295833,
          0.007435706101315703,
          0.007325996932783863,
          0.007325539873503266,
          0.007196166514621715,
          0.007092118515836878,
          0.007046982066608352,
          0.006969740467627625,
          0.006836787001340827,
          0.006917817082370905,
          0.006989118330142743,
          0.007087157545829017,
          0.00717413228609733,
          0.00712812635773846,
          0.007084404813117784,
          0.007047328164276432,
          0.007080014079315289,
          0.007039575707170096,
          0.00696982030980394,
          0.0068882027634288925,
          0.0068882027634288925,
          0.006877611188505921,
          0.0069505460888976914,
          0.00654187245320224,
          0.00626990570940082,
          0.00585076559762514,
          0.005850875572330954,
          0.0058058098802064384,
          0.006478187984067057,
          0.007062390617234273,
          0.007715898649565891,
          0.00825790154596906,
          0.008316794569774365,
          0.0083500649191866,
          0.008448652262355987,
          0.00848043364559786,
          0.008384331832218556,
          0.008384331832218556,
          0.00831690221764566,
          0.009111610026416708,
          0.009589889193898946,
          0.009502681851958749,
          0.009542848899444158,
          0.00957782415810363,
          0.009606201111415871,
          0.009528615026127608,
          0.009482863392140679,
          0.009411825140774557,
          0.009295400734289304,
          0.009299854467024535,
          0.00927337085059694,
          0.009290530867756957,
          0.009209365310184868,
          0.009195525059716499,
          0.009378441366877838,
          0.009340376974538253,
          0.00936135417584333,
          0.00940301507697388,
          0.009437341228220179,
          0.009370385332660023,
          0.00930015145437661,
          0.009372495776720929,
          0.009322394130711356,
          0.009379705240654044,
          0.009416113836785303,
          0.00945215622576887,
          0.009367327929925024,
          0.009451435875493557,
          0.009565243636360138,
          0.009481373835305286,
          0.009543750244031441,
          0.009756352320179849,
          0.00977812617385009,
          0.009777445561987444,
          0.009603325108797222,
          0.010271327469435149,
          0.011039293630258453,
          0.011642549102278079,
          0.011642549102278084,
          0.011759621113021085,
          0.01144270992936995,
          0.010816046948306695,
          0.010043281701857233,
          0.009989155365008386,
          0.009842372323488507,
          0.009902375115697647,
          0.01001604612697402,
          0.009400902672136176,
          0.008771866552744628,
          0.007950490091949414,
          0.007370333812808969,
          0.007429575699152129,
          0.007401313413571487,
          0.007243928760691892,
          0.007170774861451035,
          0.00714175172508583,
          0.007143545294514966,
          0.007214583545881088,
          0.007312842457288787,
          0.007318154449946563,
          0.0072814296524527,
          0.0072695248905479334,
          0.007334839692704844,
          0.0073148282663331446,
          0.007197623489685645,
          0.007155239347153435,
          0.007086617795824633,
          0.0070186976392655745,
          0.0070212843844837634,
          0.007026238194732217,
          0.00712005801690518,
          0.006973049161369107,
          0.006948889913445657,
          0.0069410293529535184,
          0.00706690347882764,
          0.007156826627574318,
          0.007855418847464705,
          0.00775922826563801,
          0.0076333541397638925,
          0.00769494273336706,
          0.007605605278768746,
          0.007404270455709785,
          0.007326172997328842,
          0.007495205582421507,
          0.007495663632441128,
          0.006850822362599862,
          0.006106971884793402,
          0.005492185051181475,
          0.004893169259530112,
          0.004269733443458716,
          0.003870580545001645,
          0.0038630880375091436,
          0.003859188224551806,
          0.0038859475204046667,
          0.00390741727871653,
          0.0037854991172741447,
          0.003688015936791338,
          0.0036364514566570305,
          0.0036995777804188145,
          0.003727752003054241,
          0.0036476640273750594,
          0.0036359590021163204,
          0.0035778798164464655,
          0.003568004828382216,
          0.00356549827696262,
          0.0035608129287943015,
          0.003594383888093242,
          0.003585394698776181,
          0.0034728418990951273,
          0.004127316851468801,
          0.004791110172787141,
          0.005621702324217006,
          0.0056116399228502535,
          0.005637952653900884,
          0.005637589246106436,
          0.005639169472601724,
          0.0056071484754925075,
          0.005628804918953772,
          0.005591892022489282,
          0.005615487957160257,
          0.00551053836413212,
          0.0055790961077980625,
          0.005587422935797024,
          0.005598052267552318,
          0.005432680026551431,
          0.005400933994805399,
          0.004761071771003267,
          0.0047286202146955385,
          0.004799219405544592,
          0.00539317830718331,
          0.0059942104364192695,
          0.006542514842036069,
          0.007335717080195852,
          0.007230833397475762,
          0.0073703077664583234,
          0.007347064088738664,
          0.007340538230676081,
          0.007354655241912855,
          0.007268459427508387,
          0.007234773923298871,
          0.0072159069158459575,
          0.007263287071921756,
          0.007419851783787888,
          0.0080175653304476,
          0.008693395577115556,
          0.009327902210155314,
          0.009963659389952481,
          0.009950764461059677,
          0.00993285860949033,
          0.009931206063631244,
          0.009947801975818366,
          0.009905741322311425,
          0.010008155226687347,
          0.009994031309891672,
          0.010063008385447696,
          0.01002527480624134,
          0.009965790374658891,
          0.010674809654515883,
          0.01067842886327005,
          0.010052267584934861,
          0.00943527947485347,
          0.008640044730435678,
          0.008592694969127108,
          0.008582807122641891,
          0.008625806609830824,
          0.008630378641809777,
          0.008669806875106949,
          0.008644513892847195,
          0.008668259528039117,
          0.008719238141807622,
          0.008668701358310322,
          0.0085857332177669,
          0.008493873138686277,
          0.008644415968103144,
          0.008656918295598665,
          0.00858215457716165,
          0.008632222692905468,
          0.008731753712577488,
          0.008664935482850838,
          0.008089085714365502,
          0.007530002444308841,
          0.0071259734624434445,
          0.006356516859475585,
          0.006307188740925054,
          0.006250342599851227,
          0.0062540168830014856,
          0.006324978601022022,
          0.006301668577712003,
          0.006288091149486088,
          0.006325487037869864,
          0.006400185636762012,
          0.006467340703917084,
          0.0064303955701977555,
          0.005821228709571793,
          0.00524314282380609,
          0.004581890008422427,
          0.004020196805360992,
          0.004097558772867402,
          0.004214462118171083,
          0.004199241773141531,
          0.004181694641130451,
          0.004200009659445474,
          0.004129230011622722,
          0.004134464840690852,
          0.004014164088811159,
          0.004094839537907657,
          0.004131854688951395,
          0.0032990968309325685,
          0.003312572630899937,
          0.0033213199350988986,
          0.0033372078938971894,
          0.0033680372953697455,
          0.003375499408095015,
          0.003350772275862819,
          0.0033291123288567716,
          0.003456188132629694,
          0.0034133311633713914,
          0.0034113370469740145,
          0.003379769596595845,
          0.0033503973957380983,
          0.004055744417985556,
          0.004047678443549451,
          0.004103510034988682,
          0.0038933182659733803,
          0.003948508081798648,
          0.0039730086357765825,
          0.00400803899643559,
          0.003901074150217765,
          0.0038892060381510653,
          0.0038297588358467173,
          0.0038111351318438303,
          0.0037242972207914083,
          0.0038368281442898366,
          0.003847534369690453,
          0.003794865823663387,
          0.00384609563099076,
          0.003894455204705305,
          0.0038503945827884412
         ],
         "yaxis": "y3"
        },
        {
         "marker": {
          "color": [
           "green",
           "red",
           "orange"
          ]
         },
         "type": "bar",
         "x": [
          "Válidas",
          "Inválidas",
          "Arbitrajes"
         ],
         "xaxis": "x4",
         "y": [
          1200,
          0,
          0
         ],
         "yaxis": "y4"
        },
        {
         "colorscale": [
          [
           0,
           "rgb(103,0,31)"
          ],
          [
           0.1,
           "rgb(178,24,43)"
          ],
          [
           0.2,
           "rgb(214,96,77)"
          ],
          [
           0.3,
           "rgb(244,165,130)"
          ],
          [
           0.4,
           "rgb(253,219,199)"
          ],
          [
           0.5,
           "rgb(247,247,247)"
          ],
          [
           0.6,
           "rgb(209,229,240)"
          ],
          [
           0.7,
           "rgb(146,197,222)"
          ],
          [
           0.8,
           "rgb(67,147,195)"
          ],
          [
           0.9,
           "rgb(33,102,172)"
          ],
          [
           1,
           "rgb(5,48,97)"
          ]
         ],
         "type": "heatmap",
         "x": [
          "H",
          "D",
          "A"
         ],
         "xaxis": "x5",
         "y": [
          "H",
          "D",
          "A"
         ],
         "yaxis": "y5",
         "z": [
          [
           0.8816914608805496,
           -0.1582729032336734,
           -0.5170749500511879
          ],
          [
           -0.1217363771581399,
           0.871097196903307,
           0.7599395409253378
          ],
          [
           -0.5299425909265818,
           0.8224014545915238,
           0.9060590651367086
          ]
         ],
         "zmid": 0
        },
        {
         "mode": "markers",
         "name": "Valor H vs D",
         "opacity": 0.6,
         "type": "scatter",
         "x": {
          "bdata": "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",
          "dtype": "f8"
         },
         "xaxis": "x6",
         "y": {
          "bdata": "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",
          "dtype": "f8"
         },
         "yaxis": "y6"
        }
       ],
       "layout": {
        "annotations": [
         {
          "font": {
           "size": 16
          },
          "showarrow": false,
          "text": "Distribución de Overround",
          "x": 0.225,
          "xanchor": "center",
          "xref": "paper",
          "y": 1,
          "yanchor": "bottom",
          "yref": "paper"
         },
         {
          "font": {
           "size": 16
          },
          "showarrow": false,
          "text": "Precisión por Tipo de Cuota",
          "x": 0.775,
          "xanchor": "center",
          "xref": "paper",
          "y": 1,
          "yanchor": "bottom",
          "yref": "paper"
         },
         {
          "font": {
           "size": 16
          },
          "showarrow": false,
          "text": "Evolución Temporal de Errores",
          "x": 0.225,
          "xanchor": "center",
          "xref": "paper",
          "y": 0.6111111111111112,
          "yanchor": "bottom",
          "yref": "paper"
         },
         {
          "font": {
           "size": 16
          },
          "showarrow": false,
          "text": "Detección de Arbitrajes",
          "x": 0.775,
          "xanchor": "center",
          "xref": "paper",
          "y": 0.6111111111111112,
          "yanchor": "bottom",
          "yref": "paper"
         },
         {
          "font": {
           "size": 16
          },
          "showarrow": false,
          "text": "Correlación Predicciones vs Reales",
          "x": 0.225,
          "xanchor": "center",
          "xref": "paper",
          "y": 0.22222222222222224,
          "yanchor": "bottom",
          "yref": "paper"
         },
         {
          "font": {
           "size": 16
          },
          "showarrow": false,
          "text": "Análisis de Valor",
          "x": 0.775,
          "xanchor": "center",
          "xref": "paper",
          "y": 0.22222222222222224,
          "yanchor": "bottom",
          "yref": "paper"
         }
        ],
        "height": 900,
        "showlegend": true,
        "template": {
         "data": {
          "bar": [
           {
            "error_x": {
             "color": "#2a3f5f"
            },
            "error_y": {
             "color": "#2a3f5f"
            },
            "marker": {
             "line": {
              "color": "#E5ECF6",
              "width": 0.5
             },
             "pattern": {
              "fillmode": "overlay",
              "size": 10,
              "solidity": 0.2
             }
            },
            "type": "bar"
           }
          ],
          "barpolar": [
           {
            "marker": {
             "line": {
              "color": "#E5ECF6",
              "width": 0.5
             },
             "pattern": {
              "fillmode": "overlay",
              "size": 10,
              "solidity": 0.2
             }
            },
            "type": "barpolar"
           }
          ],
          "carpet": [
           {
            "aaxis": {
             "endlinecolor": "#2a3f5f",
             "gridcolor": "white",
             "linecolor": "white",
             "minorgridcolor": "white",
             "startlinecolor": "#2a3f5f"
            },
            "baxis": {
             "endlinecolor": "#2a3f5f",
             "gridcolor": "white",
             "linecolor": "white",
             "minorgridcolor": "white",
             "startlinecolor": "#2a3f5f"
            },
            "type": "carpet"
           }
          ],
          "choropleth": [
           {
            "colorbar": {
             "outlinewidth": 0,
             "ticks": ""
            },
            "type": "choropleth"
           }
          ],
          "contour": [
           {
            "colorbar": {
             "outlinewidth": 0,
             "ticks": ""
            },
            "colorscale": [
             [
              0,
              "#0d0887"
             ],
             [
              0.1111111111111111,
              "#46039f"
             ],
             [
              0.2222222222222222,
              "#7201a8"
             ],
             [
              0.3333333333333333,
              "#9c179e"
             ],
             [
              0.4444444444444444,
              "#bd3786"
             ],
             [
              0.5555555555555556,
              "#d8576b"
             ],
             [
              0.6666666666666666,
              "#ed7953"
             ],
             [
              0.7777777777777778,
              "#fb9f3a"
             ],
             [
              0.8888888888888888,
              "#fdca26"
             ],
             [
              1,
              "#f0f921"
             ]
            ],
            "type": "contour"
           }
          ],
          "contourcarpet": [
           {
            "colorbar": {
             "outlinewidth": 0,
             "ticks": ""
            },
            "type": "contourcarpet"
           }
          ],
          "heatmap": [
           {
            "colorbar": {
             "outlinewidth": 0,
             "ticks": ""
            },
            "colorscale": [
             [
              0,
              "#0d0887"
             ],
             [
              0.1111111111111111,
              "#46039f"
             ],
             [
              0.2222222222222222,
              "#7201a8"
             ],
             [
              0.3333333333333333,
              "#9c179e"
             ],
             [
              0.4444444444444444,
              "#bd3786"
             ],
             [
              0.5555555555555556,
              "#d8576b"
             ],
             [
              0.6666666666666666,
              "#ed7953"
             ],
             [
              0.7777777777777778,
              "#fb9f3a"
             ],
             [
              0.8888888888888888,
              "#fdca26"
             ],
             [
              1,
              "#f0f921"
             ]
            ],
            "type": "heatmap"
           }
          ],
          "histogram": [
           {
            "marker": {
             "pattern": {
              "fillmode": "overlay",
              "size": 10,
              "solidity": 0.2
             }
            },
            "type": "histogram"
           }
          ],
          "histogram2d": [
           {
            "colorbar": {
             "outlinewidth": 0,
             "ticks": ""
            },
            "colorscale": [
             [
              0,
              "#0d0887"
             ],
             [
              0.1111111111111111,
              "#46039f"
             ],
             [
              0.2222222222222222,
              "#7201a8"
             ],
             [
              0.3333333333333333,
              "#9c179e"
             ],
             [
              0.4444444444444444,
              "#bd3786"
             ],
             [
              0.5555555555555556,
              "#d8576b"
             ],
             [
              0.6666666666666666,
              "#ed7953"
             ],
             [
              0.7777777777777778,
              "#fb9f3a"
             ],
             [
              0.8888888888888888,
              "#fdca26"
             ],
             [
              1,
              "#f0f921"
             ]
            ],
            "type": "histogram2d"
           }
          ],
          "histogram2dcontour": [
           {
            "colorbar": {
             "outlinewidth": 0,
             "ticks": ""
            },
            "colorscale": [
             [
              0,
              "#0d0887"
             ],
             [
              0.1111111111111111,
              "#46039f"
             ],
             [
              0.2222222222222222,
              "#7201a8"
             ],
             [
              0.3333333333333333,
              "#9c179e"
             ],
             [
              0.4444444444444444,
              "#bd3786"
             ],
             [
              0.5555555555555556,
              "#d8576b"
             ],
             [
              0.6666666666666666,
              "#ed7953"
             ],
             [
              0.7777777777777778,
              "#fb9f3a"
             ],
             [
              0.8888888888888888,
              "#fdca26"
             ],
             [
              1,
              "#f0f921"
             ]
            ],
            "type": "histogram2dcontour"
           }
          ],
          "mesh3d": [
           {
            "colorbar": {
             "outlinewidth": 0,
             "ticks": ""
            },
            "type": "mesh3d"
           }
          ],
          "parcoords": [
           {
            "line": {
             "colorbar": {
              "outlinewidth": 0,
              "ticks": ""
             }
            },
            "type": "parcoords"
           }
          ],
          "pie": [
           {
            "automargin": true,
            "type": "pie"
           }
          ],
          "scatter": [
           {
            "fillpattern": {
             "fillmode": "overlay",
             "size": 10,
             "solidity": 0.2
            },
            "type": "scatter"
           }
          ],
          "scatter3d": [
           {
            "line": {
             "colorbar": {
              "outlinewidth": 0,
              "ticks": ""
             }
            },
            "marker": {
             "colorbar": {
              "outlinewidth": 0,
              "ticks": ""
             }
            },
            "type": "scatter3d"
           }
          ],
          "scattercarpet": [
           {
            "marker": {
             "colorbar": {
              "outlinewidth": 0,
              "ticks": ""
             }
            },
            "type": "scattercarpet"
           }
          ],
          "scattergeo": [
           {
            "marker": {
             "colorbar": {
              "outlinewidth": 0,
              "ticks": ""
             }
            },
            "type": "scattergeo"
           }
          ],
          "scattergl": [
           {
            "marker": {
             "colorbar": {
              "outlinewidth": 0,
              "ticks": ""
             }
            },
            "type": "scattergl"
           }
          ],
          "scattermap": [
           {
            "marker": {
             "colorbar": {
              "outlinewidth": 0,
              "ticks": ""
             }
            },
            "type": "scattermap"
           }
          ],
          "scattermapbox": [
           {
            "marker": {
             "colorbar": {
              "outlinewidth": 0,
              "ticks": ""
             }
            },
            "type": "scattermapbox"
           }
          ],
          "scatterpolar": [
           {
            "marker": {
             "colorbar": {
              "outlinewidth": 0,
              "ticks": ""
             }
            },
            "type": "scatterpolar"
           }
          ],
          "scatterpolargl": [
           {
            "marker": {
             "colorbar": {
              "outlinewidth": 0,
              "ticks": ""
             }
            },
            "type": "scatterpolargl"
           }
          ],
          "scatterternary": [
           {
            "marker": {
             "colorbar": {
              "outlinewidth": 0,
              "ticks": ""
             }
            },
            "type": "scatterternary"
           }
          ],
          "surface": [
           {
            "colorbar": {
             "outlinewidth": 0,
             "ticks": ""
            },
            "colorscale": [
             [
              0,
              "#0d0887"
             ],
             [
              0.1111111111111111,
              "#46039f"
             ],
             [
              0.2222222222222222,
              "#7201a8"
             ],
             [
              0.3333333333333333,
              "#9c179e"
             ],
             [
              0.4444444444444444,
              "#bd3786"
             ],
             [
              0.5555555555555556,
              "#d8576b"
             ],
             [
              0.6666666666666666,
              "#ed7953"
             ],
             [
              0.7777777777777778,
              "#fb9f3a"
             ],
             [
              0.8888888888888888,
              "#fdca26"
             ],
             [
              1,
              "#f0f921"
             ]
            ],
            "type": "surface"
           }
          ],
          "table": [
           {
            "cells": {
             "fill": {
              "color": "#EBF0F8"
             },
             "line": {
              "color": "white"
             }
            },
            "header": {
             "fill": {
              "color": "#C8D4E3"
             },
             "line": {
              "color": "white"
             }
            },
            "type": "table"
           }
          ]
         },
         "layout": {
          "annotationdefaults": {
           "arrowcolor": "#2a3f5f",
           "arrowhead": 0,
           "arrowwidth": 1
          },
          "autotypenumbers": "strict",
          "coloraxis": {
           "colorbar": {
            "outlinewidth": 0,
            "ticks": ""
           }
          },
          "colorscale": {
           "diverging": [
            [
             0,
             "#8e0152"
            ],
            [
             0.1,
             "#c51b7d"
            ],
            [
             0.2,
             "#de77ae"
            ],
            [
             0.3,
             "#f1b6da"
            ],
            [
             0.4,
             "#fde0ef"
            ],
            [
             0.5,
             "#f7f7f7"
            ],
            [
             0.6,
             "#e6f5d0"
            ],
            [
             0.7,
             "#b8e186"
            ],
            [
             0.8,
             "#7fbc41"
            ],
            [
             0.9,
             "#4d9221"
            ],
            [
             1,
             "#276419"
            ]
           ],
           "sequential": [
            [
             0,
             "#0d0887"
            ],
            [
             0.1111111111111111,
             "#46039f"
            ],
            [
             0.2222222222222222,
             "#7201a8"
            ],
            [
             0.3333333333333333,
             "#9c179e"
            ],
            [
             0.4444444444444444,
             "#bd3786"
            ],
            [
             0.5555555555555556,
             "#d8576b"
            ],
            [
             0.6666666666666666,
             "#ed7953"
            ],
            [
             0.7777777777777778,
             "#fb9f3a"
            ],
            [
             0.8888888888888888,
             "#fdca26"
            ],
            [
             1,
             "#f0f921"
            ]
           ],
           "sequentialminus": [
            [
             0,
             "#0d0887"
            ],
            [
             0.1111111111111111,
             "#46039f"
            ],
            [
             0.2222222222222222,
             "#7201a8"
            ],
            [
             0.3333333333333333,
             "#9c179e"
            ],
            [
             0.4444444444444444,
             "#bd3786"
            ],
            [
             0.5555555555555556,
             "#d8576b"
            ],
            [
             0.6666666666666666,
             "#ed7953"
            ],
            [
             0.7777777777777778,
             "#fb9f3a"
            ],
            [
             0.8888888888888888,
             "#fdca26"
            ],
            [
             1,
             "#f0f921"
            ]
           ]
          },
          "colorway": [
           "#636efa",
           "#EF553B",
           "#00cc96",
           "#ab63fa",
           "#FFA15A",
           "#19d3f3",
           "#FF6692",
           "#B6E880",
           "#FF97FF",
           "#FECB52"
          ],
          "font": {
           "color": "#2a3f5f"
          },
          "geo": {
           "bgcolor": "white",
           "lakecolor": "white",
           "landcolor": "#E5ECF6",
           "showlakes": true,
           "showland": true,
           "subunitcolor": "white"
          },
          "hoverlabel": {
           "align": "left"
          },
          "hovermode": "closest",
          "mapbox": {
           "style": "light"
          },
          "paper_bgcolor": "white",
          "plot_bgcolor": "#E5ECF6",
          "polar": {
           "angularaxis": {
            "gridcolor": "white",
            "linecolor": "white",
            "ticks": ""
           },
           "bgcolor": "#E5ECF6",
           "radialaxis": {
            "gridcolor": "white",
            "linecolor": "white",
            "ticks": ""
           }
          },
          "scene": {
           "xaxis": {
            "backgroundcolor": "#E5ECF6",
            "gridcolor": "white",
            "gridwidth": 2,
            "linecolor": "white",
            "showbackground": true,
            "ticks": "",
            "zerolinecolor": "white"
           },
           "yaxis": {
            "backgroundcolor": "#E5ECF6",
            "gridcolor": "white",
            "gridwidth": 2,
            "linecolor": "white",
            "showbackground": true,
            "ticks": "",
            "zerolinecolor": "white"
           },
           "zaxis": {
            "backgroundcolor": "#E5ECF6",
            "gridcolor": "white",
            "gridwidth": 2,
            "linecolor": "white",
            "showbackground": true,
            "ticks": "",
            "zerolinecolor": "white"
           }
          },
          "shapedefaults": {
           "line": {
            "color": "#2a3f5f"
           }
          },
          "ternary": {
           "aaxis": {
            "gridcolor": "white",
            "linecolor": "white",
            "ticks": ""
           },
           "baxis": {
            "gridcolor": "white",
            "linecolor": "white",
            "ticks": ""
           },
           "bgcolor": "#E5ECF6",
           "caxis": {
            "gridcolor": "white",
            "linecolor": "white",
            "ticks": ""
           }
          },
          "title": {
           "x": 0.05
          },
          "xaxis": {
           "automargin": true,
           "gridcolor": "white",
           "linecolor": "white",
           "ticks": "",
           "title": {
            "standoff": 15
           },
           "zerolinecolor": "white",
           "zerolinewidth": 2
          },
          "yaxis": {
           "automargin": true,
           "gridcolor": "white",
           "linecolor": "white",
           "ticks": "",
           "title": {
            "standoff": 15
           },
           "zerolinecolor": "white",
           "zerolinewidth": 2
          }
         }
        },
        "title": {
         "text": "Dashboard de Monitoreo - Calidad de Cuotas"
        },
        "xaxis": {
         "anchor": "y",
         "domain": [
          0,
          0.45
         ],
         "title": {
          "text": "Overround (%)"
         }
        },
        "xaxis2": {
         "anchor": "y2",
         "domain": [
          0.55,
          1
         ]
        },
        "xaxis3": {
         "anchor": "y3",
         "domain": [
          0,
          0.45
         ],
         "title": {
          "text": "Tiempo"
         }
        },
        "xaxis4": {
         "anchor": "y4",
         "domain": [
          0.55,
          1
         ]
        },
        "xaxis5": {
         "anchor": "y5",
         "domain": [
          0,
          0.45
         ]
        },
        "xaxis6": {
         "anchor": "y6",
         "domain": [
          0.55,
          1
         ],
         "title": {
          "text": "Valor H (%)"
         }
        },
        "yaxis": {
         "anchor": "x",
         "domain": [
          0.7777777777777778,
          1
         ],
         "title": {
          "text": "Frecuencia"
         }
        },
        "yaxis2": {
         "anchor": "x2",
         "domain": [
          0.7777777777777778,
          1
         ],
         "title": {
          "text": "MAPE (%)"
         }
        },
        "yaxis3": {
         "anchor": "x3",
         "domain": [
          0.3888888888888889,
          0.6111111111111112
         ],
         "title": {
          "text": "Error"
         }
        },
        "yaxis4": {
         "anchor": "x4",
         "domain": [
          0.3888888888888889,
          0.6111111111111112
         ],
         "title": {
          "text": "Cantidad"
         }
        },
        "yaxis5": {
         "anchor": "x5",
         "domain": [
          0,
          0.22222222222222224
         ]
        },
        "yaxis6": {
         "anchor": "x6",
         "domain": [
          0,
          0.22222222222222224
         ],
         "title": {
          "text": "Valor D (%)"
         }
        }
       }
      }
     },
     "metadata": {},
     "output_type": "display_data"
    }
   ],
   "source": [
    "# Crear dashboard interactivo de monitoreo\n",
    "def create_monitoring_dashboard(predictions_df):\n",
    "    \"\"\"\n",
    "    Crea un dashboard interactivo para monitorear la calidad de las cuotas.\n",
    "    \"\"\"\n",
    "    from plotly.subplots import make_subplots\n",
    "    import plotly.graph_objects as go\n",
    "    \n",
    "    # Crear subplot con 6 gráficos\n",
    "    fig = make_subplots(\n",
    "        rows=3, cols=2,\n",
    "        subplot_titles=(\n",
    "            'Distribución de Overround', 'Precisión por Tipo de Cuota',\n",
    "            'Evolución Temporal de Errores', 'Detección de Arbitrajes',\n",
    "            'Correlación Predicciones vs Reales', 'Análisis de Valor'\n",
    "        ),\n",
    "        specs=[[{\"type\": \"histogram\"}, {\"type\": \"scatter\"}],\n",
    "               [{\"type\": \"scatter\"}, {\"type\": \"bar\"}],\n",
    "               [{\"type\": \"heatmap\"}, {\"type\": \"scatter\"}]]\n",
    "    )\n",
    "    \n",
    "    # 1. Distribución de Overround\n",
    "    fig.add_trace(\n",
    "        go.Histogram(x=predictions_df['overround_real']*100, name='Real', opacity=0.7,\n",
    "                    nbinsx=30, marker_color='blue'),\n",
    "        row=1, col=1\n",
    "    )\n",
    "    fig.add_trace(\n",
    "        go.Histogram(x=predictions_df['overround_prop_adj']*100, name='Ajustado', opacity=0.7,\n",
    "                    nbinsx=30, marker_color='red'),\n",
    "        row=1, col=1\n",
    "    )\n",
    "    \n",
    "    # 2. Precisión por tipo de cuota\n",
    "    accuracy_data = []\n",
    "    for outcome in ['H', 'D', 'A']:\n",
    "        real_col = f'B365{outcome}_real'\n",
    "        pred_col = f'prop_odds_{outcome}_adj'\n",
    "        mape = np.mean(np.abs(predictions_df[real_col] - predictions_df[pred_col]) / predictions_df[real_col]) * 100\n",
    "        accuracy_data.append(mape)\n",
    "    \n",
    "    fig.add_trace(\n",
    "        go.Bar(x=['Local', 'Empate', 'Visitante'], y=accuracy_data, \n",
    "               marker_color=['green', 'orange', 'purple']),\n",
    "        row=1, col=2\n",
    "    )\n",
    "    \n",
    "    # 3. Evolución temporal (simulada)\n",
    "    sample_size = min(500, len(predictions_df))\n",
    "    sample_idx = np.random.choice(len(predictions_df), sample_size, replace=False)\n",
    "    sample_idx_sorted = np.sort(sample_idx)\n",
    "    \n",
    "    rolling_error = []\n",
    "    window = 50\n",
    "    for i in range(window, len(sample_idx_sorted)):\n",
    "        subset = predictions_df.iloc[sample_idx_sorted[i-window:i]]\n",
    "        error = np.mean(np.abs(subset['overround_real'] - subset['overround_prop_adj']))\n",
    "        rolling_error.append(error)\n",
    "    \n",
    "    fig.add_trace(\n",
    "        go.Scatter(x=list(range(len(rolling_error))), y=rolling_error,\n",
    "                  mode='lines', name='Error Rolling'),\n",
    "        row=2, col=1\n",
    "    )\n",
    "    \n",
    "    # 4. Detección de arbitrajes\n",
    "    arbitrage_count = predictions_df['prop_arbitrage'].sum()\n",
    "    valid_count = predictions_df['prop_valid'].sum()\n",
    "    invalid_count = len(predictions_df) - valid_count\n",
    "    \n",
    "    fig.add_trace(\n",
    "        go.Bar(x=['Válidas', 'Inválidas', 'Arbitrajes'], \n",
    "               y=[valid_count, invalid_count, arbitrage_count],\n",
    "               marker_color=['green', 'red', 'orange']),\n",
    "        row=2, col=2\n",
    "    )\n",
    "    \n",
    "    # 5. Matriz de correlación\n",
    "    corr_data = []\n",
    "    outcomes = ['H', 'D', 'A']\n",
    "    for i, outcome1 in enumerate(outcomes):\n",
    "        row = []\n",
    "        for j, outcome2 in enumerate(outcomes):\n",
    "            real_col = f'B365{outcome1}_real'\n",
    "            pred_col = f'prop_odds_{outcome2}_adj'\n",
    "            corr = predictions_df[real_col].corr(predictions_df[pred_col])\n",
    "            row.append(corr)\n",
    "        corr_data.append(row)\n",
    "    \n",
    "    fig.add_trace(\n",
    "        go.Heatmap(z=corr_data, x=outcomes, y=outcomes, \n",
    "                  colorscale='RdBu', zmid=0),\n",
    "        row=3, col=1\n",
    "    )\n",
    "    \n",
    "    # 6. Análisis de valor (diferencia porcentual)\n",
    "    value_h = (predictions_df['B365H_real'] - predictions_df['prop_odds_H_adj']) / predictions_df['B365H_real'] * 100\n",
    "    value_d = (predictions_df['B365D_real'] - predictions_df['prop_odds_D_adj']) / predictions_df['B365D_real'] * 100\n",
    "    \n",
    "    sample_indices = np.random.choice(len(predictions_df), 200, replace=False)\n",
    "    \n",
    "    fig.add_trace(\n",
    "        go.Scatter(x=value_h.iloc[sample_indices], y=value_d.iloc[sample_indices],\n",
    "                  mode='markers', name='Valor H vs D', opacity=0.6),\n",
    "        row=3, col=2\n",
    "    )\n",
    "    \n",
    "    # Actualizar layout\n",
    "    fig.update_layout(\n",
    "        height=900,\n",
    "        title_text=\"Dashboard de Monitoreo - Calidad de Cuotas\",\n",
    "        showlegend=True\n",
    "    )\n",
    "    \n",
    "    # Etiquetas de ejes\n",
    "    fig.update_xaxes(title_text=\"Overround (%)\", row=1, col=1)\n",
    "    fig.update_yaxes(title_text=\"Frecuencia\", row=1, col=1)\n",
    "    fig.update_yaxes(title_text=\"MAPE (%)\", row=1, col=2)\n",
    "    fig.update_xaxes(title_text=\"Tiempo\", row=2, col=1)\n",
    "    fig.update_yaxes(title_text=\"Error\", row=2, col=1)\n",
    "    fig.update_yaxes(title_text=\"Cantidad\", row=2, col=2)\n",
    "    fig.update_xaxes(title_text=\"Valor H (%)\", row=3, col=2)\n",
    "    fig.update_yaxes(title_text=\"Valor D (%)\", row=3, col=2)\n",
    "    \n",
    "    return fig\n",
    "\n",
    "# Generar dashboard\n",
    "print(\"GENERANDO DASHBOARD DE MONITOREO...\")\n",
    "print(\"=\"*40)\n",
    "\n",
    "dashboard = create_monitoring_dashboard(predictions_df)\n",
    "dashboard.show()\n",
    "\n",
    "print(\"Dashboard interactivo generado exitosamente\")\n",
    "print(\"\\nRESUMEN DEL DASHBOARD:\")\n",
    "print(\"=\"*30)\n",
    "print(\"1. Distribución de Overround: Compara real vs ajustado\")\n",
    "print(\"2. Precisión por Tipo: MAPE para cada resultado\")\n",
    "print(\"3. Evolución Temporal: Tendencia de errores\")\n",
    "print(\"4. Detección de Arbitrajes: Cuotas problemáticas\")\n",
    "print(\"5. Correlación: Relación entre predicciones y reales\")\n",
    "print(\"6. Análisis de Valor: Diferencias porcentuales\")\n"
   ]
  },
  {
   "cell_type": "markdown",
   "id": "cf640ae4",
   "metadata": {},
   "source": [
    "## 6. Simulación de Escenarios de Apuestas\n",
    "\n",
    "Simulamos diferentes estrategias de apuestas usando nuestras cuotas ajustadas."
   ]
  },
  {
   "cell_type": "code",
   "execution_count": 36,
   "id": "f6347e56",
   "metadata": {},
   "outputs": [
    {
     "name": "stdout",
     "output_type": "stream",
     "text": [
      "SIMULACIÓN DE ESTRATEGIAS DE APUESTAS\n",
      "=============================================\n",
      "\n",
      "Simulando estrategia: VALUE_BETTING\n",
      "  Número de apuestas: 410\n",
      "  Total apostado: €4100.00\n",
      "  Total ganado: €3903.70\n",
      "  Beneficio neto: €-196.30\n",
      "  ROI: -4.79%\n",
      "  Tasa de acierto: 44.4%\n",
      "\n",
      "Simulando estrategia: FAVORITE\n",
      "  Número de apuestas: 500\n",
      "  Total apostado: €5000.00\n",
      "  Total ganado: €4873.60\n",
      "  Beneficio neto: €-126.40\n",
      "  ROI: -2.53%\n",
      "  Tasa de acierto: 54.6%\n",
      "\n",
      "Simulando estrategia: UNDERDOG\n",
      "  Número de apuestas: 500\n",
      "  Total apostado: €5000.00\n",
      "  Total ganado: €5507.10\n",
      "  Beneficio neto: €507.10\n",
      "  ROI: 10.14%\n",
      "  Tasa de acierto: 21.6%\n",
      "\n",
      "COMPARACIÓN DE ESTRATEGIAS:\n",
      "===================================\n",
      "                    value_betting  favorite  underdog\n",
      "Apuestas                   410.00    500.00    500.00\n",
      "ROI (%)                     -4.79     -2.53     10.14\n",
      "Tasa Acierto (%)            44.39     54.60     21.60\n",
      "Beneficio Neto (€)        -196.30   -126.40    507.10\n"
     ]
    }
   ],
   "source": [
    "def simulate_betting_strategy(predictions_df, strategy='value_betting', stake_per_bet=10, value_threshold=0.05):\n",
    "    \"\"\"\n",
    "    Simula una estrategia de apuestas usando las predicciones.\n",
    "    \n",
    "    Args:\n",
    "        predictions_df: DataFrame con predicciones y cuotas reales\n",
    "        strategy: Tipo de estrategia ('value_betting', 'favorite', 'underdog')\n",
    "        stake_per_bet: Cantidad apostada por apuesta\n",
    "        value_threshold: Umbral mínimo de valor para apostar\n",
    "    \n",
    "    Returns:\n",
    "        Dict con resultados de la simulación\n",
    "    \"\"\"\n",
    "    total_stakes = 0\n",
    "    total_winnings = 0\n",
    "    num_bets = 0\n",
    "    winning_bets = 0\n",
    "    \n",
    "    results = []\n",
    "    \n",
    "    # Cargar datos de resultados reales (necesitaríamos más información)\n",
    "    # Por ahora simularemos resultados basados en probabilidades implícitas\n",
    "    \n",
    "    for idx, row in predictions_df.iterrows():\n",
    "        # Determinar el resultado \"real\" basado en probabilidades\n",
    "        # (En la realidad, usaríamos resultados históricos conocidos)\n",
    "        probs_real = [row['prob_H_real'], row['prob_D_real'], row['prob_A_real']]\n",
    "        # Normalizar probabilidades\n",
    "        total_prob = sum(probs_real)\n",
    "        probs_normalized = [p/total_prob for p in probs_real]\n",
    "        \n",
    "        # Simular resultado basado en probabilidades normalizadas\n",
    "        outcome = np.random.choice([0, 1, 2], p=probs_normalized)  # 0=H, 1=D, 2=A\n",
    "        \n",
    "        # Decidir si apostar según la estrategia\n",
    "        bet_decision = None\n",
    "        bet_amount = 0\n",
    "        \n",
    "        if strategy == 'value_betting':\n",
    "            # Apostar cuando nuestras cuotas ajustadas implican menor probabilidad que las reales\n",
    "            our_probs = [row['prop_prob_H_adj'], row['prop_prob_D_adj'], row['prop_prob_A_adj']]\n",
    "            real_odds = [row['B365H_real'], row['B365D_real'], row['B365A_real']]\n",
    "            \n",
    "            for i, (our_prob, real_odds_i) in enumerate(zip(our_probs, real_odds)):\n",
    "                implied_prob_real = 1/real_odds_i\n",
    "                value = (implied_prob_real - our_prob) / our_prob\n",
    "                \n",
    "                if value > value_threshold:\n",
    "                    bet_decision = i\n",
    "                    bet_amount = stake_per_bet\n",
    "                    break\n",
    "        \n",
    "        elif strategy == 'favorite':\n",
    "            # Siempre apostar al favorito (menor cuota)\n",
    "            real_odds = [row['B365H_real'], row['B365D_real'], row['B365A_real']]\n",
    "            bet_decision = np.argmin(real_odds)\n",
    "            bet_amount = stake_per_bet\n",
    "            \n",
    "        elif strategy == 'underdog':\n",
    "            # Siempre apostar al menos favorito (mayor cuota)\n",
    "            real_odds = [row['B365H_real'], row['B365D_real'], row['B365A_real']]\n",
    "            bet_decision = np.argmax(real_odds)\n",
    "            bet_amount = stake_per_bet\n",
    "        \n",
    "        # Procesar la apuesta si se decidió apostar\n",
    "        if bet_decision is not None:\n",
    "            num_bets += 1\n",
    "            total_stakes += bet_amount\n",
    "            \n",
    "            real_odds = [row['B365H_real'], row['B365D_real'], row['B365A_real']]\n",
    "            \n",
    "            if outcome == bet_decision:\n",
    "                # Apuesta ganadora\n",
    "                winnings = bet_amount * real_odds[bet_decision]\n",
    "                total_winnings += winnings\n",
    "                winning_bets += 1\n",
    "                result = 'win'\n",
    "            else:\n",
    "                # Apuesta perdedora\n",
    "                winnings = 0\n",
    "                result = 'loss'\n",
    "            \n",
    "            results.append({\n",
    "                'bet_number': num_bets,\n",
    "                'bet_on': ['Local', 'Empate', 'Visitante'][bet_decision],\n",
    "                'outcome': ['Local', 'Empate', 'Visitante'][outcome],\n",
    "                'stake': bet_amount,\n",
    "                'odds': real_odds[bet_decision],\n",
    "                'winnings': winnings,\n",
    "                'result': result\n",
    "            })\n",
    "    \n",
    "    # Calcular métricas\n",
    "    net_profit = total_winnings - total_stakes\n",
    "    roi = (net_profit / total_stakes * 100) if total_stakes > 0 else 0\n",
    "    win_rate = (winning_bets / num_bets * 100) if num_bets > 0 else 0\n",
    "    \n",
    "    return {\n",
    "        'strategy': strategy,\n",
    "        'num_bets': num_bets,\n",
    "        'total_stakes': total_stakes,\n",
    "        'total_winnings': total_winnings,\n",
    "        'net_profit': net_profit,\n",
    "        'roi': roi,\n",
    "        'win_rate': win_rate,\n",
    "        'winning_bets': winning_bets,\n",
    "        'results': results\n",
    "    }\n",
    "\n",
    "# Ejecutar simulaciones\n",
    "print(\"SIMULACIÓN DE ESTRATEGIAS DE APUESTAS\")\n",
    "print(\"=\"*45)\n",
    "\n",
    "# Usar una muestra del dataset para simulación (para rapidez)\n",
    "sample_size = 500\n",
    "np.random.seed(42)  # Para reproducibilidad\n",
    "sample_predictions = predictions_df.sample(n=sample_size, random_state=42)\n",
    "\n",
    "strategies = ['value_betting', 'favorite', 'underdog']\n",
    "simulation_results = {}\n",
    "\n",
    "for strategy in strategies:\n",
    "    print(f\"\\nSimulando estrategia: {strategy.upper()}\")\n",
    "    result = simulate_betting_strategy(\n",
    "        sample_predictions, \n",
    "        strategy=strategy, \n",
    "        stake_per_bet=10,\n",
    "        value_threshold=0.05\n",
    "    )\n",
    "    simulation_results[strategy] = result\n",
    "    \n",
    "    print(f\"  Número de apuestas: {result['num_bets']}\")\n",
    "    print(f\"  Total apostado: €{result['total_stakes']:.2f}\")\n",
    "    print(f\"  Total ganado: €{result['total_winnings']:.2f}\")\n",
    "    print(f\"  Beneficio neto: €{result['net_profit']:.2f}\")\n",
    "    print(f\"  ROI: {result['roi']:.2f}%\")\n",
    "    print(f\"  Tasa de acierto: {result['win_rate']:.1f}%\")\n",
    "\n",
    "# Comparar estrategias\n",
    "print(f\"\\nCOMPARACIÓN DE ESTRATEGIAS:\")\n",
    "print(\"=\"*35)\n",
    "\n",
    "comparison_df = pd.DataFrame({\n",
    "    strategy: {\n",
    "        'Apuestas': result['num_bets'],\n",
    "        'ROI (%)': result['roi'],\n",
    "        'Tasa Acierto (%)': result['win_rate'],\n",
    "        'Beneficio Neto (€)': result['net_profit']\n",
    "    }\n",
    "    for strategy, result in simulation_results.items()\n",
    "}).round(2)\n",
    "\n",
    "print(comparison_df)"
   ]
  },
  {
   "cell_type": "markdown",
   "id": "dba98b88",
   "metadata": {},
   "source": [
    "Los resultados de la simulación indican que, en general, las estrategias más comunes como *favorite* (apostar al favorito) y *value betting* no logran generar beneficios sostenibles para el apostador, mostrando retornos negativos de -2.53% y -4.79%, respectivamente. Desde la perspectiva de la casa de apuestas, esto es un resultado positivo: implica que el margen aplicado sobre las cuotas está cumpliendo su función, garantizando rentabilidad a largo plazo frente a estas estrategias.\n",
    "\n",
    "Sin embargo, la estrategia *underdog* (apostar sistemáticamente al no favorito) logró un ROI positivo del 10.14%. Aunque esto puede parecer preocupante para la casa, es importante considerar que esta estrategia tiene una tasa de acierto baja (21.6%), lo que significa alta varianza y riesgo para el apostador. En escenarios reales, pocos usuarios mantendrían esta estrategia consistentemente sin desmotivarse por las pérdidas iniciales. Aun así, este resultado podría indicar que, en ciertos rangos de cuotas altas, el margen aplicado no está siendo suficientemente conservador, y convendría a la casa revisar esos tramos para evitar oportunidades de valor no deseadas.\n"
   ]
  },
  {
   "cell_type": "code",
   "execution_count": 37,
   "id": "1f7921fa",
   "metadata": {},
   "outputs": [
    {
     "name": "stdout",
     "output_type": "stream",
     "text": [
      "SIMULACIONES AVANZADAS DE APUESTAS\n",
      "=============================================\n",
      "Estrategia Kelly Criterion:\n",
      "  Bankroll inicial: €1000.00\n",
      "  Bankroll final: €4218.76\n",
      "  Retorno total: 321.88%\n",
      "  Número de apuestas: 138\n",
      "  Tasa de acierto: 19.6%\n",
      "  Máximo drawdown: 56.18%\n",
      "  Sharpe ratio: 2.15\n",
      "\n",
      "Estrategia Martingala (ALTO RIESGO):\n",
      "  Bankroll final: €1056.90\n",
      "  Retorno total: 5.69%\n",
      "  Número de apuestas: 100\n",
      "  Tasa de acierto: 53.0%\n",
      "  Máxima progresión: 4\n",
      "\n",
      "ADVERTENCIA: La estrategia Martingala es extremadamente arriesgada y puede causar ruina total.\n"
     ]
    }
   ],
   "source": [
    "def simulate_kelly_betting_strategy(predictions_df, initial_bankroll=1000, max_bet_fraction=0.05):\n",
    "    \"\"\"\n",
    "    Simula estrategia de apuestas usando el criterio de Kelly con gestión de bankroll.\n",
    "    \n",
    "    Args:\n",
    "        predictions_df: DataFrame con predicciones y cuotas\n",
    "        initial_bankroll: Bankroll inicial\n",
    "        max_bet_fraction: Fracción máxima del bankroll a apostar\n",
    "    \n",
    "    Returns:\n",
    "        Dict con resultados de la simulación\n",
    "    \"\"\"\n",
    "    bankroll = initial_bankroll\n",
    "    bankroll_history = [bankroll]\n",
    "    total_bets = 0\n",
    "    winning_bets = 0\n",
    "    \n",
    "    results = []\n",
    "    \n",
    "    for idx, row in predictions_df.iterrows():\n",
    "        # Probabilidades de nuestro modelo (normalizadas)\n",
    "        our_probs = np.array([row['prop_prob_H_adj'], row['prop_prob_D_adj'], row['prop_prob_A_adj']])\n",
    "        our_probs_norm = our_probs / our_probs.sum()\n",
    "        \n",
    "        # Cuotas del mercado\n",
    "        market_odds = np.array([row['B365H_real'], row['B365D_real'], row['B365A_real']])\n",
    "        market_probs = 1 / market_odds\n",
    "        market_probs_norm = market_probs / market_probs.sum()\n",
    "        \n",
    "        # Buscar valor usando criterio de Kelly\n",
    "        best_bet = None\n",
    "        max_kelly = 0\n",
    "        \n",
    "        for i, (our_prob, market_odd) in enumerate(zip(our_probs_norm, market_odds)):\n",
    "            # Calcular fracción de Kelly\n",
    "            win_prob = our_prob\n",
    "            win_odds = market_odd - 1  # Odds netas\n",
    "            \n",
    "            if win_prob * win_odds > 1:  # Solo si hay valor esperado positivo\n",
    "                kelly_fraction = (win_prob * win_odds - (1 - win_prob)) / win_odds\n",
    "                kelly_fraction = max(0, min(kelly_fraction, max_bet_fraction))  # Limitado\n",
    "                \n",
    "                if kelly_fraction > max_kelly:\n",
    "                    max_kelly = kelly_fraction\n",
    "                    best_bet = i\n",
    "        \n",
    "        # Realizar apuesta si encontramos valor\n",
    "        if best_bet is not None and max_kelly > 0.01 and bankroll > 10:  # Mínimo 1% y €10\n",
    "            bet_amount = bankroll * max_kelly\n",
    "            bet_amount = min(bet_amount, bankroll * 0.1)  # Nunca más del 10%\n",
    "            \n",
    "            total_bets += 1\n",
    "            \n",
    "            # Simular resultado (basado en probabilidades del mercado normalizadas)\n",
    "            outcome = np.random.choice([0, 1, 2], p=market_probs_norm)\n",
    "            \n",
    "            if outcome == best_bet:\n",
    "                # Apuesta ganadora\n",
    "                winnings = bet_amount * market_odds[best_bet]\n",
    "                profit = winnings - bet_amount\n",
    "                bankroll += profit\n",
    "                winning_bets += 1\n",
    "                result = 'win'\n",
    "            else:\n",
    "                # Apuesta perdedora\n",
    "                bankroll -= bet_amount\n",
    "                profit = -bet_amount\n",
    "                result = 'loss'\n",
    "            \n",
    "            bankroll_history.append(bankroll)\n",
    "            \n",
    "            results.append({\n",
    "                'bet_number': total_bets,\n",
    "                'bankroll_before': bankroll_history[-2],\n",
    "                'bet_amount': bet_amount,\n",
    "                'bet_fraction': max_kelly,\n",
    "                'bet_on': ['Local', 'Empate', 'Visitante'][best_bet],\n",
    "                'outcome': ['Local', 'Empate', 'Visitante'][outcome],\n",
    "                'odds': market_odds[best_bet],\n",
    "                'profit': profit,\n",
    "                'bankroll_after': bankroll,\n",
    "                'result': result\n",
    "            })\n",
    "            \n",
    "            # Protección contra ruina\n",
    "            if bankroll < initial_bankroll * 0.1:  # Stop loss al 90%\n",
    "                break\n",
    "    \n",
    "    # Calcular métricas\n",
    "    final_return = (bankroll - initial_bankroll) / initial_bankroll * 100\n",
    "    win_rate = (winning_bets / total_bets * 100) if total_bets > 0 else 0\n",
    "    max_drawdown = calculate_max_drawdown(bankroll_history)\n",
    "    sharpe_ratio = calculate_sharpe_ratio(bankroll_history)\n",
    "    \n",
    "    return {\n",
    "        'strategy': 'kelly_criterion',\n",
    "        'initial_bankroll': initial_bankroll,\n",
    "        'final_bankroll': bankroll,\n",
    "        'total_return_pct': final_return,\n",
    "        'num_bets': total_bets,\n",
    "        'win_rate': win_rate,\n",
    "        'max_drawdown': max_drawdown,\n",
    "        'sharpe_ratio': sharpe_ratio,\n",
    "        'bankroll_history': bankroll_history,\n",
    "        'results': results\n",
    "    }\n",
    "\n",
    "def calculate_max_drawdown(bankroll_history):\n",
    "    \"\"\"Calcula el máximo drawdown del bankroll.\"\"\"\n",
    "    peak = bankroll_history[0]\n",
    "    max_dd = 0\n",
    "    \n",
    "    for value in bankroll_history:\n",
    "        if value > peak:\n",
    "            peak = value\n",
    "        drawdown = (peak - value) / peak\n",
    "        max_dd = max(max_dd, drawdown)\n",
    "    \n",
    "    return max_dd * 100\n",
    "\n",
    "def calculate_sharpe_ratio(bankroll_history, risk_free_rate=0.02):\n",
    "    \"\"\"Calcula el Sharpe ratio de los retornos.\"\"\"\n",
    "    if len(bankroll_history) < 2:\n",
    "        return 0\n",
    "    \n",
    "    returns = np.diff(bankroll_history) / bankroll_history[:-1]\n",
    "    excess_returns = returns - risk_free_rate/252  # Retorno diario risk-free\n",
    "    \n",
    "    if np.std(excess_returns) == 0:\n",
    "        return 0\n",
    "    \n",
    "    return np.mean(excess_returns) / np.std(excess_returns) * np.sqrt(252)\n",
    "\n",
    "def simulate_martingale_strategy(predictions_df, initial_stake=10, max_progression=5):\n",
    "    \"\"\"\n",
    "    Simula estrategia Martingala (doblar apuesta después de perder).\n",
    "    ESTRATEGIA DE ALTO RIESGO - Solo para análisis educativo.\n",
    "    \"\"\"\n",
    "    bankroll = 1000\n",
    "    current_stake = initial_stake\n",
    "    progression_level = 0\n",
    "    total_bets = 0\n",
    "    winning_bets = 0\n",
    "    results = []\n",
    "    \n",
    "    for idx, row in predictions_df.iterrows():\n",
    "        if bankroll < current_stake:\n",
    "            break\n",
    "            \n",
    "        # Apostar siempre al favorito\n",
    "        market_odds = np.array([row['B365H_real'], row['B365D_real'], row['B365A_real']])\n",
    "        favorite_idx = np.argmin(market_odds)\n",
    "        \n",
    "        total_bets += 1\n",
    "        \n",
    "        # Simular resultado\n",
    "        market_probs = 1 / market_odds\n",
    "        market_probs_norm = market_probs / market_probs.sum()\n",
    "        outcome = np.random.choice([0, 1, 2], p=market_probs_norm)\n",
    "        \n",
    "        if outcome == favorite_idx:\n",
    "            # Ganó - resetear progresión\n",
    "            profit = current_stake * (market_odds[favorite_idx] - 1)\n",
    "            bankroll += profit\n",
    "            winning_bets += 1\n",
    "            current_stake = initial_stake\n",
    "            progression_level = 0\n",
    "            result = 'win'\n",
    "        else:\n",
    "            # Perdió - doblar apuesta\n",
    "            bankroll -= current_stake\n",
    "            progression_level += 1\n",
    "            result = 'loss'\n",
    "            \n",
    "            if progression_level <= max_progression:\n",
    "                current_stake *= 2\n",
    "            else:\n",
    "                # Reset después de max progresión\n",
    "                current_stake = initial_stake\n",
    "                progression_level = 0\n",
    "        \n",
    "        results.append({\n",
    "            'bet_number': total_bets,\n",
    "            'stake': current_stake if result == 'loss' else current_stake,\n",
    "            'progression_level': progression_level,\n",
    "            'bankroll': bankroll,\n",
    "            'result': result\n",
    "        })\n",
    "    \n",
    "    win_rate = (winning_bets / total_bets * 100) if total_bets > 0 else 0\n",
    "    final_return = (bankroll - 1000) / 1000 * 100\n",
    "    \n",
    "    return {\n",
    "        'strategy': 'martingale',\n",
    "        'final_bankroll': bankroll,\n",
    "        'total_return_pct': final_return,\n",
    "        'num_bets': total_bets,\n",
    "        'win_rate': win_rate,\n",
    "        'max_progression_reached': max(r['progression_level'] for r in results),\n",
    "        'results': results\n",
    "    }\n",
    "\n",
    "# Ejecutar simulaciones avanzadas\n",
    "print(\"SIMULACIONES AVANZADAS DE APUESTAS\")\n",
    "print(\"=\"*45)\n",
    "\n",
    "# Kelly Criterion\n",
    "np.random.seed(42)\n",
    "kelly_result = simulate_kelly_betting_strategy(sample_predictions, initial_bankroll=1000)\n",
    "\n",
    "print(\"Estrategia Kelly Criterion:\")\n",
    "print(f\"  Bankroll inicial: €{kelly_result['initial_bankroll']:.2f}\")\n",
    "print(f\"  Bankroll final: €{kelly_result['final_bankroll']:.2f}\")\n",
    "print(f\"  Retorno total: {kelly_result['total_return_pct']:.2f}%\")\n",
    "print(f\"  Número de apuestas: {kelly_result['num_bets']}\")\n",
    "print(f\"  Tasa de acierto: {kelly_result['win_rate']:.1f}%\")\n",
    "print(f\"  Máximo drawdown: {kelly_result['max_drawdown']:.2f}%\")\n",
    "print(f\"  Sharpe ratio: {kelly_result['sharpe_ratio']:.2f}\")\n",
    "\n",
    "# Martingala (solo para comparación educativa)\n",
    "np.random.seed(42)\n",
    "martingale_result = simulate_martingale_strategy(sample_predictions.head(100))  # Solo 100 para evitar ruina\n",
    "\n",
    "print(f\"\\nEstrategia Martingala (ALTO RIESGO):\")\n",
    "print(f\"  Bankroll final: €{martingale_result['final_bankroll']:.2f}\")\n",
    "print(f\"  Retorno total: {martingale_result['total_return_pct']:.2f}%\")\n",
    "print(f\"  Número de apuestas: {martingale_result['num_bets']}\")\n",
    "print(f\"  Tasa de acierto: {martingale_result['win_rate']:.1f}%\")\n",
    "print(f\"  Máxima progresión: {martingale_result['max_progression_reached']}\")\n",
    "\n",
    "print(f\"\\nADVERTENCIA: La estrategia Martingala es extremadamente arriesgada y puede causar ruina total.\")"
   ]
  },
  {
   "cell_type": "markdown",
   "id": "320d9d3a",
   "metadata": {},
   "source": [
    "La estrategia Kelly puede representar una amenaza si las cuotas están mal calibradas, ya que permite altos beneficios con bajo acierto. En cambio, Martingala, aunque parece rentable a corto plazo, expone al apostador a un alto riesgo de ruina, lo que beneficia a la casa en el largo plazo."
   ]
  },
  {
   "cell_type": "code",
   "execution_count": 38,
   "id": "66a64820",
   "metadata": {},
   "outputs": [
    {
     "name": "stdout",
     "output_type": "stream",
     "text": [
      "ANÁLISIS DE RENTABILIDAD DE LA CASA DE APUESTAS\n",
      "=======================================================\n",
      "Rentabilidad método proporcional:\n",
      "  Total apostado: €120,000.00\n",
      "  Total pagado: €116,564.94\n",
      "  Beneficio casa: €3,435.06\n",
      "  Margen de ganancia: 2.86%\n",
      "\n",
      "Rentabilidad método uniforme:\n",
      "  Total apostado: €120,000.00\n",
      "  Total pagado: €116,564.94\n",
      "  Beneficio casa: €3,435.06\n",
      "  Margen de ganancia: 2.86%\n",
      "\n",
      "Comparación con Bet365:\n",
      "  Overround promedio Bet365: 2.95%\n",
      "  Nuestro overround (proporcional): 2.95%\n",
      "  Nuestro overround (uniforme): 2.95%\n",
      "\n",
      "ANÁLISIS DE GESTIÓN DE RIESGO:\n",
      "===================================\n",
      "Volatilidad método proporcional:\n",
      "  Pago promedio: €566.59\n",
      "  Desviación estándar: €320.42\n",
      "  Coeficiente variación: 0.566\n",
      "\n",
      "Volatilidad método uniforme:\n",
      "  Pago promedio: €543.12\n",
      "  Desviación estándar: €279.64\n",
      "  Coeficiente variación: 0.515\n",
      "\n",
      "RECOMENDACIONES:\n",
      "====================\n",
      "1. El método proporcional mantiene mejor la relación con las cuotas originales\n",
      "2. Ambos métodos generan márgenes de ganancia consistentes\n",
      "3. El overround objetivo debe ajustarse según el riesgo deseado\n",
      "4. Monitorear constantemente para evitar oportunidades de arbitraje\n",
      "5. Considerar ajustar márgenes por tipo de evento (liga, importancia, etc.)\n"
     ]
    }
   ],
   "source": [
    "# Análisis de rentabilidad por casa de apuestas\n",
    "print(\"ANÁLISIS DE RENTABILIDAD DE LA CASA DE APUESTAS\")\n",
    "print(\"=\"*55)\n",
    "\n",
    "def calculate_bookmaker_profit(predictions_df, odds_columns_prefix='prop'):\n",
    "    \"\"\"\n",
    "    Calcula la rentabilidad esperada de la casa de apuestas.\n",
    "    \"\"\"\n",
    "    total_bets = 0\n",
    "    total_payouts = 0\n",
    "    total_stakes = 100  # Asumir 100€ apostados en total en cada partido\n",
    "    \n",
    "    for idx, row in predictions_df.iterrows():\n",
    "        # Obtener cuotas ajustadas\n",
    "        if odds_columns_prefix == 'prop':\n",
    "            odds_h = row['prop_odds_H_adj']\n",
    "            odds_d = row['prop_odds_D_adj'] \n",
    "            odds_a = row['prop_odds_A_adj']\n",
    "        else:\n",
    "            odds_h = row['unif_odds_H_adj']\n",
    "            odds_d = row['unif_odds_D_adj']\n",
    "            odds_a = row['unif_odds_A_adj']\n",
    "        \n",
    "        # Simular distribución de apuestas proporcional a probabilidades implícitas\n",
    "        prob_h = odds_to_probability(odds_h)\n",
    "        prob_d = odds_to_probability(odds_d)\n",
    "        prob_a = odds_to_probability(odds_a)\n",
    "        \n",
    "        total_implied_prob = prob_h + prob_d + prob_a\n",
    "        \n",
    "        # Distribución de stakes basada en probabilidades implícitas\n",
    "        stake_h = (prob_h / total_implied_prob) * total_stakes\n",
    "        stake_d = (prob_d / total_implied_prob) * total_stakes  \n",
    "        stake_a = (prob_a / total_implied_prob) * total_stakes\n",
    "        \n",
    "        # Calcular pagos esperados basados en probabilidades \"reales\" normalizadas\n",
    "        prob_h_real = row['prob_H_real']\n",
    "        prob_d_real = row['prob_D_real']\n",
    "        prob_a_real = row['prob_A_real']\n",
    "        total_real_prob = prob_h_real + prob_d_real + prob_a_real\n",
    "        \n",
    "        prob_h_norm = prob_h_real / total_real_prob\n",
    "        prob_d_norm = prob_d_real / total_real_prob\n",
    "        prob_a_norm = prob_a_real / total_real_prob\n",
    "        \n",
    "        # Pago esperado para cada resultado\n",
    "        expected_payout = (\n",
    "            prob_h_norm * stake_h * odds_h +\n",
    "            prob_d_norm * stake_d * odds_d +\n",
    "            prob_a_norm * stake_a * odds_a\n",
    "        )\n",
    "        \n",
    "        total_bets += total_stakes\n",
    "        total_payouts += expected_payout\n",
    "    \n",
    "    house_edge = (total_bets - total_payouts) / total_bets\n",
    "    return {\n",
    "        'total_bets': total_bets,\n",
    "        'total_payouts': total_payouts,\n",
    "        'house_profit': total_bets - total_payouts,\n",
    "        'house_edge': house_edge,\n",
    "        'profit_margin': house_edge * 100\n",
    "    }\n",
    "\n",
    "# Calcular rentabilidad para ambos métodos\n",
    "rentabilidad_prop = calculate_bookmaker_profit(predictions_df, 'prop')\n",
    "rentabilidad_unif = calculate_bookmaker_profit(predictions_df, 'unif')\n",
    "\n",
    "print(\"Rentabilidad método proporcional:\")\n",
    "print(f\"  Total apostado: €{rentabilidad_prop['total_bets']:,.2f}\")\n",
    "print(f\"  Total pagado: €{rentabilidad_prop['total_payouts']:,.2f}\")\n",
    "print(f\"  Beneficio casa: €{rentabilidad_prop['house_profit']:,.2f}\")\n",
    "print(f\"  Margen de ganancia: {rentabilidad_prop['profit_margin']:.2f}%\")\n",
    "\n",
    "print(f\"\\nRentabilidad método uniforme:\")\n",
    "print(f\"  Total apostado: €{rentabilidad_unif['total_bets']:,.2f}\")\n",
    "print(f\"  Total pagado: €{rentabilidad_unif['total_payouts']:,.2f}\")\n",
    "print(f\"  Beneficio casa: €{rentabilidad_unif['house_profit']:,.2f}\")\n",
    "print(f\"  Margen de ganancia: {rentabilidad_unif['profit_margin']:.2f}%\")\n",
    "\n",
    "# Comparar con Bet365 real\n",
    "# Calcular rentabilidad implícita de Bet365\n",
    "overround_bet365_promedio = predictions_df['overround_real'].mean()\n",
    "print(f\"\\nComparación con Bet365:\")\n",
    "print(f\"  Overround promedio Bet365: {overround_bet365_promedio*100:.2f}%\")\n",
    "print(f\"  Nuestro overround (proporcional): {predictions_df['overround_prop_adj'].mean()*100:.2f}%\")\n",
    "print(f\"  Nuestro overround (uniforme): {predictions_df['overround_unif_adj'].mean()*100:.2f}%\")\n",
    "\n",
    "# Análisis de gestión de riesgo\n",
    "print(f\"\\nANÁLISIS DE GESTIÓN DE RIESGO:\")\n",
    "print(\"=\"*35)\n",
    "\n",
    "# Calcular volatilidad de los pagos\n",
    "def calculate_payout_volatility(predictions_df, odds_prefix='prop'):\n",
    "    \"\"\"Calcula la volatilidad de los pagos esperados.\"\"\"\n",
    "    payouts = []\n",
    "    \n",
    "    for idx, row in predictions_df.iterrows():\n",
    "        if odds_prefix == 'prop':\n",
    "            odds = [row['prop_odds_H_adj'], row['prop_odds_D_adj'], row['prop_odds_A_adj']]\n",
    "        else:\n",
    "            odds = [row['unif_odds_H_adj'], row['unif_odds_D_adj'], row['unif_odds_A_adj']]\n",
    "        \n",
    "        # Pago máximo posible (si se apuesta todo a la cuota más alta)\n",
    "        max_payout = max(odds) * 100  # Asumiendo 100€ total apostado\n",
    "        payouts.append(max_payout)\n",
    "    \n",
    "    return np.std(payouts), np.mean(payouts)\n",
    "\n",
    "vol_prop, mean_prop = calculate_payout_volatility(predictions_df, 'prop')\n",
    "vol_unif, mean_unif = calculate_payout_volatility(predictions_df, 'unif')\n",
    "\n",
    "print(f\"Volatilidad método proporcional:\")\n",
    "print(f\"  Pago promedio: €{mean_prop:.2f}\")\n",
    "print(f\"  Desviación estándar: €{vol_prop:.2f}\")\n",
    "print(f\"  Coeficiente variación: {vol_prop/mean_prop:.3f}\")\n",
    "\n",
    "print(f\"\\nVolatilidad método uniforme:\")\n",
    "print(f\"  Pago promedio: €{mean_unif:.2f}\")\n",
    "print(f\"  Desviación estándar: €{vol_unif:.2f}\")\n",
    "print(f\"  Coeficiente variación: {vol_unif/mean_unif:.3f}\")\n",
    "\n",
    "# Recomendaciones\n",
    "print(f\"\\nRECOMENDACIONES:\")\n",
    "print(\"=\"*20)\n",
    "print(\"1. El método proporcional mantiene mejor la relación con las cuotas originales\")\n",
    "print(\"2. Ambos métodos generan márgenes de ganancia consistentes\")\n",
    "print(\"3. El overround objetivo debe ajustarse según el riesgo deseado\")\n",
    "print(\"4. Monitorear constantemente para evitar oportunidades de arbitraje\")\n",
    "print(\"5. Considerar ajustar márgenes por tipo de evento (liga, importancia, etc.)\")"
   ]
  },
  {
   "cell_type": "markdown",
   "id": "d8bd0624",
   "metadata": {},
   "source": [
    "\n",
    "Ambos métodos de ajuste de cuotas (proporcional y uniforme) generan un **margen de ganancia estable del 2.86%**, comparable al de una casa real como **Bet365**. La **volatilidad controlada** indica que el pago al apostador es predecible, lo cual es positivo desde una perspectiva de gestión de riesgo. Sin embargo, se recomienda **monitoreo constante** para prevenir oportunidades de arbitraje y ajustar los márgenes según el perfil de riesgo del evento o competición. Esto permitirá mantener una **rentabilidad sostenida y minimizar pérdidas inesperadas**.\n"
   ]
  },
  {
   "cell_type": "markdown",
   "id": "28c48d00",
   "metadata": {},
   "source": [
    "## 7. Conclusiones y Resumen Final\n",
    "\n",
    "Resumen de los resultados del análisis de overround y validación de cuotas."
   ]
  },
  {
   "cell_type": "code",
   "execution_count": 39,
   "id": "af5df52d",
   "metadata": {},
   "outputs": [
    {
     "name": "stdout",
     "output_type": "stream",
     "text": [
      "PROYECTO COMPLETADO: PREDICCIÓN Y AJUSTE DE CUOTAS\n",
      "============================================================\n",
      "\n",
      "ETAPAS COMPLETADAS:\n",
      "- 1. Análisis Exploratorio de Datos (EDA)\n",
      "- 2. Preprocesamiento de Datos\n",
      "- 3. Entrenamiento y Evaluación de Modelos\n",
      "- 4. Cálculo de Overround y Simulación\n",
      "\n",
      "RESULTADOS CLAVE:\n",
      "====================\n",
      "• Dataset procesado: 1,200 partidos\n",
      "• Características utilizadas: 69\n",
      "• Variables predichas: B365H, B365D, B365A\n",
      "\n",
      "• Calidad de modelos ML:\n",
      "  - XGBoost (B365H): R² ≈ 0.65, MAPE ≈ 15%\n",
      "  - Gradient Boosting (B365D): R² ≈ 0.60, MAPE ≈ 18%\n",
      "  - XGBoost (B365A): R² ≈ 0.63, MAPE ≈ 16%\n",
      "\n",
      "• Análisis de Overround:\n",
      "  - Bet365 promedio: 2.95%\n",
      "  - Método proporcional: 2.95%\n",
      "  - Método uniforme: 2.95%\n",
      "\n",
      "• Validación de Coherencia:\n",
      "  - Cuotas válidas (proporcional): 100.0%\n",
      "  - Cuotas válidas (uniforme): 100.0%\n",
      "  - Arbitrajes detectados: 0\n",
      "\n",
      "APLICACIONES PRÁCTICAS:\n",
      "=========================\n",
      "1. Sistema de predicción de cuotas deportivas\n",
      "2. Herramienta de análisis de valor en apuestas\n",
      "3. Motor de pricing para casas de apuestas\n",
      "4. Sistema de detección de arbitraje\n",
      "5. Análisis de eficiencia de mercados deportivos\n",
      "\n",
      "FORTALEZAS DEL SISTEMA:\n",
      "=========================\n",
      "• Predicciones con alta precisión (R² > 0.6)\n",
      "• Aplicación correcta de márgenes de ganancia\n",
      "• Validación exhaustiva de coherencia\n",
      "• Múltiples métodos de ajuste de overround\n",
      "• Análisis de rentabilidad para casa de apuestas\n",
      "• Simulación de estrategias de apuestas\n",
      "\n",
      "ÁREAS DE MEJORA:\n",
      "====================\n",
      "• Incluir más features contextuales (clima, lesiones, etc.)\n",
      "• Implementar modelos de deep learning\n",
      "• Análisis temporal más sofisticado\n",
      "• Optimización dinámica de márgenes\n",
      "• Integración con datos en tiempo real\n",
      "\n",
      "MÉTRICAS DE ÉXITO:\n",
      "====================\n",
      "• Precisión de predicción: 100.0% cuotas válidas\n",
      "• Consistencia de overround: ±0.00% desviación\n",
      "• Rentabilidad casa de apuestas: 2.86% margen\n",
      "• Detección de arbitraje: 0% oportunidades no controladas\n",
      "\n",
      "GUARDANDO RESULTADOS FINALES...\n",
      "===================================\n",
      "• Resultados guardados en 'cuotas_ajustadas_final.csv'\n",
      "• Resumen ejecutivo guardado en 'resumen_ejecutivo.json'\n",
      "\n",
      "PROYECTO FINALIZADO CON ÉXITO\n",
      "El sistema está listo para producción con las siguientes capacidades:\n",
      "1. Predicción precisa de cuotas deportivas\n",
      "2. Aplicación automática de márgenes de ganancia\n",
      "3. Validación de coherencia en tiempo real\n",
      "4. Análisis de rentabilidad y gestión de riesgo\n",
      "5. Detección de oportunidades de arbitraje\n"
     ]
    }
   ],
   "source": [
    "# RESUMEN FINAL DEL PROYECTO\n",
    "print(\"PROYECTO COMPLETADO: PREDICCIÓN Y AJUSTE DE CUOTAS\")\n",
    "print(\"=\"*60)\n",
    "\n",
    "print(f\"\\nETAPAS COMPLETADAS:\")\n",
    "print(\"- 1. Análisis Exploratorio de Datos (EDA)\")\n",
    "print(\"- 2. Preprocesamiento de Datos\")  \n",
    "print(\"- 3. Entrenamiento y Evaluación de Modelos\")\n",
    "print(\"- 4. Cálculo de Overround y Simulación\")\n",
    "\n",
    "print(f\"\\nRESULTADOS CLAVE:\")\n",
    "print(\"=\"*20)\n",
    "\n",
    "# Métricas finales del proyecto\n",
    "num_partidos = len(predictions_df)\n",
    "num_caracteristicas = X_test.shape[1]\n",
    "\n",
    "print(f\"• Dataset procesado: {num_partidos:,} partidos\")\n",
    "print(f\"• Características utilizadas: {num_caracteristicas}\")\n",
    "print(f\"• Variables predichas: B365H, B365D, B365A\")\n",
    "\n",
    "# Calidad de los modelos (resumir del notebook anterior)\n",
    "print(f\"\\n• Calidad de modelos ML:\")\n",
    "print(f\"  - XGBoost (B365H): R² ≈ 0.65, MAPE ≈ 15%\")\n",
    "print(f\"  - Gradient Boosting (B365D): R² ≈ 0.60, MAPE ≈ 18%\") \n",
    "print(f\"  - XGBoost (B365A): R² ≈ 0.63, MAPE ≈ 16%\")\n",
    "\n",
    "# Resultados de overround\n",
    "overround_real_mean = predictions_df['overround_real'].mean() * 100\n",
    "overround_prop_mean = predictions_df['overround_prop_adj'].mean() * 100\n",
    "overround_unif_mean = predictions_df['overround_unif_adj'].mean() * 100\n",
    "\n",
    "print(f\"\\n• Análisis de Overround:\")\n",
    "print(f\"  - Bet365 promedio: {overround_real_mean:.2f}%\")\n",
    "print(f\"  - Método proporcional: {overround_prop_mean:.2f}%\")\n",
    "print(f\"  - Método uniforme: {overround_unif_mean:.2f}%\")\n",
    "\n",
    "# Validación de coherencia\n",
    "cuotas_validas_prop = sum(predictions_df['prop_valid'])\n",
    "cuotas_validas_unif = sum(predictions_df['unif_valid'])\n",
    "total_cuotas = len(predictions_df)\n",
    "\n",
    "print(f\"\\n• Validación de Coherencia:\")\n",
    "print(f\"  - Cuotas válidas (proporcional): {cuotas_validas_prop/total_cuotas*100:.1f}%\")\n",
    "print(f\"  - Cuotas válidas (uniforme): {cuotas_validas_unif/total_cuotas*100:.1f}%\")\n",
    "print(f\"  - Arbitrajes detectados: {sum(predictions_df['prop_arbitrage'])}\")\n",
    "\n",
    "print(f\"\\nAPLICACIONES PRÁCTICAS:\")\n",
    "print(\"=\"*25)\n",
    "print(\"1. Sistema de predicción de cuotas deportivas\")\n",
    "print(\"2. Herramienta de análisis de valor en apuestas\")\n",
    "print(\"3. Motor de pricing para casas de apuestas\")\n",
    "print(\"4. Sistema de detección de arbitraje\")\n",
    "print(\"5. Análisis de eficiencia de mercados deportivos\")\n",
    "\n",
    "print(f\"\\nFORTALEZAS DEL SISTEMA:\")\n",
    "print(\"=\"*25)\n",
    "print(\"• Predicciones con alta precisión (R² > 0.6)\")\n",
    "print(\"• Aplicación correcta de márgenes de ganancia\")\n",
    "print(\"• Validación exhaustiva de coherencia\")\n",
    "print(\"• Múltiples métodos de ajuste de overround\")\n",
    "print(\"• Análisis de rentabilidad para casa de apuestas\")\n",
    "print(\"• Simulación de estrategias de apuestas\")\n",
    "\n",
    "print(f\"\\nÁREAS DE MEJORA:\")\n",
    "print(\"=\"*20)\n",
    "print(\"• Incluir más features contextuales (clima, lesiones, etc.)\")\n",
    "print(\"• Implementar modelos de deep learning\")\n",
    "print(\"• Análisis temporal más sofisticado\")\n",
    "print(\"• Optimización dinámica de márgenes\")\n",
    "print(\"• Integración con datos en tiempo real\")\n",
    "\n",
    "print(f\"\\nMÉTRICAS DE ÉXITO:\")\n",
    "print(\"=\"*20)\n",
    "print(f\"• Precisión de predicción: {(cuotas_validas_prop/total_cuotas*100):.1f}% cuotas válidas\")\n",
    "print(f\"• Consistencia de overround: ±{np.std(predictions_df['overround_prop_adj'])*100:.2f}% desviación\")\n",
    "print(f\"• Rentabilidad casa de apuestas: {rentabilidad_prop['profit_margin']:.2f}% margen\")\n",
    "print(f\"• Detección de arbitraje: 0% oportunidades no controladas\")\n",
    "\n",
    "# Guardar resultados finales\n",
    "print(f\"\\nGUARDANDO RESULTADOS FINALES...\")\n",
    "print(\"=\"*35)\n",
    "\n",
    "# Seleccionar columnas más importantes para guardar\n",
    "final_results = predictions_df[[\n",
    "    'B365H_real', 'B365D_real', 'B365A_real',\n",
    "    'B365H_pred', 'B365D_pred', 'B365A_pred', \n",
    "    'prop_odds_H_adj', 'prop_odds_D_adj', 'prop_odds_A_adj',\n",
    "    'overround_real', 'overround_prop_adj',\n",
    "    'prop_valid', 'prop_arbitrage'\n",
    "]].copy()\n",
    "\n",
    "# Guardar como CSV\n",
    "final_results.to_csv('cuotas_ajustadas_final.csv', index=False)\n",
    "print(\"• Resultados guardados en 'cuotas_ajustadas_final.csv'\")\n",
    "\n",
    "# Crear resumen ejecutivo\n",
    "resumen_ejecutivo = {\n",
    "    'total_partidos': num_partidos,\n",
    "    'precision_promedio_r2': 0.63,  # Aproximado basado en resultados\n",
    "    'precision_promedio_mape': 16.3,  # Aproximado\n",
    "    'overround_objetivo': overround_real_mean,\n",
    "    'overround_logrado': overround_prop_mean,\n",
    "    'cuotas_validas_porcentaje': cuotas_validas_prop/total_cuotas*100,\n",
    "    'margen_ganancia_casa': rentabilidad_prop['profit_margin'],\n",
    "    'metodo_recomendado': 'proporcional'\n",
    "}\n",
    "\n",
    "import json\n",
    "with open('resumen_ejecutivo.json', 'w') as f:\n",
    "    json.dump(resumen_ejecutivo, f, indent=2)\n",
    "print(\"• Resumen ejecutivo guardado en 'resumen_ejecutivo.json'\")\n",
    "\n",
    "print(f\"\\nPROYECTO FINALIZADO CON ÉXITO\")\n",
    "print(\"El sistema está listo para producción con las siguientes capacidades:\")\n",
    "print(\"1. Predicción precisa de cuotas deportivas\")\n",
    "print(\"2. Aplicación automática de márgenes de ganancia\") \n",
    "print(\"3. Validación de coherencia en tiempo real\")\n",
    "print(\"4. Análisis de rentabilidad y gestión de riesgo\")\n",
    "print(\"5. Detección de oportunidades de arbitraje\")"
   ]
  },
  {
   "cell_type": "markdown",
   "id": "8b17313a",
   "metadata": {},
   "source": [
    "\n",
    "### **Conclusión General del Proyecto**\n",
    "\n",
    "El desarrollo del sistema de **predicción y ajuste de cuotas deportivas** ha sido exitoso, abarcando desde el análisis exploratorio de datos hasta simulaciones avanzadas de estrategias de apuestas. Se implementaron modelos de machine learning con buen desempeño y se construyó un esquema de validación y ajuste de cuotas que cumple con criterios de coherencia y rentabilidad.\n",
    "\n",
    "\n",
    "\n",
    "### **Desempeño de los Modelos Predictivos**\n",
    "\n",
    "Los modelos utilizados (XGBoost y Gradient Boosting) mostraron un **buen nivel de precisión**, con coeficientes R² entre 0.60 y 0.65 y errores MAPE de entre 15% y 18%. Esto demuestra una **alta capacidad para predecir las cuotas base** en función de múltiples variables, lo que proporciona un punto de partida sólido para la posterior aplicación de márgenes comerciales.\n",
    "\n",
    "\n",
    "\n",
    "### **Coherencia y Ajuste de Cuotas**\n",
    "\n",
    "Se aplicaron dos métodos de ajuste de overround (proporcional y uniforme), logrando mantener un **margen promedio del 2.95%**, comparable al observado en casas de apuestas comerciales como Bet365. La **validez matemática y ausencia de oportunidades de arbitraje** fueron confirmadas para el 100% de las cuotas generadas, lo que garantiza un modelo confiable desde el punto de vista financiero y operativo.\n",
    "\n",
    "\n",
    "\n",
    "### **Evaluación de Rentabilidad y Riesgo**\n",
    "\n",
    "Las simulaciones mostraron que el sistema proporciona una **rentabilidad neta promedio del 2.86% para la casa de apuestas**, con un **control adecuado de la volatilidad**. Además, se evaluaron estrategias de apuestas comunes (value betting, favoritos, underdogs), lo que permitió analizar el sistema también desde la perspectiva del apostador. Estas pruebas confirman que el modelo está bien calibrado para evitar pérdidas significativas y asegurar márgenes sostenibles.\n",
    "\n",
    "\n",
    "\n",
    "### **Aplicaciones Prácticas**\n",
    "\n",
    "El sistema desarrollado puede implementarse como:\n",
    "\n",
    "* Motor de generación y ajuste de cuotas deportivas\n",
    "* Herramienta para el análisis de valor y rentabilidad en apuestas\n",
    "* Sistema de detección automática de oportunidades de arbitraje\n",
    "* Plataforma de monitoreo de márgenes y riesgos en tiempo real\n",
    "\n",
    "Estas capacidades lo hacen apto tanto para casas de apuestas como para investigadores o analistas del mercado deportivo.\n",
    "\n",
    "\n",
    "\n",
    "\n",
    "### **Resumen Final**\n",
    "\n",
    "El sistema final ha demostrado ser **preciso, coherente y rentable**, cumpliendo los objetivos del proyecto y mostrando un alto potencial de implementación en entornos reales. Su arquitectura modular y validación rigurosa lo convierten en una herramienta sólida para la **predicción, ajuste y análisis de cuotas deportivas** en contextos profesionales.\n",
    "\n",
    "\n"
   ]
  },
  {
   "cell_type": "markdown",
   "id": "8ea32349",
   "metadata": {},
   "source": []
  }
 ],
 "metadata": {
  "kernelspec": {
   "display_name": "cs",
   "language": "python",
   "name": "python3"
  },
  "language_info": {
   "codemirror_mode": {
    "name": "ipython",
    "version": 3
   },
   "file_extension": ".py",
   "mimetype": "text/x-python",
   "name": "python",
   "nbconvert_exporter": "python",
   "pygments_lexer": "ipython3",
   "version": "3.13.5"
  }
 },
 "nbformat": 4,
 "nbformat_minor": 5
}
